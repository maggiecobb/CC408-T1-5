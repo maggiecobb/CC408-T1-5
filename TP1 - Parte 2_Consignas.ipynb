{
 "cells": [
  {
   "cell_type": "markdown",
   "metadata": {
    "collapsed": true,
    "id": "Dh8MkXaG-c9Y"
   },
   "source": [
    "# Ciencia de datos (CC408) - Primavera 2024\n",
    "\n",
    "## Trabajo Práctico 1 - Parte 2"
   ]
  },
  {
   "cell_type": "markdown",
   "metadata": {
    "id": "RhBlm6mZ-c9e"
   },
   "source": [
    "### Reglas de formato y presentación\n",
    "- El trabajo debe estar debidamente documentado comentado (utilizando #) para que tanto los docentes como sus compañeros puedan comprender el código fácilmente.\n",
    "\n",
    "- El mismo debe ser completado en este Jupyter Notebook y entregado como tal, es decir en un archivo .ipynb\n"
   ]
  },
  {
   "cell_type": "markdown",
   "metadata": {
    "id": "ZEjGaa4U-c9g"
   },
   "source": [
    "### Fecha de entrega:\n",
    "Domingo Domingo 8 de septiembre a las 23:59hs"
   ]
  },
  {
   "cell_type": "markdown",
   "metadata": {
    "id": "N9TU2y7E-c9h"
   },
   "source": [
    "### Modalidad de entrega\n",
    "- Al finalizar el trabajo práctico deben hacer un último <i>commit</i> en su repositorio de GitHub llamado “Entrega final del tp”. \n",
    "- Asegurense de haber creado una carpeta llamada TP1. Este Jupyter Notebook y el correspondiente al TP1 - Parte 2 deben estar dentro de esa carpeta.\n",
    "- También deben enviar el link de su repositorio -para que pueda ser clonado y corregido- al siguiente email: ispiousas@udesa.edu.ar\n",
    "- La última versión en el repositorio es la que será evaluada. Por lo que es importante que: \n",
    "    - No envien el correo hasta no haber terminado y estar seguros de que han hecho el <i>commit y push</i> a la versión final que quieren entregar. Debido a que se pueden tomar hasta 3 días de extensión a lo largo del curso, no se corregirán sus tareas hasta no recibir el correo.\n",
    "    - No hagan nuevos <i>push</i> despues de haber entregado su versión final. Esto generaría confusión acerca de que versión es la que quieren que se les corrija. "
   ]
  },
  {
   "cell_type": "markdown",
   "metadata": {},
   "source": [
    "### Parte A"
   ]
  },
  {
   "cell_type": "markdown",
   "metadata": {
    "id": "ZXbrPraa-c9i"
   },
   "source": [
    "#### Ejercicio 1\n",
    "Usando la API de Mercado Libre, obtener los ítems de una consulta de búsqueda. Pueden buscar cualquier producto de su interés."
   ]
  },
  {
   "cell_type": "code",
   "execution_count": 1,
   "metadata": {},
   "outputs": [],
   "source": [
    "# Resolver acá\n"
   ]
  },
  {
   "cell_type": "markdown",
   "metadata": {},
   "source": [
    "#### Ejercicio 2\n",
    "Guarden los precios de los ítems obtenidos en un dataframe y calculen el precio promedio, el mínimo y el máximo. "
   ]
  },
  {
   "cell_type": "code",
   "execution_count": null,
   "metadata": {},
   "outputs": [],
   "source": [
    "# Resolver acá\n"
   ]
  },
  {
   "cell_type": "markdown",
   "metadata": {},
   "source": [
    "#### Ejercicio 3\n",
    "Armen un histograma de los precios. ¿Ven algún <i>outlier<i>? \n",
    "Nota: pueden usar la librería de Matplotlib o la de Pandas."
   ]
  },
  {
   "cell_type": "code",
   "execution_count": null,
   "metadata": {},
   "outputs": [],
   "source": [
    "# Resolver acá\n"
   ]
  },
  {
   "cell_type": "markdown",
   "metadata": {},
   "source": [
    "#### Ejercicio 4\n",
    "Realicen alguna consulta adicional utilizando la API de Mercado Libre (debe ser alguna consulta que no se haya visto en clase. Por ejemplo, obtener los ítems de un vendedor en particular, obtener los productos de una categoría u otros). Analicen los resultados y comenten uno o dos que les parezcan interesantes (por ejemplo, precios promedio de los productos de un vendedor, diferencia entre el precio original y actual, si acepta mercado pago para la compra de productos, etc.) "
   ]
  },
  {
   "cell_type": "code",
   "execution_count": null,
   "metadata": {},
   "outputs": [],
   "source": [
    "# Resolver acá\n"
   ]
  },
  {
   "cell_type": "markdown",
   "metadata": {},
   "source": [
    "### Parte B"
   ]
  },
  {
   "cell_type": "markdown",
   "metadata": {},
   "source": [
    "#### Ejercicio 5\n",
    "De la página de noticias del [diario La Nación](https://www.lanacion.com.ar/), utilicen herramientas de web scraping para obtener los links de las noticias de la portada. Guarden los links obtenidos en un dataframe y expórtenlo a un archivo de excel.\n",
    "\n",
    "Nota 1: es posible que logren obtener los links a las noticias sin el dominio: \"https://www.lanacion.com.ar/\". De ser así, concatenen el dominio a la ruta del link obtenido, tal que se obtenga un link al que se pueda acceder. Es decir, que las cadenas de caracteres finales tendrán la forma: https://www.lanacion.com.ar/*texto_obtenido*)\n",
    "\n",
    "Nota 2: junto con su entrega, adjunten una captura de la página de noticias al momento de correr su código. Eso servirá al momento de la corrección para verificar que los links obtenidos hacen referencia a las noticias de ese día y hora."
   ]
  },
  {
   "cell_type": "code",
   "execution_count": null,
   "metadata": {},
   "outputs": [],
   "source": [
    "# Resolver acá\n",
    "\n",
    "\n",
    "#Instalo e importo las librerias y paquetes que necesito\n",
    "!pip install requests\n",
    "!pip install BeautifulSoup\n",
    "!pip install pandas\n",
    "\n",
    "import requests \n",
    "from bs4 import BeautifulSoup \n",
    "import pandas as pd \n",
    "import openpyxl\n"
   ]
  },
  {
   "cell_type": "code",
   "execution_count": 66,
   "metadata": {},
   "outputs": [],
   "source": [
    "url_LN = \"https://www.lanacion.com.ar/\"\n",
    "\n",
    "r = requests.get(url_LN) #traigo el contenido del html de La Nacion\n",
    "contenido = r.content\n",
    "soup = BeautifulSoup(contenido, \"html.parser\")"
   ]
  },
  {
   "cell_type": "code",
   "execution_count": 71,
   "metadata": {},
   "outputs": [],
   "source": [
    "#Dentro de la sopa busco los elementos hyperlink <a href>. \n",
    "#Indico que son solo los links de las noticias de la portada (con class_). Aca excluyo hyperlinks que van a otras secciones de la pagina.\n",
    "link_elements = soup.find_all('a', href = True, class_ = \"link ln-link flex flex-column --unstyled\")\n",
    "\n",
    "#Creo una lista para guardar los links encontrados. \n",
    "#Para cada elemento encontrado extraigo unicamente el link (extraigo el elemento \"href\") y lo concateno con el dominio\n",
    "\n",
    "hyperlinks = []\n",
    "\n",
    "for link_element in link_elements:\n",
    "    hyperlink = str(\"https://www.lanacion.com.ar\" + link_element['href'])\n",
    "    titulo_noticia = str(link_element['title'])\n",
    "\n",
    "    hyperlinks.append({\n",
    "        'Titulo de noticia' : titulo_noticia, \n",
    "        'Link a noticia' : hyperlink         \n",
    "    })"
   ]
  },
  {
   "cell_type": "code",
   "execution_count": 72,
   "metadata": {},
   "outputs": [
    {
     "data": {
      "text/html": [
       "<div>\n",
       "<style scoped>\n",
       "    .dataframe tbody tr th:only-of-type {\n",
       "        vertical-align: middle;\n",
       "    }\n",
       "\n",
       "    .dataframe tbody tr th {\n",
       "        vertical-align: top;\n",
       "    }\n",
       "\n",
       "    .dataframe thead th {\n",
       "        text-align: right;\n",
       "    }\n",
       "</style>\n",
       "<table border=\"1\" class=\"dataframe\">\n",
       "  <thead>\n",
       "    <tr style=\"text-align: right;\">\n",
       "      <th></th>\n",
       "      <th>Titulo de noticia</th>\n",
       "      <th>Link a noticia</th>\n",
       "    </tr>\n",
       "  </thead>\n",
       "  <tbody>\n",
       "    <tr>\n",
       "      <th>0</th>\n",
       "      <td>Juicio por la expropiación de YPF. La justicia...</td>\n",
       "      <td>https://www.lanacion.com.ar/economia/juicio-po...</td>\n",
       "    </tr>\n",
       "    <tr>\n",
       "      <th>1</th>\n",
       "      <td>Juega la selección. El video con el que Ángel ...</td>\n",
       "      <td>https://www.lanacion.com.ar/deportes/futbol/ar...</td>\n",
       "    </tr>\n",
       "    <tr>\n",
       "      <th>2</th>\n",
       "      <td>Adiós a una leyenda. El homenaje a Di María: “...</td>\n",
       "      <td>https://www.lanacion.com.ar/deportes/futbol/un...</td>\n",
       "    </tr>\n",
       "    <tr>\n",
       "      <th>3</th>\n",
       "      <td>Conflicto aeronáutico. El paro en Ezeiza y Aer...</td>\n",
       "      <td>https://www.lanacion.com.ar/sociedad/conflicto...</td>\n",
       "    </tr>\n",
       "    <tr>\n",
       "      <th>4</th>\n",
       "      <td>Deuda. Para un exfuncionario del FMI, “sería u...</td>\n",
       "      <td>https://www.lanacion.com.ar/economia/para-un-e...</td>\n",
       "    </tr>\n",
       "    <tr>\n",
       "      <th>...</th>\n",
       "      <td>...</td>\n",
       "      <td>...</td>\n",
       "    </tr>\n",
       "    <tr>\n",
       "      <th>115</th>\n",
       "      <td>Un rincón fundamental. 10 ideas para ponerle o...</td>\n",
       "      <td>https://www.lanacion.com.ar/revista-living/10-...</td>\n",
       "    </tr>\n",
       "    <tr>\n",
       "      <th>116</th>\n",
       "      <td>Calendario AUH. Cuándo se cobra la Asignación ...</td>\n",
       "      <td>https://www.lanacion.com.ar/economia/calendari...</td>\n",
       "    </tr>\n",
       "    <tr>\n",
       "      <th>117</th>\n",
       "      <td>Día y horario. Cuándo es la ceremonia de los M...</td>\n",
       "      <td>https://www.lanacion.com.ar/espectaculos/cuand...</td>\n",
       "    </tr>\n",
       "    <tr>\n",
       "      <th>118</th>\n",
       "      <td>Tardes primaverales. Así estará el clima duran...</td>\n",
       "      <td>https://www.lanacion.com.ar/clima/el-clima-en-...</td>\n",
       "    </tr>\n",
       "    <tr>\n",
       "      <th>119</th>\n",
       "      <td>Según tu ascendente. Así impacta la conexión d...</td>\n",
       "      <td>https://www.lanacion.com.ar/horoscopo/horoscop...</td>\n",
       "    </tr>\n",
       "  </tbody>\n",
       "</table>\n",
       "<p>120 rows × 2 columns</p>\n",
       "</div>"
      ],
      "text/plain": [
       "                                     Titulo de noticia  \\\n",
       "0    Juicio por la expropiación de YPF. La justicia...   \n",
       "1    Juega la selección. El video con el que Ángel ...   \n",
       "2    Adiós a una leyenda. El homenaje a Di María: “...   \n",
       "3    Conflicto aeronáutico. El paro en Ezeiza y Aer...   \n",
       "4    Deuda. Para un exfuncionario del FMI, “sería u...   \n",
       "..                                                 ...   \n",
       "115  Un rincón fundamental. 10 ideas para ponerle o...   \n",
       "116  Calendario AUH. Cuándo se cobra la Asignación ...   \n",
       "117  Día y horario. Cuándo es la ceremonia de los M...   \n",
       "118  Tardes primaverales. Así estará el clima duran...   \n",
       "119  Según tu ascendente. Así impacta la conexión d...   \n",
       "\n",
       "                                        Link a noticia  \n",
       "0    https://www.lanacion.com.ar/economia/juicio-po...  \n",
       "1    https://www.lanacion.com.ar/deportes/futbol/ar...  \n",
       "2    https://www.lanacion.com.ar/deportes/futbol/un...  \n",
       "3    https://www.lanacion.com.ar/sociedad/conflicto...  \n",
       "4    https://www.lanacion.com.ar/economia/para-un-e...  \n",
       "..                                                 ...  \n",
       "115  https://www.lanacion.com.ar/revista-living/10-...  \n",
       "116  https://www.lanacion.com.ar/economia/calendari...  \n",
       "117  https://www.lanacion.com.ar/espectaculos/cuand...  \n",
       "118  https://www.lanacion.com.ar/clima/el-clima-en-...  \n",
       "119  https://www.lanacion.com.ar/horoscopo/horoscop...  \n",
       "\n",
       "[120 rows x 2 columns]"
      ]
     },
     "execution_count": 72,
     "metadata": {},
     "output_type": "execute_result"
    }
   ],
   "source": [
    "#Creo un dataframe con la lista de hyperlinks de la portada\n",
    "\n",
    "df_hyperlinks = pd.DataFrame(hyperlinks)\n",
    "df_hyperlinks"
   ]
  },
  {
   "cell_type": "code",
   "execution_count": 70,
   "metadata": {},
   "outputs": [],
   "source": [
    "#Exporto el dataframe a un archivo de excel\n",
    "df_hyperlinks.to_excel('hyperlinksLN.xlsx', index=False)\n"
   ]
  }
 ],
 "metadata": {
  "anaconda-cloud": {},
  "colab": {
   "name": "TP1 - Parte 1.ipynb",
   "provenance": []
  },
  "kernelspec": {
   "display_name": "Python 3 (ipykernel)",
   "language": "python",
   "name": "python3"
  },
  "language_info": {
   "codemirror_mode": {
    "name": "ipython",
    "version": 3
   },
   "file_extension": ".py",
   "mimetype": "text/x-python",
   "name": "python",
   "nbconvert_exporter": "python",
   "pygments_lexer": "ipython3",
   "version": "3.9.19"
  }
 },
 "nbformat": 4,
 "nbformat_minor": 1
}
