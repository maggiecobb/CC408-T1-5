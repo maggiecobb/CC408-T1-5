{
 "cells": [
  {
   "cell_type": "markdown",
   "metadata": {},
   "source": [
    "#### Ciencia de datos - Primavera 2024\n",
    "##### Integrantes: Magdalena Cobb, Pedro García Vassallo, Marcos Olavarría\n",
    "### Trabajo Práctico 4"
   ]
  },
  {
   "cell_type": "markdown",
   "metadata": {},
   "source": [
    "## 1. Lectura de la base"
   ]
  },
  {
   "cell_type": "code",
   "execution_count": 5,
   "metadata": {},
   "outputs": [],
   "source": [
    "#Paquetes y librerías a usar\n",
    "#!pip install openpyxl\n",
    "#!pip install statsmodels\n",
    "\n",
    "import pandas as pd \n",
    "import numpy as np\n",
    "import matplotlib.pyplot as plt\n",
    "import seaborn as sns\n",
    "import statsmodels.api as sm \n",
    "\n",
    "from sklearn.experimental import enable_iterative_imputer\n",
    "from sklearn.impute import IterativeImputer\n",
    "from sklearn.preprocessing import StandardScaler\n",
    "from sklearn.decomposition import PCA\n",
    "from sklearn.model_selection import train_test_split\n",
    "from sklearn.linear_model import LinearRegression\n",
    "\n",
    "from sklearn import datasets\n",
    "from sklearn.linear_model import LogisticRegression\n",
    "from sklearn.metrics import confusion_matrix\n",
    "from sklearn.metrics import accuracy_score, recall_score \n",
    "from sklearn.metrics import roc_curve\n",
    "from sklearn.metrics import roc_auc_score\n",
    "from sklearn.metrics import RocCurveDisplay\n",
    "#from sklearn.metrics import plot_roc_curve\n",
    "from sklearn.discriminant_analysis import LinearDiscriminantAnalysis\n",
    "from sklearn.neighbors import KNeighborsClassifier"
   ]
  },
  {
   "cell_type": "code",
   "execution_count": 6,
   "metadata": {},
   "outputs": [],
   "source": [
    "#Lectura del documento\n",
    "indi_2024 = pd.read_excel('C:/Users/magda/OneDrive/Documents/GitHub/CC408-T1-5/TP 4/usu_individual_T124.xlsx') \n",
    "indi_2004 = pd.read_stata('C:/Users/magda/OneDrive/Documents/GitHub/CC408-T1-5/TP 4/Individual_t104.dta')\n",
    "hoga_2024 = pd.read_excel('C:/Users/magda/OneDrive/Documents/GitHub/CC408-T1-5/TP 4/usu_hogar_T124.xlsx')\n",
    "hoga_2004 = pd.read_stata('C:/Users/magda/OneDrive/Documents/GitHub/CC408-T1-5/TP 4/Hogar_t104.dta')\n",
    "\n",
    "# Maggie: C:/Users/magda/OneDrive/Documents/GitHub/CC408-T1-5/TP 4/\n",
    "# Peter: 'C:/Users/SAMSUNG/Documents/GitHub/CC408-T1-5/TP 4/\n",
    "# Marck: C:/Users/marcos.olavarria/Documents/GitHub/CC408/TP 4/\n"
   ]
  },
  {
   "cell_type": "markdown",
   "metadata": {},
   "source": [
    "## 2. Selección de GBA y merge"
   ]
  },
  {
   "cell_type": "markdown",
   "metadata": {},
   "source": [
    "a. Eliminen todas las observaciones que no corresponden a los\n",
    "aglomerados de Ciudad Autónoma de Buenos Aires o Gran Buenos\n",
    "Aires, y unan ambos trimestres en una sola base."
   ]
  },
  {
   "cell_type": "code",
   "execution_count": 606,
   "metadata": {},
   "outputs": [],
   "source": [
    "#Filtramos las bases para tener solo Buenos Aires\n",
    "ind_2024 = indi_2024[(indi_2024['AGLOMERADO'] == 33) | (indi_2024['AGLOMERADO'] == 32)]\n",
    "hog_2024 = hoga_2024[(hoga_2024['AGLOMERADO'] == 33) | (hoga_2024 ['AGLOMERADO'] == 32 )]\n",
    "\n",
    "ind_2004 = indi_2004[(indi_2004['aglomerado'] == 'Ciudad de Buenos Aires') | (indi_2004 ['aglomerado'] == 'Partidos del GBA' )]\n",
    "hog_2004 = hoga_2004[(hoga_2004['aglomerado'] == 'Ciudad de Buenos Aires') | (hoga_2004 ['aglomerado'] == 'Partidos del GBA' )]\n",
    "\n",
    "ind_2004.columns = ind_2004.columns.str.upper()\n",
    "hog_2004.columns = hog_2004.columns.str.upper()\n"
   ]
  },
  {
   "cell_type": "code",
   "execution_count": 607,
   "metadata": {},
   "outputs": [],
   "source": [
    "#Eliminación de columnas redundantes (preguntas hechas solo para ocupados o desocupados)\n",
    "redundantes_ind04 = [\n",
    "    \"CAT_INAC\",\n",
    "    \"PP08D1\", \"PP08D4\", \"PP08F1\", \"PP08F2\", \"PP08J1\", \"PP08J2\", \"PP08J3\",\n",
    "    \"PP11A\", \"PP11B_COD\", \"PP11B1\", \"PP11B2_MES\", \"PP11B2_ANO\", \"PP11B2_DIA\", \"PP11C\", \"PP11C99\", \"PP11D_COD\",\n",
    "    \"PP11G_ANO\", \"PP11G_MES\", \"PP11G_DIA\", \"PP11L\", \"PP11L1\", \"PP11M\", \"PP11N\", \"PP11O\", \"PP11P\", \"PP11Q\", \"PP11R\", \n",
    "    \"PP11S\", \"PP11T\", \"PP02C1\", \"PP02C2\", \"PP02C3\", \"PP02C4\", \"PP02C5\", \"PP02C6\", \"PP02C7\", \"PP02C8\", \"PP02E\", \n",
    "    \"PP02H\", \"PP02I\", \"CAT_OCUP\", \"PP03C\", \"PP03D\", \"PP3E_TOT\", \"PP3F_TOT\", \"PP03G\", \"PP03H\", \"PP03I\", \"PP03J\", \n",
    "    \"INTENSI\", \"PP04A\", \"PP04B_COD\", \"PP04B1\", \"PP04B2\", \"PP04B3_MES\", \"PP04B3_ANO\", \"PP04B3_DIA\", \"PP04C\", \n",
    "    \"PP04C99\", \"PP04D_COD\", \"PP04G\", \"PP05B2_MES\", \"PP05B2_ANO\", \"PP05B2_DIA\", \"PP05C_1\", \"PP05C_2\", \"PP05C_3\", \n",
    "    \"PP05E\", \"PP05F\", \"PP05H\", \"PP06A\", \"PP06C\", \"PP06E\", \"PP06H\", \"PP06D\", \"PP07A\", \"PP07C\", \"PP07D\", \"PP07E\", \"PP07F1\", \"PP07F2\", \n",
    "    \"PP07F3\", \"PP07F4\", \"PP07F5\", \"PP07G1\", \"PP07G2\", \"PP07G3\", \"PP07G4\", \"PP07G_59\", \"PP07H\", \"PP07I\", \"PP07J\", \n",
    "    \"PP07K\", \"P21\", \"DECOCUR\", \"IDECOCUR\", \"RDECOCUR\", \"GDECOCUR\", \"PDECOCUR\", \"ADECOCUR\", \"TOT_P12\", \"PJ1_1\", \n",
    "    \"PJ2_1\", \"PJ3_1\", \"IDIMPP\", 'PP09A', 'PP09A_ESP',  'PP09B', 'PP09C',  'PP09C_ESP',  'PP10A','PP10C',  'PP10D', 'PP10E', \n",
    "    'CH15_COD', 'CH16_COD', 'IDECINDR', 'PDECINDR', 'IDECCFR', 'PDECCFR']\n",
    "\n",
    "redundantes_hog04 = [\n",
    "    \"II3\",\n",
    "    \"II3_1\",\n",
    "    \"II6\",\n",
    "    \"II6_1\", \n",
    "    'IDIMPH' , 'IV1_ESP', 'IV7_ESP', 'II7_ESP', 'II8_ESP', 'IDECIFR', 'PDECIFR', 'IDECCFR', 'PDECCFR', 'MAS_500'\n",
    "]\n",
    "\n",
    "redundantes_ind24 = [\n",
    "    \"PP02C1\", \"PP02C2\", \"PP02C3\", \"PP02C4\", \"PP02C5\", \"PP02C6\", \"PP02C7\", \"PP02C8\",\n",
    "    \"PP02E\", \"PP02H\", \"PP02I\", \"PP10A\", \"PP10C\", \"PP10D\", \"PP10E\", \"PP11A\",\n",
    "    \"PP11B_COD\", \"PP11B1\", \"PP11B2_MES\", \"PP11B2_ANO\", \"PP11B2_DIA\", \"PP11C\", \n",
    "    \"PP11C99\", \"PP11D_COD\", \"PP11G_ANO\", \"PP11G_MES\", \"PP11G_DIA\", \"PP11L\", \"PP11L1\",\n",
    "    \"PP11M\", \"PP11N\", \"PP11O\", \"PP11P\", \"PP11Q\", \"PP11R\", \"PP11S\", \"PP11T\",\n",
    "    \"PP03C\", \"PP03D\", \"PP3E_TOT\", \"PP3F_TOT\", \"PP03G\", \"PP03H\", \"PP03I\", \"PP03J\",\n",
    "    \"INTENSI\", \"PP04A\", \"PP04B_COD\", \"PP04B1\", \"PP04B2\", \"PP04B3_MES\", \"PP04B3_ANO\",\n",
    "    \"PP04C\", \"PP04C99\", \"PP04D_COD\", \"PP04G\", \"PP05B2_MES\", \"PP05B2_ANO\", \"PP05B2_DIA\", 'PP04B3_DIA',\n",
    "    \"PP05C_1\", \"PP05C_2\", \"PP05C_3\", \"PP05E\", \"PP05F\", \"PP05H\", \"PP06A\", \"PP06C\",\n",
    "    \"PP06D\", \"PP06E\", \"PP06H\", \"PP07A\", \"PP07C\", \"PP07D\", \"PP07E\", \"PP07F1\", \"PP07F2\",\n",
    "    \"PP07F3\", \"PP07F4\", \"PP07F5\", \"PP07G1\", \"PP07G2\", \"PP07G3\", \"PP07G4\", \"PP07G_59\",\n",
    "    \"PP07H\", \"PP07I\", \"PP07J\", \"PP07K\", \"PP08D1\", \"PP08D4\", \"PP08F1\", \"PP08F2\", \n",
    "    \"PP08J1\", \"PP08J2\", \"PP08J3\", \"PP09A\", \"PP09A_ESP\", \"PP09B\", \"PP09C\", \"PP09C_ESP\",\n",
    "    \"P21\", \"DECOCUR\", \"IDECOCUR\", \"RDECOCUR\", \"GDECOCUR\", \"PDECOCUR\", \"ADECOCUR\",\n",
    "    \"PONDIIO\", \"TOT_P12\", \"P47T\", \"DECINDR\", \"IDECINDR\", \"RDECINDR\", \"GDECINDR\", \n",
    "    \"PDECINDR\", \"ADECINDR\", \"PONDII\",  'PP10A',  'PP10C', 'PP10D',  'PP10E', 'CH15_COD', 'CH16_COD', \n",
    "    'IDECINDR', 'PDECINDR', 'IDECCFR', 'PDECCFR', 'CH05'\n",
    "]\n",
    "\n",
    "redundantes_hog24 = [\n",
    "    \"II3\",\n",
    "    \"II3_1\",\n",
    "    \"II6\",\n",
    "    \"II6_1\", 'IV1_ESP', 'IV3_ESP', 'IV7_ESP', 'II7_ESP', 'II8_ESP','IDECIFR', 'PDECIFR', 'IDECCFR', 'PDECCFR', 'MAS_500'\n",
    "\n",
    "]\n",
    "\n"
   ]
  },
  {
   "cell_type": "code",
   "execution_count": 608,
   "metadata": {},
   "outputs": [],
   "source": [
    "#Sacamos las variables redundantes\n",
    "ind_2004 = ind_2004.drop(columns = redundantes_ind04)\n",
    "ind_2024 = ind_2024.drop(columns = redundantes_ind24)\n",
    "hog_2004 = hog_2004.drop(columns = redundantes_hog04)\n",
    "hog_2024 = hog_2024.drop(columns = redundantes_hog24)"
   ]
  },
  {
   "cell_type": "code",
   "execution_count": 609,
   "metadata": {},
   "outputs": [],
   "source": [
    "#Sacamos de las bases individuales variables que van a aparecer en hogar, para emprolijar el merge\n",
    "lista_con = ['ANO4', 'TRIMESTRE', 'REGION',  'AGLOMERADO', 'PONDERA', 'ITF', 'DECIFR', 'IDECIFR', \n",
    "             'RDECIFR', 'GDECIFR', 'PDECIFR', 'ADECIFR', 'IPCF', 'DECCFR', 'RDECCFR', 'GDECCFR','ADECCFR']\n",
    "\n",
    "lista_con2 = ['ANO4', 'TRIMESTRE', 'REGION', 'AGLOMERADO', 'PONDERA', 'ITF', 'DECIFR', 'IDECIFR', 'RDECIFR',\n",
    "              'GDECIFR', 'PDECIFR', 'ADECIFR', 'IPCF', 'DECCFR', 'RDECCFR', 'GDECCFR', 'ADECCFR','PONDIH']\n",
    "\n",
    "ind_2004 = ind_2004.drop (columns = (lista_con))\n",
    "ind_2024 = ind_2024.drop(columns = (lista_con2))"
   ]
  },
  {
   "cell_type": "code",
   "execution_count": 610,
   "metadata": {},
   "outputs": [],
   "source": [
    "#Mergeamos bases hogar + individual para cada año\n",
    "combined_04 = pd.merge(ind_2004, hog_2004, on=['CODUSU', 'NRO_HOGAR'], how='outer') #7647 obs x 124 variables\n",
    "combined_24 = pd.merge(ind_2024,hog_2024,on=[\"CODUSU\",\"NRO_HOGAR\"], how = 'outer') #7051 obs x 120 variables\n"
   ]
  },
  {
   "cell_type": "markdown",
   "metadata": {},
   "source": [
    "## 3. Limpieza\n",
    "Limpien la base de datos tomando criterios que hagan sentido. Explicar\n",
    "cualquier decisión como el tratamiento de valores faltantes (missing\n",
    "values), extremos (outliers), o variables categóricas. Justifique sus\n",
    "decisiones."
   ]
  },
  {
   "cell_type": "code",
   "execution_count": 611,
   "metadata": {},
   "outputs": [],
   "source": [
    "# Se usa base de datos:\n",
    "# 2024: \n",
    "# - combined_24\n",
    "\n",
    "# 2004:\n",
    "# - combined_04"
   ]
  },
  {
   "cell_type": "markdown",
   "metadata": {},
   "source": [
    "##### Limpieza de datos"
   ]
  },
  {
   "cell_type": "code",
   "execution_count": 612,
   "metadata": {},
   "outputs": [],
   "source": [
    "#Elimino filas con valores negativos para 2004\n",
    "combined_04_clean = combined_04[~(combined_04.select_dtypes(include=[float, int]) < 0).any(axis=1)]\n",
    "combined_04 = combined_04_clean\n",
    "\n",
    "#Elimino filas con valores negativos para 2024\n",
    "combined_24_clean = combined_24[~(combined_24.select_dtypes(include=[float, int]) < 0).any(axis=1)]\n",
    "combined_24 = combined_24_clean\n"
   ]
  },
  {
   "cell_type": "code",
   "execution_count": 613,
   "metadata": {},
   "outputs": [],
   "source": [
    "# ELIMINO OBSERVACIONES QUE CONTESTAN \"NO SABE/ NO RESPONDE\" PARA ALGUNAS PREGUNTAS DEL HOGAR. base 2004\n",
    "# ns_nr = (combined_04.select_dtypes(include=[int]) == 288405).any(axis=1)\n",
    "# ns_nr[ns_nr]\n",
    "\n",
    "# combined_04_cleannsnr = combined_04[~(combined_04.select_dtypes(include=['object']) == 'Ns./Nr.').any(axis=1)]\n",
    "# combined_04 = combined_04_cleannsnr\n"
   ]
  },
  {
   "cell_type": "markdown",
   "metadata": {},
   "source": [
    "#### Valores Faltantes\n",
    "- 2004 tenía 1 columna, se imputaron por la mediana\n",
    "- 2024 se eliminaron los más brutos y se imputaron por la mediana los menos"
   ]
  },
  {
   "cell_type": "markdown",
   "metadata": {},
   "source": [
    "##### 2004\n",
    "-Tenia una columna con valores Nan = IX_MEN10, es el 50%, se imputa por la mediana.\n"
   ]
  },
  {
   "cell_type": "code",
   "execution_count": 614,
   "metadata": {},
   "outputs": [
    {
     "name": "stdout",
     "output_type": "stream",
     "text": [
      "Index(['IX_MEN10'], dtype='object')\n"
     ]
    }
   ],
   "source": [
    "# # Verificar si cada columna tiene algún valor NaN 2004\n",
    "nan_values04 = combined_04.select_dtypes(include=[float, int]).isna().any()\n",
    "columnas_con_nan04 = nan_values04[nan_values04]  # Esto te devuelve solo las columnas que tienen NaN\n",
    "columnas_con_nan04 = columnas_con_nan04.index\n",
    "print(columnas_con_nan04) #Es solo una columna con NaN\n",
    "\n",
    "combined_04 = combined_04.drop(columns = (columnas_con_nan04))"
   ]
  },
  {
   "cell_type": "code",
   "execution_count": 615,
   "metadata": {},
   "outputs": [],
   "source": [
    "# proporcion_columna04 = combined_04['IX_MEN10'].isnull().sum() / len(combined_04) * 100\n",
    "# proporcion_columna04 #El 50% de la columna es nan. puedo imputar por la mediana. \n",
    "\n",
    "# #Se imputa por la mediana\n",
    "# combined_04[columnas_con_nan04] = combined_04[columnas_con_nan04].fillna(combined_04[columnas_con_nan04].median())"
   ]
  },
  {
   "cell_type": "markdown",
   "metadata": {},
   "source": [
    "##### 2024\n",
    "- Tiene columnas con valores Nan\n",
    "- Se revisa la proporción de Nan que hay por columna\n",
    "- Elimino las columnas que tienen proporción de Nans > 90\n",
    "- Imputo por la mediana en las columnas que su proporción de Nans < 90"
   ]
  },
  {
   "cell_type": "code",
   "execution_count": 616,
   "metadata": {},
   "outputs": [
    {
     "name": "stdout",
     "output_type": "stream",
     "text": [
      "CH14      True\n",
      "IMPUTA    True\n",
      "dtype: bool\n"
     ]
    }
   ],
   "source": [
    "# # Verificar si cada columna tiene algún valor NaN 2024\n",
    "nan_values24 = combined_24.isna().any()\n",
    "\n",
    "# # Filtrar las columnas que contienen valores NaN (solo mostrar las que son True)\n",
    "columnas_con_nan24 = nan_values24[nan_values24] # Esto te devuelve solo las columnas que tienen NaN\n",
    "\n",
    "print(columnas_con_nan24)\n",
    "\n",
    "columnas_con_nan24 = columnas_con_nan24.index\n"
   ]
  },
  {
   "cell_type": "code",
   "execution_count": 617,
   "metadata": {},
   "outputs": [],
   "source": [
    "#Elimino de la base de 2024 todas las columnas que tienen \n",
    "# combined_24 = combined_24.drop(columns = [\"CH14\", \"CH15_COD\", \"CH16_COD\", \"IMPUTA\", \"PP04B3_DIA\", \"IDECIFR\", \"PDECIFR\", \"IDECCFR\",'IV1_ESP', 'IV3_ESP', 'IV7_ESP', 'II7_ESP', 'II8_ESP'])"
   ]
  },
  {
   "cell_type": "code",
   "execution_count": 618,
   "metadata": {},
   "outputs": [],
   "source": [
    "# # Obtengo las columnas que contienen datos faltantes, reviso que proporción de los valores faltas\n",
    "\n",
    "# # Porcentaje de valores faltantes por columna\n",
    "lista_nans_poco = []\n",
    "lista_nans_50 = []\n",
    "lista_nans_60 = []\n",
    "lista_nans_70 = []\n",
    "lista_nans_80 = []\n",
    "lista_nans_90 = []\n",
    "lista_nans_100 = []\n",
    "\n",
    "for i in columnas_con_nan24:\n",
    "    proporcion_columna24 = combined_24[i].isnull().sum() / len(combined_24) * 100\n",
    "    \n",
    "    if proporcion_columna24 < 50:\n",
    "        lista_nans_poco.append(i)\n",
    "\n",
    "    elif proporcion_columna24 >= 50 and proporcion_columna24 < 60:\n",
    "        lista_nans_50.append(i)\n",
    "\n",
    "    elif proporcion_columna24 >= 60 and proporcion_columna24 < 70:\n",
    "        lista_nans_60.append(i)\n",
    "\n",
    "    elif proporcion_columna24 >= 70 and proporcion_columna24 < 80:\n",
    "        lista_nans_70.append(i)\n",
    "\n",
    "    elif proporcion_columna24 >= 80 and proporcion_columna24 < 90:\n",
    "        lista_nans_80.append(i)\n",
    "\n",
    "    elif proporcion_columna24 >= 90 and proporcion_columna24 < 100:\n",
    "        lista_nans_90.append(i)\n",
    "\n",
    "    elif proporcion_columna24 == 100:\n",
    "        lista_nans_100.append(i)\n",
    "    "
   ]
  },
  {
   "cell_type": "code",
   "execution_count": 619,
   "metadata": {},
   "outputs": [],
   "source": [
    "# Elimino las variables que tienen más de 90% de datos Nan. Me fijo antes cuantas columnas son\n",
    "columnas_elim = lista_nans_90 + lista_nans_100\n",
    "combined_24 = combined_24.drop(columns = (columnas_elim)) #se eliminaron ? columnas"
   ]
  },
  {
   "cell_type": "code",
   "execution_count": 620,
   "metadata": {},
   "outputs": [],
   "source": [
    "# Imputo por la mediana en las columnas que su proporción de Nans < 90\n",
    "columnas_ok = lista_nans_poco + lista_nans_50 +lista_nans_60 + lista_nans_70 + lista_nans_80\n",
    "combined_24[columnas_ok] = combined_24[columnas_ok].fillna(combined_24[columnas_ok].median())\n"
   ]
  },
  {
   "cell_type": "code",
   "execution_count": 621,
   "metadata": {},
   "outputs": [
    {
     "name": "stdout",
     "output_type": "stream",
     "text": [
      "Series([], dtype: bool)\n"
     ]
    }
   ],
   "source": [
    "#AHORA VEMOS QUE NO HAY MAS NANS EN LA DE 2024\n",
    "nan_values24 = combined_24.isna().any()\n",
    "\n",
    "# # Filtrar las columnas que contienen valores NaN (solo mostrar las que son True)\n",
    "columnas_con_nan24 = nan_values24[nan_values24] # Esto te devuelve solo las columnas que tienen NaN\n",
    "\n",
    "print(columnas_con_nan24)\n",
    "\n",
    "columnas_con_nan24 = columnas_con_nan24.index\n"
   ]
  },
  {
   "cell_type": "markdown",
   "metadata": {},
   "source": [
    "### Outliers "
   ]
  },
  {
   "cell_type": "markdown",
   "metadata": {},
   "source": [
    "#### 2004"
   ]
  },
  {
   "cell_type": "code",
   "execution_count": 622,
   "metadata": {},
   "outputs": [],
   "source": [
    "numerica04 = [ 'P47T','IV2', 'V2_M', 'V3_M', 'V4_M', 'V5_M', 'V8_M',\n",
    "                    'V9_M', 'V10_M', 'V11_M', 'V12_M', 'V18_M', 'V19_AM', 'V21_M', 'T_VI',\n",
    "                       'PONDERA', 'II5_1', 'IX_TOT', 'IX_MAYEQ10', 'ITF']\n",
    "\n",
    "\n",
    "#es igual que no categorica pero sin codusu, porque no tiene sentido sacar outliers de ahi. \n",
    "#estoy sacando COMPONENTE , CH06, CH04, ESTADO xq son tipo de dato category \n",
    "# 'REALIZADA', 'TRIMESTRE', 'REGION', 'AGLOMERADO', 'IV2', 'II1', 'II2',\n",
    "      # 'VII1_1', 'VII1_2', 'VII2_1', 'VII2_2', 'VII2_3', 'VII2_4', 'H15', 'V1',\n",
    "      # 'V2', 'V21', 'V22', 'V3', 'V4', 'V5', 'V6', 'V7', 'V8', 'V9', 'V10',\n",
    "      # 'V11', 'V12', 'V13', 'V14', 'V15', 'V16', 'V17', 'V18', 'V19_A',\n",
    "      # 'V19_B', 'II4_1', 'IV8', 'IV12_2', 'IV12_3', 'IV12_1', 'II4_2', 'II4_3',\n",
    "      # 'CH13', 'II5', 'IV5', 'REALIZADA', 'TRIMESTRE', 'AGLOMERADO', 'REGION', 'II1','II2', 'IV2'\n",
    "\n",
    "# y saque NRO HOGAR\n",
    "\n",
    "#es igual que no categorica pero sin codusu, porque no tiene sentido sacar outliers de ahi. "
   ]
  },
  {
   "cell_type": "code",
   "execution_count": 623,
   "metadata": {},
   "outputs": [
    {
     "name": "stdout",
     "output_type": "stream",
     "text": [
      "P47T           float64\n",
      "IV2           category\n",
      "V2_M           float64\n",
      "V3_M           float64\n",
      "V4_M           float64\n",
      "V5_M           float64\n",
      "V8_M           float64\n",
      "V9_M           float64\n",
      "V10_M          float64\n",
      "V11_M          float64\n",
      "V12_M          float64\n",
      "V18_M          float64\n",
      "V19_AM         float64\n",
      "V21_M          float64\n",
      "T_VI           float64\n",
      "PONDERA        float64\n",
      "II5_1          float64\n",
      "IX_TOT         float64\n",
      "IX_MAYEQ10     float64\n",
      "ITF            float64\n",
      "dtype: object\n",
      "Columnas de tipo 'object': \n",
      "Index([], dtype='object')\n"
     ]
    }
   ],
   "source": [
    "# Verifica el tipo de datos de todas las columnas en el DataFrame\n",
    "print(combined_04[numerica04].dtypes)\n",
    "\n",
    "# Filtrar las columnas que son de tipo 'category'\n",
    "categorical_columns = combined_04[numerica04].select_dtypes(include=['object']).columns\n",
    "\n",
    "# Mostrar las columnas que son de tipo 'category'\n",
    "print(f\"Columnas de tipo 'object': \\n{categorical_columns}\")"
   ]
  },
  {
   "cell_type": "code",
   "execution_count": 624,
   "metadata": {},
   "outputs": [
    {
     "name": "stdout",
     "output_type": "stream",
     "text": [
      "Total de outliers por columna: \n",
      "P47T          110\n",
      "IV2            36\n",
      "V2_M          764\n",
      "V3_M            8\n",
      "V4_M           13\n",
      "V5_M          107\n",
      "V8_M           71\n",
      "V9_M            8\n",
      "V10_M          15\n",
      "V11_M          13\n",
      "V12_M         229\n",
      "V18_M           5\n",
      "V19_AM          0\n",
      "V21_M         107\n",
      "T_VI          231\n",
      "PONDERA        56\n",
      "II5_1          76\n",
      "IX_TOT         15\n",
      "IX_MAYEQ10     14\n",
      "ITF            87\n",
      "dtype: int64\n",
      "Filas con outliers: \n",
      "        CODUSU  NRO_HOGAR COMPONENTE H15 MAS_500            CH03   CH04  CH06  \\\n",
      "0     125047          1.0        1.0  Sí       S            Jefe  Varón  80.0   \n",
      "1     125047          1.0        2.0  Sí       S  Cónyuge/Pareja  Mujer  75.0   \n",
      "2     125098          1.0        1.0  Sí       S            Jefe  Varón  79.0   \n",
      "13    125295          1.0        1.0  Sí       S            Jefe  Varón  34.0   \n",
      "17    125511          1.0        1.0  Sí       S            Jefe  Mujer  75.0   \n",
      "...        ...        ...        ...  ..     ...             ...    ...   ...   \n",
      "7584  286820          1.0        1.0  Sí       S            Jefe  Varón  67.0   \n",
      "7591  286952          1.0        2.0  Sí       S  Cónyuge/Pareja  Mujer  38.0   \n",
      "7614  287312          1.0        1.0  Sí       S            Jefe  Varón  57.0   \n",
      "7618  287436          1.0        1.0  Sí       S            Jefe  Varón  83.0   \n",
      "7641  288171          1.0        2.0  Sí       S  Cónyuge/Pareja  Mujer  31.0   \n",
      "\n",
      "        CH07                                   CH08  ... DECCFR RDECCFR  \\\n",
      "0     Casado             Obra social (incluye PAMI)  ...     10      10   \n",
      "1     Casado             Obra social (incluye PAMI)  ...     10      10   \n",
      "2      Viudo             Obra social (incluye PAMI)  ...     07      06   \n",
      "13    Casado  Mutual/Prepaga/Servicio de emergencia  ...     10      10   \n",
      "17     Viudo             Obra social (incluye PAMI)  ...     08      08   \n",
      "...      ...                                    ...  ...    ...     ...   \n",
      "7584  Casado             Obra social (incluye PAMI)  ...     07      06   \n",
      "7591  Casado  Mutual/Prepaga/Servicio de emergencia  ...     03      03   \n",
      "7614  Casado             Obra social (incluye PAMI)  ...     06      05   \n",
      "7618  Casado             Obra social (incluye PAMI)  ...     02      02   \n",
      "7641  Casado  Mutual/Prepaga/Servicio de emergencia  ...     08      08   \n",
      "\n",
      "     GDECCFR ADECCFR              VII1_1 VII1_2  \\\n",
      "0         10      10                 2.0    0.0   \n",
      "1         10      10                 2.0    0.0   \n",
      "2         06      04                 1.0    0.0   \n",
      "13        10      10                 2.0    0.0   \n",
      "17        08      09                 1.0    0.0   \n",
      "...      ...     ...                 ...    ...   \n",
      "7584      06      07                 2.0    0.0   \n",
      "7591      03      04                 2.0    0.0   \n",
      "7614      05      03                 2.0    0.0   \n",
      "7618      02      02  Servicio doméstico    0.0   \n",
      "7641      08      09  Servicio doméstico    0.0   \n",
      "\n",
      "                                    VII2_1 VII2_2 VII2_3 VII2_4  \n",
      "0                                     98.0    0.0    0.0    0.0  \n",
      "1                                     98.0    0.0    0.0    0.0  \n",
      "2                                     98.0    0.0    0.0    0.0  \n",
      "13    Otra persona que no vive en el hogar    0.0    0.0    0.0  \n",
      "17                                    98.0    0.0    0.0    0.0  \n",
      "...                                    ...    ...    ...    ...  \n",
      "7584                                  98.0    0.0    0.0    0.0  \n",
      "7591                                   1.0    0.0    0.0    0.0  \n",
      "7614                                  98.0    0.0    0.0    0.0  \n",
      "7618                                   2.0    0.0    0.0    0.0  \n",
      "7641                                   2.0    0.0    0.0    0.0  \n",
      "\n",
      "[1419 rows x 109 columns]\n"
     ]
    }
   ],
   "source": [
    "# Outliers\n",
    "# COMBINED 04\n",
    "\n",
    "combined_04[numerica04] = combined_04[numerica04].apply(pd.to_numeric, errors='coerce')\n",
    "\n",
    "# Calculamos los cuartiles y el IQR solo para las columnas numéricas\n",
    "Q1 = combined_04[numerica04].quantile(0.1)\n",
    "Q3 = combined_04[numerica04].quantile(0.9)\n",
    "IQR = Q3 - Q1\n",
    "\n",
    "# Definir los límites inferior y superior\n",
    "lower_limit = Q1 - 1.5 * IQR\n",
    "upper_limit = Q3 + 1.5 * IQR\n",
    "\n",
    "# Detectar outliers (donde los valores están fuera de los límites)\n",
    "outliers = (combined_04[numerica04] < lower_limit) | (combined_04[numerica04] > upper_limit)\n",
    "\n",
    "# Mostrar una vista de los outliers por fila\n",
    "outliers_data = combined_04[outliers.any(axis=1)]\n",
    "\n",
    "# Opcional: Mostrar el total de outliers por columna\n",
    "outliers_count = outliers.sum()\n",
    "print(f\"Total de outliers por columna: \\n{outliers_count}\")\n",
    "\n",
    "# Mostrar las filas que contienen outliers\n",
    "print(f\"Filas con outliers: \\n{outliers_data}\")\n",
    "\n",
    "# Eliminar filas con outliers\n",
    "combined_04_no_outliers = combined_04[~outliers.any(axis=1)]\n",
    "\n",
    "combined_04 = combined_04_no_outliers"
   ]
  },
  {
   "cell_type": "markdown",
   "metadata": {},
   "source": [
    "#### 2024"
   ]
  },
  {
   "cell_type": "code",
   "execution_count": 625,
   "metadata": {},
   "outputs": [
    {
     "data": {
      "text/plain": [
       "109"
      ]
     },
     "execution_count": 625,
     "metadata": {},
     "output_type": "execute_result"
    }
   ],
   "source": [
    "#Lista de todas las variables de la base 2004\n",
    "lista04 = combined_04.columns.to_list()\n",
    "len(lista04)"
   ]
  },
  {
   "cell_type": "code",
   "execution_count": 626,
   "metadata": {},
   "outputs": [],
   "source": [
    "# #Para la base 2004, reemplazo los valores de texto de las variables binarias a 0 y 1 para ya usarlas como dummies. \n",
    "# reemplazosbinarias = {\n",
    "#     \"Sí\" : 1, \n",
    "#     \"No\" : 0, \n",
    "#     \"S\" : 1, \n",
    "#     \"N\" : 0, \n",
    "#     \"Varón\" : 1, \n",
    "#     \"Mujer\" : 0\n",
    "# }\n",
    "\n",
    "# combined_04 = combined_04.applymap(lambda x: reemplazosbinarias.get(x, x))"
   ]
  },
  {
   "cell_type": "code",
   "execution_count": 627,
   "metadata": {},
   "outputs": [],
   "source": [
    "#variables numericas para sacar outliers\n",
    "numerica24 = ['CH06', 'ESTADO', 'V2_M', \n",
    "                  'V3_M', 'V4_M', 'V5_M', 'V8_M', 'V9_M', 'V10_M', 'V11_M', 'V12_M', 'V18_M', 'V19_AM',\n",
    "                    'V21_M', 'T_VI', 'II1', 'II2', 'II5_1', \n",
    "                        'IX_TOT', 'IX_MEN10', 'IX_MAYEQ10', 'ITF', 'DECIFR', 'RDECIFR', 'GDECIFR', 'ADECIFR',\n",
    "                          'IPCF', 'DECCFR', 'RDECCFR', 'GDECCFR', 'ADECCFR', 'PONDIH', 'IV2']"
   ]
  },
  {
   "cell_type": "code",
   "execution_count": 628,
   "metadata": {},
   "outputs": [
    {
     "name": "stdout",
     "output_type": "stream",
     "text": [
      "CH06            int64\n",
      "ESTADO          int64\n",
      "V2_M            int64\n",
      "V3_M            int64\n",
      "V4_M            int64\n",
      "V5_M            int64\n",
      "V8_M            int64\n",
      "V9_M            int64\n",
      "V10_M           int64\n",
      "V11_M           int64\n",
      "V12_M           int64\n",
      "V18_M           int64\n",
      "V19_AM          int64\n",
      "V21_M           int64\n",
      "T_VI            int64\n",
      "II1             int64\n",
      "II2             int64\n",
      "II5_1           int64\n",
      "IX_TOT          int64\n",
      "IX_MEN10        int64\n",
      "IX_MAYEQ10      int64\n",
      "ITF             int64\n",
      "DECIFR          int64\n",
      "RDECIFR         int64\n",
      "GDECIFR       float64\n",
      "ADECIFR         int64\n",
      "IPCF          float64\n",
      "DECCFR          int64\n",
      "RDECCFR         int64\n",
      "GDECCFR       float64\n",
      "ADECCFR         int64\n",
      "PONDIH          int64\n",
      "IV2             int64\n",
      "dtype: object\n",
      "Columnas de tipo 'object': \n",
      "Index([], dtype='object')\n"
     ]
    }
   ],
   "source": [
    "# Verifica el tipo de datos de todas las columnas en el DataFrame\n",
    "print(combined_24[numerica24].dtypes)\n",
    "\n",
    "# Filtrar las columnas que son de tipo 'category'\n",
    "categorical_columns = combined_24[numerica24].select_dtypes(include=['object']).columns\n",
    "\n",
    "# Mostrar las columnas que son de tipo 'category'\n",
    "print(f\"Columnas de tipo 'object': \\n{categorical_columns}\")"
   ]
  },
  {
   "cell_type": "code",
   "execution_count": 629,
   "metadata": {},
   "outputs": [
    {
     "name": "stdout",
     "output_type": "stream",
     "text": [
      "Total de outliers por columna: \n",
      "CH06            0\n",
      "ESTADO          0\n",
      "V2_M          149\n",
      "V3_M           11\n",
      "V4_M            3\n",
      "V5_M          260\n",
      "V8_M           70\n",
      "V9_M            1\n",
      "V10_M          56\n",
      "V11_M          68\n",
      "V12_M         155\n",
      "V18_M           7\n",
      "V19_AM          0\n",
      "V21_M         438\n",
      "T_VI          113\n",
      "II1            23\n",
      "II2             0\n",
      "II5_1          62\n",
      "IX_TOT          0\n",
      "IX_MEN10       12\n",
      "IX_MAYEQ10      0\n",
      "ITF            86\n",
      "DECIFR          0\n",
      "RDECIFR         0\n",
      "GDECIFR         0\n",
      "ADECIFR         0\n",
      "IPCF          101\n",
      "DECCFR          0\n",
      "RDECCFR         0\n",
      "GDECCFR         0\n",
      "ADECCFR         0\n",
      "PONDIH         14\n",
      "IV2            24\n",
      "dtype: int64\n"
     ]
    }
   ],
   "source": [
    "#outliers 2024\n",
    "combined_24[numerica24] = combined_24[numerica24].apply(pd.to_numeric, errors='coerce')\n",
    "\n",
    "# Calculamos los cuartiles y el IQR solo para las columnas numéricas\n",
    "Q1 = combined_24[numerica24].quantile(0.1)\n",
    "Q3 = combined_24[numerica24].quantile(0.9)\n",
    "IQR = Q3 - Q1\n",
    "\n",
    "# Definir los límites inferior y superior\n",
    "lower_limit = Q1 - 1.5 * IQR\n",
    "upper_limit = Q3 + 1.5 * IQR\n",
    "\n",
    "# Detectar outliers (donde los valores están fuera de los límites)\n",
    "outliers24 = (combined_24[numerica24] < lower_limit) | (combined_24[numerica24] > upper_limit)\n",
    "\n",
    "# Mostrar una vista de los outliers por fila\n",
    "outliers_data24 = combined_24[outliers24.any(axis=1)]\n",
    "\n",
    "# Opcional: Mostrar el total de outliers por columna\n",
    "outliers_count24 = outliers24.sum()\n",
    "print(f\"Total de outliers por columna: \\n{outliers_count24}\")\n",
    "\n",
    "# Eliminar filas con outliers\n",
    "combined_24_no_outliers = combined_24[~outliers24.any(axis=1)]\n",
    "combined_24 = combined_24_no_outliers"
   ]
  },
  {
   "cell_type": "markdown",
   "metadata": {},
   "source": [
    "### Variables categoricas"
   ]
  },
  {
   "cell_type": "markdown",
   "metadata": {},
   "source": [
    "#### 2004"
   ]
  },
  {
   "cell_type": "code",
   "execution_count": 630,
   "metadata": {},
   "outputs": [
    {
     "data": {
      "text/plain": [
       "46"
      ]
     },
     "execution_count": 630,
     "metadata": {},
     "output_type": "execute_result"
    }
   ],
   "source": [
    "#Armo una lista con todas las variables que no quiero que sean dummies. Incluye numercias continuas y binarias (0,1).\n",
    "nocategorica04 = ['CODUSU',\n",
    " 'NRO_HOGAR',\n",
    " 'COMPONENTE',\n",
    " 'CH06',\n",
    " 'ESTADO', #Estado es categorica, pero lo dejo porque despues vamos a usar una dummy de desocupado directamente. \n",
    " 'P47T',\n",
    " 'DECINDR',\n",
    " 'RDECINDR',\n",
    " 'GDECINDR',\n",
    " 'ADECINDR',\n",
    " 'V2_M',\n",
    " 'V3_M',\n",
    " 'V4_M',\n",
    " 'V5_M',\n",
    " 'V8_M',\n",
    " 'V9_M',\n",
    " 'V10_M',\n",
    " 'V11_M',\n",
    " 'V12_M',\n",
    " 'V18_M',\n",
    " 'V19_AM',\n",
    " 'V21_M',\n",
    " 'T_VI',\n",
    " 'REALIZADA',\n",
    " 'ANO4',\n",
    " 'TRIMESTRE',\n",
    " 'REGION',\n",
    " 'AGLOMERADO',\n",
    " 'PONDERA',\n",
    " 'IV2',\n",
    " 'II1',\n",
    " 'II2',\n",
    " 'II5_1',\n",
    " 'IX_TOT',\n",
    " 'IX_MEN10',\n",
    " 'IX_MAYEQ10',\n",
    " 'ITF',\n",
    " 'DECIFR',\n",
    " 'RDECIFR',\n",
    " 'GDECIFR',\n",
    " 'ADECIFR',\n",
    " 'IPCF',\n",
    " 'DECCFR',\n",
    " 'RDECCFR',\n",
    " 'GDECCFR',\n",
    " 'ADECCFR']\n",
    "\n",
    "len(nocategorica04)"
   ]
  },
  {
   "cell_type": "code",
   "execution_count": 631,
   "metadata": {},
   "outputs": [
    {
     "data": {
      "text/plain": [
       "64"
      ]
     },
     "execution_count": 631,
     "metadata": {},
     "output_type": "execute_result"
    }
   ],
   "source": [
    "#Armo una lista de las variables categoricas para hacer dummies. Son todas las variables menos las binarias y las numericas continuas. \n",
    "categorica04 = list(set(lista04) - set(nocategorica04))\n",
    "len(categorica04)"
   ]
  },
  {
   "cell_type": "code",
   "execution_count": 632,
   "metadata": {},
   "outputs": [],
   "source": [
    "#Elimina categorias sin usar para que el get dummies no sea redundante\n",
    "for i in categorica04: \n",
    "    combined_04[i] = combined_04[i].astype('category')\n",
    "    combined_04[i] = combined_04[i].cat.remove_unused_categories()"
   ]
  },
  {
   "cell_type": "code",
   "execution_count": 633,
   "metadata": {},
   "outputs": [],
   "source": [
    "# # dummies04 = pd.get_dummies(combined_04[categorica04], drop_first=True)\n",
    "# dummies04 = pd.get_dummies(combined_04[categorica04])\n",
    "# combined_04_cat = pd.concat([combined_04, dummies04], axis = 1)\n",
    "\n",
    "# ### combined_04_cat ----- incluye dummies Y las variables originales. "
   ]
  },
  {
   "cell_type": "code",
   "execution_count": 634,
   "metadata": {},
   "outputs": [],
   "source": [
    "combined_04_total = combined_04"
   ]
  },
  {
   "cell_type": "code",
   "execution_count": 635,
   "metadata": {},
   "outputs": [],
   "source": [
    "combined_04 = pd.get_dummies(combined_04, columns = categorica04, drop_first=True)"
   ]
  },
  {
   "cell_type": "code",
   "execution_count": 636,
   "metadata": {},
   "outputs": [
    {
     "name": "stderr",
     "output_type": "stream",
     "text": [
      "C:\\Users\\magda\\AppData\\Local\\Temp\\ipykernel_10220\\1632687978.py:1: FutureWarning: The behavior of Series.replace (and DataFrame.replace) with CategoricalDtype is deprecated. In a future version, replace will only be used for cases that preserve the categories. To change the categories, use ser.cat.rename_categories instead.\n",
      "  combined_04['CH06'] = combined_04['CH06'].replace('Menos de 1 año', 0)\n",
      "C:\\Users\\magda\\AppData\\Local\\Temp\\ipykernel_10220\\1632687978.py:2: FutureWarning: Downcasting behavior in `replace` is deprecated and will be removed in a future version. To retain the old behavior, explicitly call `result.infer_objects(copy=False)`. To opt-in to the future behavior, set `pd.set_option('future.no_silent_downcasting', True)`\n",
      "  combined_04['CH06'] = combined_04['CH06'].replace('98 y más años', 100)\n",
      "C:\\Users\\magda\\AppData\\Local\\Temp\\ipykernel_10220\\1632687978.py:2: FutureWarning: The behavior of Series.replace (and DataFrame.replace) with CategoricalDtype is deprecated. In a future version, replace will only be used for cases that preserve the categories. To change the categories, use ser.cat.rename_categories instead.\n",
      "  combined_04['CH06'] = combined_04['CH06'].replace('98 y más años', 100)\n"
     ]
    }
   ],
   "source": [
    "combined_04['CH06'] = combined_04['CH06'].replace('Menos de 1 año', 0)\n",
    "combined_04['CH06'] = combined_04['CH06'].replace('98 y más años', 100)\n",
    "combined_04['CH06'] = combined_04['CH06'].astype(int)"
   ]
  },
  {
   "cell_type": "code",
   "execution_count": 637,
   "metadata": {},
   "outputs": [],
   "source": [
    "col_transform = ['IV2', 'II1', 'II2']\n",
    "for i in col_transform: \n",
    "    combined_04[i] = combined_04[i].astype(str)\n",
    "    combined_04[i] = combined_04[i].astype(float)\n",
    "    combined_04[i] = combined_04[i].astype(int)\n"
   ]
  },
  {
   "cell_type": "markdown",
   "metadata": {},
   "source": [
    "#### 2024"
   ]
  },
  {
   "cell_type": "code",
   "execution_count": 638,
   "metadata": {},
   "outputs": [
    {
     "data": {
      "text/plain": [
       "107"
      ]
     },
     "execution_count": 638,
     "metadata": {},
     "output_type": "execute_result"
    }
   ],
   "source": [
    "#Lista de todas las variables de la base 2024\n",
    "lista24 = combined_24.columns.to_list()\n",
    "len(lista24)"
   ]
  },
  {
   "cell_type": "code",
   "execution_count": 639,
   "metadata": {},
   "outputs": [],
   "source": [
    "#misma lista para 2024. variables numericas continuas (que no quiero convertir en dummies)\n",
    "nocategorica24 = ['CODUSU',\n",
    " 'NRO_HOGAR',\n",
    " 'COMPONENTE',\n",
    " 'CH06',\n",
    " 'ESTADO',\n",
    " 'V2_M',\n",
    " 'V3_M',\n",
    " 'V4_M',\n",
    " 'V5_M',\n",
    " 'V8_M',\n",
    " 'V9_M',\n",
    " 'V10_M',\n",
    " 'V11_M',\n",
    " 'V12_M',\n",
    " 'V18_M',\n",
    " 'V19_AM',\n",
    " 'V21_M',\n",
    " 'T_VI',\n",
    " 'ANO4',\n",
    " 'TRIMESTRE',\n",
    " 'REALIZADA',\n",
    " 'REGION',\n",
    " 'AGLOMERADO',\n",
    " 'PONDERA',\n",
    " 'II1',\n",
    " 'II2',\n",
    " 'II5_1',\n",
    " 'IX_TOT',\n",
    " 'IX_MEN10',\n",
    " 'IX_MAYEQ10',\n",
    " 'ITF',\n",
    " 'DECIFR',\n",
    " 'RDECIFR',\n",
    " 'GDECIFR',\n",
    " 'ADECIFR',\n",
    " 'IPCF',\n",
    " 'DECCFR',\n",
    " 'RDECCFR',\n",
    " 'GDECCFR',\n",
    " 'ADECCFR',\n",
    " 'PONDIH', 'IV2']"
   ]
  },
  {
   "cell_type": "code",
   "execution_count": 640,
   "metadata": {},
   "outputs": [
    {
     "data": {
      "text/plain": [
       "65"
      ]
     },
     "execution_count": 640,
     "metadata": {},
     "output_type": "execute_result"
    }
   ],
   "source": [
    "#Armo una lista de las variables categoricas para hacer dummies. Son todas las variables menos las binarias y las numericas continuas. \n",
    "categorica24 = list(set(lista24)- set(nocategorica24))\n",
    "len(categorica24)"
   ]
  },
  {
   "cell_type": "code",
   "execution_count": 641,
   "metadata": {},
   "outputs": [],
   "source": [
    "#Convierto los valores de las columnas categoricas a objetos para poder hacer dummies\n",
    "for i in categorica24: \n",
    "    combined_24[i] = combined_24[i].astype('category')\n",
    "    combined_24[i] = combined_24[i].cat.remove_unused_categories()"
   ]
  },
  {
   "cell_type": "code",
   "execution_count": 642,
   "metadata": {},
   "outputs": [],
   "source": [
    "combined_24_total = combined_24"
   ]
  },
  {
   "cell_type": "code",
   "execution_count": 643,
   "metadata": {},
   "outputs": [],
   "source": [
    "combined_24 = pd.get_dummies(combined_24, columns = categorica24, drop_first=True)"
   ]
  },
  {
   "cell_type": "code",
   "execution_count": 644,
   "metadata": {},
   "outputs": [],
   "source": [
    "# dummies24 = pd.get_dummies(combined_24[categorica24])\n",
    "# combined_24_cat = pd.concat([combined_24, dummies24], axis = 1)\n",
    "\n",
    "# ### combined_24_cat ----- incluye dummies Y las variables originales. \n",
    "# # combined_24 = combined_24_cat.drop(columns = categorica24)"
   ]
  },
  {
   "cell_type": "markdown",
   "metadata": {},
   "source": [
    "## 4. Analisis exploratorio\n",
    "VARIABLES EXTRA, DESCRIPCION"
   ]
  },
  {
   "cell_type": "code",
   "execution_count": 645,
   "metadata": {},
   "outputs": [],
   "source": [
    "#DEFINIR VARIABLES EXTRA\n",
    "# Crear una nueva columna 'desocupado' con base en la condición ESTADO = 2\n",
    "combined_04['desocupado'] = combined_04['ESTADO'] == 'Desocupado'\n",
    "combined_24['desocupado'] = combined_24['ESTADO'] == 2\n",
    "\n",
    "# Convertir valores booleanos a num\n",
    "combined_04['desocupado'] = combined_04['desocupado'].map({True:1, False: 0})\n",
    "combined_24['desocupado'] = combined_24['desocupado'].map({True:1, False: 0})\n"
   ]
  },
  {
   "cell_type": "code",
   "execution_count": 646,
   "metadata": {},
   "outputs": [],
   "source": [
    "#DEFINIR VARIABLES EXTRA para cada ano\n",
    "\n",
    "# Verificar el resultado\n",
    "#NSE - con ingreso. agrupar variables  IPCF\n",
    "# bins = [0, 3000, 5000, 7000, 10000] \n",
    "# labels = ['Bajo', 'Medio-Bajo', 'Medio', 'Alto']\n",
    "# combined_04['ingreso_agrupado'] = pd.cut(df['ingreso'], bins=bins, labels=labels, right=False\n",
    "                                         \n",
    "#subsidios V5, V12, V19_A (MENORES DE 10 AÑOS)"
   ]
  },
  {
   "cell_type": "code",
   "execution_count": 647,
   "metadata": {},
   "outputs": [],
   "source": [
    "#PROXY DE NIVEL SOCIOECONOMICO: INGRESO AGRUPADO\n",
    "# Definir la función para categorizar los valores de DECCFR\n",
    "def categorizar_nse(deccfr):\n",
    "    deccfr_int = int(deccfr)\n",
    "    if deccfr_int >= 0 and deccfr_int <= 3:\n",
    "        return 'bajo'\n",
    "    elif deccfr_int >= 4 and deccfr_int <= 7:\n",
    "        return 'medio'\n",
    "    elif deccfr_int >= 8:\n",
    "        return 'alto'\n",
    "\n",
    "# Aplicar la función para crear la nueva variable NSE\n",
    "combined_04['NSE'] = combined_04['DECCFR'].apply(categorizar_nse)\n",
    "\n",
    "combined_04 = pd.get_dummies(combined_04, columns=['NSE'], prefix='NSE', drop_first=True)\n",
    "\n",
    "# Aplicar la función para crear la nueva variable NSE\n",
    "combined_24['NSE'] = combined_24['DECCFR'].apply(categorizar_nse)\n",
    "\n",
    "combined_24 = pd.get_dummies(combined_24, columns=['NSE'], prefix='NSE', drop_first=True)"
   ]
  },
  {
   "cell_type": "code",
   "execution_count": 648,
   "metadata": {},
   "outputs": [],
   "source": [
    "#hago estas bases que mantienen NSE para poder hacer graficos\n",
    "combined_04_total['NSE'] = combined_04_total['DECCFR'].apply(categorizar_nse)\n",
    "\n",
    "combined_24_total['NSE'] = combined_24_total['DECCFR'].apply(categorizar_nse)"
   ]
  },
  {
   "cell_type": "markdown",
   "metadata": {},
   "source": [
    "## 4.5 Las tres variables extra"
   ]
  },
  {
   "cell_type": "markdown",
   "metadata": {},
   "source": [
    "#### PROPORCION DE EDUCACION EN EL HOGAR"
   ]
  },
  {
   "cell_type": "code",
   "execution_count": 649,
   "metadata": {},
   "outputs": [
    {
     "name": "stdout",
     "output_type": "stream",
     "text": [
      "                             CODUSU  NRO_HOGAR  cantidad_personas  \\\n",
      "0     TQRMNOPPQHJNOPCDEIJAH00802435          1                  2   \n",
      "1     TQRMNOPPQHKKMMCDEIIAD00858017          1                  1   \n",
      "2     TQRMNOPPRHJNOPCDEIJAH00793617          1                  3   \n",
      "3     TQRMNOPPRHKOKUCDEIJAH00857420          1                  1   \n",
      "4     TQRMNOPPRHLOONCDEIJAH00856469          1                  1   \n",
      "...                             ...        ...                ...   \n",
      "2085  TQTMNORTYHJOPMCDEIJAH00794674          1                  2   \n",
      "2086  TQTMNOSPRHMNROCDEIJAH00860644          1                  1   \n",
      "2087  TQTMNOSTRHLMKUCDEIJAH00861152          1                  3   \n",
      "2088  TQUMNOQSVHMOTSCDEIJAH00859221          1                  2   \n",
      "2089  TQVMNORVXHLOTOCDEIJAH00855319          1                  3   \n",
      "\n",
      "      personas_educadas  proporcion_educacion  \n",
      "0                     1              0.500000  \n",
      "1                     0              0.000000  \n",
      "2                     1              0.333333  \n",
      "3                     1              1.000000  \n",
      "4                     0              0.000000  \n",
      "...                 ...                   ...  \n",
      "2085                  0              0.000000  \n",
      "2086                  0              0.000000  \n",
      "2087                  2              0.666667  \n",
      "2088                  0              0.000000  \n",
      "2089                  1              0.333333  \n",
      "\n",
      "[2090 rows x 5 columns]\n"
     ]
    }
   ],
   "source": [
    "# Definir una función que mapee los valores de CH10_1 a categorías\n",
    "def map_educacion(row):\n",
    "    if row['CH10_1'] == 1 or row['CH10_2'] == 2:  # Acceder a 'CH10_1' en la fila actual\n",
    "        return 1\n",
    "    else:\n",
    "        return 0\n",
    "\n",
    "# Aplicar la función y crear la nueva columna 'educacion'\n",
    "combined_24['educacion'] = combined_24.apply(map_educacion, axis=1)\n",
    "\n",
    "# Agrupar por CODUSU y NRO_HOGAR\n",
    "educacion_por_hogar24 = combined_24.groupby(['CODUSU', 'NRO_HOGAR'])\n",
    "\n",
    "# Calcular la cantidad de componentes (personas) por hogar\n",
    "cantidad_personas = educacion_por_hogar24['COMPONENTE'].count().reset_index(name='cantidad_personas')\n",
    "\n",
    "# Calcular cuántas personas en cada hogar están educadas (educacion = 1)\n",
    "personas_educadas = educacion_por_hogar24['educacion'].sum().reset_index(name='personas_educadas')\n",
    "\n",
    "# Unir ambos DataFrames: cantidad de personas y cantidad de personas educadas\n",
    "educacion_por_hogar24 = pd.merge(cantidad_personas, personas_educadas, on=['CODUSU', 'NRO_HOGAR'])\n",
    "\n",
    "# Calcular la proporción de personas educadas por hogar\n",
    "educacion_por_hogar24['proporcion_educacion'] = educacion_por_hogar24['personas_educadas'] / educacion_por_hogar24['cantidad_personas']\n",
    "\n",
    "# Mostrar el resultado\n",
    "print(educacion_por_hogar24)\n"
   ]
  },
  {
   "cell_type": "code",
   "execution_count": 650,
   "metadata": {},
   "outputs": [],
   "source": [
    "combined_24 = pd.merge(combined_24, educacion_por_hogar24[['CODUSU', 'NRO_HOGAR', 'proporcion_educacion']], on=['CODUSU', 'NRO_HOGAR'], how='left')"
   ]
  },
  {
   "cell_type": "code",
   "execution_count": 651,
   "metadata": {},
   "outputs": [
    {
     "name": "stdout",
     "output_type": "stream",
     "text": [
      "        CODUSU  NRO_HOGAR  cantidad_personas  personas_educadas  \\\n",
      "0     125169          1.0                  6                  3   \n",
      "1     125172          2.0                  1                  0   \n",
      "2     125256          1.0                  3                  0   \n",
      "3     125295          1.0                  2                  1   \n",
      "4     125397          1.0                  1                  0   \n",
      "...        ...        ...                ...                ...   \n",
      "1962  287810          1.0                  3                  1   \n",
      "1963  287811          1.0                  4                  1   \n",
      "1964  287998          1.0                  3                  1   \n",
      "1965  288171          1.0                  2                  0   \n",
      "1966  288405          1.0                  4                  1   \n",
      "\n",
      "      proporcion_educacion  \n",
      "0                 0.500000  \n",
      "1                 0.000000  \n",
      "2                 0.000000  \n",
      "3                 0.500000  \n",
      "4                 0.000000  \n",
      "...                    ...  \n",
      "1962              0.333333  \n",
      "1963              0.250000  \n",
      "1964              0.333333  \n",
      "1965              0.000000  \n",
      "1966              0.250000  \n",
      "\n",
      "[1967 rows x 5 columns]\n"
     ]
    }
   ],
   "source": [
    "# Definir una función que mapee los valores de CH10_1 a categorías\n",
    "def map_educacion(row):\n",
    "    if row['CH10_Sí, asiste'] == 1 or row['CH10_No asiste, pero asistió'] == 2:  # Acceder a 'CH10_1' en la fila actual\n",
    "        return 1\n",
    "    else:\n",
    "        return 0\n",
    "\n",
    "# Aplicar la función y crear la nueva columna 'educacion'\n",
    "combined_04['educacion'] = combined_04.apply(map_educacion, axis=1)\n",
    "\n",
    "# Agrupar por CODUSU y NRO_HOGAR\n",
    "educacion_por_hogar04 = combined_04.groupby(['CODUSU', 'NRO_HOGAR'])\n",
    "\n",
    "# Calcular la cantidad de componentes (personas) por hogar\n",
    "cantidad_personas = educacion_por_hogar04['COMPONENTE'].count().reset_index(name='cantidad_personas')\n",
    "\n",
    "# Calcular cuántas personas en cada hogar están educadas (educacion = 1)\n",
    "personas_educadas = educacion_por_hogar04['educacion'].sum().reset_index(name='personas_educadas')\n",
    "\n",
    "# Unir ambos DataFrames: cantidad de personas y cantidad de personas educadas\n",
    "educacion_por_hogar04 = pd.merge(cantidad_personas, personas_educadas, on=['CODUSU', 'NRO_HOGAR'])\n",
    "\n",
    "# Calcular la proporción de personas educadas por hogar\n",
    "educacion_por_hogar04['proporcion_educacion'] = educacion_por_hogar04['personas_educadas'] / educacion_por_hogar04['cantidad_personas']\n",
    "\n",
    "# Mostrar el resultado\n",
    "print(educacion_por_hogar04)"
   ]
  },
  {
   "cell_type": "code",
   "execution_count": 652,
   "metadata": {},
   "outputs": [],
   "source": [
    "combined_04 = pd.merge(combined_04, educacion_por_hogar04[['CODUSU', 'NRO_HOGAR', 'proporcion_educacion']], on=['CODUSU', 'NRO_HOGAR'], how='left')"
   ]
  },
  {
   "cell_type": "code",
   "execution_count": 653,
   "metadata": {},
   "outputs": [],
   "source": [
    "#### Variable nueva subsidio\n",
    "\n",
    "# Definir una función que mapee los valores de V5 y V12 a categorías\n",
    "def map_ayuda_social04(row):\n",
    "    if row['V5_No'] == False and row['V12_No'] == False:  # Acceder a 'CH10_1' en la fila actual\n",
    "        return 1\n",
    "    else:\n",
    "        return 0\n",
    "\n",
    "def map_ayuda_social24(row):\n",
    "    if row['V5_2'] == False and row['V12_2'] == False:  # Acceder a 'CH10_1' en la fila actual\n",
    "        return 1\n",
    "    else:\n",
    "        return 0\n",
    "\n",
    "\n",
    "# Aplicar la función y crear la nueva columna 'subsidio'\n",
    "combined_04['ayuda_social'] = combined_04.apply(map_ayuda_social04, axis=1)\n",
    "\n",
    "combined_24['ayuda_social'] = combined_24.apply(map_ayuda_social24, axis=1)\n"
   ]
  },
  {
   "cell_type": "markdown",
   "metadata": {},
   "source": [
    "### ESTADÍSTICAS DESCRIPTIVAS"
   ]
  },
  {
   "cell_type": "code",
   "execution_count": 521,
   "metadata": {},
   "outputs": [
    {
     "data": {
      "text/plain": [
       "count    5189.000000\n",
       "mean        2.924456\n",
       "std         1.037685\n",
       "min         1.000000\n",
       "25%         2.000000\n",
       "50%         3.000000\n",
       "75%         4.000000\n",
       "max         7.000000\n",
       "Name: IV2, dtype: float64"
      ]
     },
     "execution_count": 521,
     "metadata": {},
     "output_type": "execute_result"
    }
   ],
   "source": [
    "#IV2: CANTIDAD DE AMBIENTES\n",
    "combined_04['IV2'].describe().T"
   ]
  },
  {
   "cell_type": "code",
   "execution_count": 578,
   "metadata": {},
   "outputs": [
    {
     "data": {
      "image/png": "[encoded data removed]",
      "text/plain": [
       "<Figure size 1400x700 with 1 Axes>"
      ]
     },
     "metadata": {},
     "output_type": "display_data"
    }
   ],
   "source": [
    "# Calcular las proporciones para 2004\n",
    "prop_04 = combined_04['IV2'].value_counts(normalize=True).reset_index()\n",
    "prop_04.columns = ['IV2', 'Proporcion']\n",
    "prop_04['Year'] = '2004'\n",
    "\n",
    "# Calcular las proporciones para 2024\n",
    "prop_24 = combined_24['IV2'].value_counts(normalize=True).reset_index()\n",
    "prop_24.columns = ['IV2', 'Proporcion']\n",
    "prop_24['Year'] = '2024'\n",
    "\n",
    "# Combinar los DataFrames de proporciones\n",
    "prop_combined = pd.concat([prop_04, prop_24])\n",
    "\n",
    "# Crear el gráfico de barras\n",
    "plt.figure(figsize=(14, 7))\n",
    "sns.barplot(x='IV2', y='Proporcion', hue='Year', data=prop_combined, palette='viridis')\n",
    "\n",
    "# Personalizar el gráfico\n",
    "plt.title('Distribución de cantidad de ambientes/habitaciones por año')\n",
    "plt.xlabel('Cantidad de ambientes/habitaciones en el hogar (IV2)')\n",
    "plt.ylabel('Proporción')\n",
    "plt.legend(title='Año')\n",
    "plt.xticks(rotation=45)\n",
    "plt.show()\n"
   ]
  },
  {
   "cell_type": "code",
   "execution_count": null,
   "metadata": {},
   "outputs": [
    {
     "name": "stderr",
     "output_type": "stream",
     "text": [
      "C:\\Users\\magda\\AppData\\Local\\Temp\\ipykernel_10220\\1051174072.py:10: FutureWarning: \n",
      "\n",
      "Passing `palette` without assigning `hue` is deprecated and will be removed in v0.14.0. Assign the `x` variable to `hue` and set `legend=False` for the same effect.\n",
      "\n",
      "  sns.barplot(x='IV2', y='Proporción', data=ambientes04, palette='viridis')\n"
     ]
    },
    {
     "data": {
      "image/png": "[encoded data removed]",
      "text/plain": [
       "<Figure size 1200x600 with 1 Axes>"
      ]
     },
     "metadata": {},
     "output_type": "display_data"
    }
   ],
   "source": [
    "# #Grafico de IV2: Ambientes/habitaciones en total \n",
    "# ambientes04 = combined_04['IV2'].value_counts().reset_index()\n",
    "# ambientes04.columns = ['IV2', 'Count']\n",
    "# total_muestra = len(combined_04_total)\n",
    "\n",
    "# # Calcular la proporción de cada respuesta\n",
    "# ambientes04['Proporción'] = round(ambientes04['Count'] / total_muestra, 4)\n",
    "\n",
    "# plt.figure(figsize=(12, 6))\n",
    "# sns.barplot(x='IV2', y='Proporción', data=ambientes04, palette='viridis')\n",
    "\n",
    "# # Personalizar el gráfico\n",
    "# plt.title('Cantidad de ambientes/habitaciones en total por año (IV2)')\n",
    "# plt.xlabel('Cantidad de ambientes/habitaciones')\n",
    "# plt.ylabel('Proporción de la muestra')\n",
    "# plt.xticks(rotation=45)\n",
    "# plt.show()"
   ]
  },
  {
   "cell_type": "code",
   "execution_count": null,
   "metadata": {},
   "outputs": [],
   "source": [
    "# #Para la base 2004, reemplazo los valores de texto de las variables binarias a 0 y 1 para ya usarlas como dummies. \n",
    "# reemplazosbinarias = {\n",
    "#     \"Sí\" : 1, \n",
    "#     \"No\" : 0, \n",
    "#     \"S\" : 1, \n",
    "#     \"N\" : 0, \n",
    "#     \"Varón\" : 1, \n",
    "#     \"Mujer\" : 0\n",
    "# }\n",
    "\n",
    "# combined_04 = combined_04.applymap(lambda x: reemplazosbinarias.get(x, x))"
   ]
  },
  {
   "cell_type": "code",
   "execution_count": null,
   "metadata": {},
   "outputs": [
    {
     "name": "stderr",
     "output_type": "stream",
     "text": [
      "C:\\Users\\magda\\AppData\\Local\\Temp\\ipykernel_10220\\2471652254.py:6: FutureWarning: \n",
      "\n",
      "Passing `palette` without assigning `hue` is deprecated and will be removed in v0.14.0. Assign the `x` variable to `hue` and set `legend=False` for the same effect.\n",
      "\n",
      "  sns.barplot(x='II7', y='Count', data=tenencia, palette='viridis')\n"
     ]
    },
    {
     "data": {
      "image/png": "[encoded data removed]",
      "text/plain": [
       "<Figure size 1200x600 with 1 Axes>"
      ]
     },
     "metadata": {},
     "output_type": "display_data"
    }
   ],
   "source": [
    "# #Grafico de IV2: Ambientes/habitaciones en total \n",
    "# tenencia = combined_04_total['II7'].value_counts().reset_index()\n",
    "# tenencia.columns = ['II7', 'Count']\n",
    "\n",
    "# plt.figure(figsize=(12, 6))\n",
    "# sns.barplot(x='II7', y='Count', data=tenencia, palette='viridis')\n",
    "\n",
    "# # Personalizar el gráfico\n",
    "# plt.title('Frecuencia de Valores Únicos de la Variable IV2')\n",
    "# plt.xlabel('IV2')\n",
    "# plt.ylabel('Frecuencia')\n",
    "# plt.xticks(rotation=45)\n",
    "# plt.show()"
   ]
  },
  {
   "cell_type": "code",
   "execution_count": 581,
   "metadata": {},
   "outputs": [
    {
     "name": "stderr",
     "output_type": "stream",
     "text": [
      "C:\\Users\\magda\\AppData\\Local\\Temp\\ipykernel_10220\\1760542856.py:13: FutureWarning: DataFrame.applymap has been deprecated. Use DataFrame.map instead.\n",
      "  combined_04_total = combined_04_total.applymap(lambda x: reemplazotenencia.get(x, x))\n"
     ]
    }
   ],
   "source": [
    "reemplazotenencia = {\n",
    "    \"Propietario de la vivienda y el terreno\": 1,\n",
    "    \"Propietario de la vivienda solamente\": 2,\n",
    "    \"Inquilino/arrendatario de la vivienda\": 3,\n",
    "    \"Ocupante por pago de impuestos/expensas\": 4,\n",
    "    \"Ocupante en relación de dependencia\": 5,\n",
    "    \"Ocupante gratuito (con permiso)\": 6,\n",
    "    \"Ocupante de hecho (sin permiso)\": 7,\n",
    "    \"Está en sucesión\": 8,\n",
    "    \"Otra situación\": 9\n",
    "}\n",
    "\n",
    "combined_04_total = combined_04_total.applymap(lambda x: reemplazotenencia.get(x, x))"
   ]
  },
  {
   "cell_type": "code",
   "execution_count": 582,
   "metadata": {},
   "outputs": [
    {
     "data": {
      "text/html": [
       "<div>\n",
       "<style scoped>\n",
       "    .dataframe tbody tr th:only-of-type {\n",
       "        vertical-align: middle;\n",
       "    }\n",
       "\n",
       "    .dataframe tbody tr th {\n",
       "        vertical-align: top;\n",
       "    }\n",
       "\n",
       "    .dataframe thead th {\n",
       "        text-align: right;\n",
       "    }\n",
       "</style>\n",
       "<table border=\"1\" class=\"dataframe\">\n",
       "  <thead>\n",
       "    <tr style=\"text-align: right;\">\n",
       "      <th></th>\n",
       "      <th>II7</th>\n",
       "      <th>Frecuencia</th>\n",
       "      <th>Proporción</th>\n",
       "    </tr>\n",
       "  </thead>\n",
       "  <tbody>\n",
       "    <tr>\n",
       "      <th>0</th>\n",
       "      <td>1.0</td>\n",
       "      <td>3391</td>\n",
       "      <td>0.6535</td>\n",
       "    </tr>\n",
       "    <tr>\n",
       "      <th>1</th>\n",
       "      <td>3.0</td>\n",
       "      <td>666</td>\n",
       "      <td>0.1283</td>\n",
       "    </tr>\n",
       "    <tr>\n",
       "      <th>2</th>\n",
       "      <td>2.0</td>\n",
       "      <td>334</td>\n",
       "      <td>0.0644</td>\n",
       "    </tr>\n",
       "    <tr>\n",
       "      <th>3</th>\n",
       "      <td>6.0</td>\n",
       "      <td>316</td>\n",
       "      <td>0.0609</td>\n",
       "    </tr>\n",
       "    <tr>\n",
       "      <th>4</th>\n",
       "      <td>4.0</td>\n",
       "      <td>277</td>\n",
       "      <td>0.0534</td>\n",
       "    </tr>\n",
       "    <tr>\n",
       "      <th>5</th>\n",
       "      <td>5.0</td>\n",
       "      <td>99</td>\n",
       "      <td>0.0191</td>\n",
       "    </tr>\n",
       "    <tr>\n",
       "      <th>6</th>\n",
       "      <td>8.0</td>\n",
       "      <td>63</td>\n",
       "      <td>0.0121</td>\n",
       "    </tr>\n",
       "    <tr>\n",
       "      <th>7</th>\n",
       "      <td>7.0</td>\n",
       "      <td>20</td>\n",
       "      <td>0.0039</td>\n",
       "    </tr>\n",
       "    <tr>\n",
       "      <th>8</th>\n",
       "      <td>9.0</td>\n",
       "      <td>15</td>\n",
       "      <td>0.0029</td>\n",
       "    </tr>\n",
       "    <tr>\n",
       "      <th>9</th>\n",
       "      <td>0.0</td>\n",
       "      <td>8</td>\n",
       "      <td>0.0015</td>\n",
       "    </tr>\n",
       "  </tbody>\n",
       "</table>\n",
       "</div>"
      ],
      "text/plain": [
       "   II7  Frecuencia  Proporción\n",
       "0  1.0        3391      0.6535\n",
       "1  3.0         666      0.1283\n",
       "2  2.0         334      0.0644\n",
       "3  6.0         316      0.0609\n",
       "4  4.0         277      0.0534\n",
       "5  5.0          99      0.0191\n",
       "6  8.0          63      0.0121\n",
       "7  7.0          20      0.0039\n",
       "8  9.0          15      0.0029\n",
       "9  0.0           8      0.0015"
      ]
     },
     "execution_count": 582,
     "metadata": {},
     "output_type": "execute_result"
    }
   ],
   "source": [
    "# II7: Regimen de tenencia\n",
    "# Contar la frecuencia de cada respuesta\n",
    "tenencia04 = combined_04_total['II7'].value_counts().reset_index()\n",
    "tenencia04.columns = ['II7', 'Frecuencia']\n",
    "# Calcular el tamaño total de la muestra\n",
    "total_muestra = len(combined_04_total)\n",
    "\n",
    "# Calcular la proporción de cada respuesta\n",
    "tenencia04['Proporción'] = round(tenencia04['Frecuencia'] / total_muestra, 4)\n",
    "\n",
    "tenencia04\n",
    "# Crear el gráfico de barras\n",
    "# plt.figure(figsize=(10, 6))\n",
    "# sns.barplot(x='II7', y='Proporción', data=frequency, palette='viridis')\n",
    "\n",
    "# # Personalizar el gráfico\n",
    "# plt.title('Proporción de Respuestas para la Variable II7')\n",
    "# plt.xlabel('Respuesta II7')\n",
    "# plt.ylabel('Proporción')\n",
    "# plt.show()\n",
    "\n"
   ]
  },
  {
   "cell_type": "code",
   "execution_count": 461,
   "metadata": {},
   "outputs": [
    {
     "data": {
      "text/html": [
       "<div>\n",
       "<style scoped>\n",
       "    .dataframe tbody tr th:only-of-type {\n",
       "        vertical-align: middle;\n",
       "    }\n",
       "\n",
       "    .dataframe tbody tr th {\n",
       "        vertical-align: top;\n",
       "    }\n",
       "\n",
       "    .dataframe thead th {\n",
       "        text-align: right;\n",
       "    }\n",
       "</style>\n",
       "<table border=\"1\" class=\"dataframe\">\n",
       "  <thead>\n",
       "    <tr style=\"text-align: right;\">\n",
       "      <th></th>\n",
       "      <th>II7</th>\n",
       "      <th>Frecuencia</th>\n",
       "      <th>Proporción</th>\n",
       "    </tr>\n",
       "  </thead>\n",
       "  <tbody>\n",
       "    <tr>\n",
       "      <th>0</th>\n",
       "      <td>1</td>\n",
       "      <td>2600</td>\n",
       "      <td>0.6193</td>\n",
       "    </tr>\n",
       "    <tr>\n",
       "      <th>1</th>\n",
       "      <td>3</td>\n",
       "      <td>794</td>\n",
       "      <td>0.1891</td>\n",
       "    </tr>\n",
       "    <tr>\n",
       "      <th>2</th>\n",
       "      <td>2</td>\n",
       "      <td>325</td>\n",
       "      <td>0.0774</td>\n",
       "    </tr>\n",
       "    <tr>\n",
       "      <th>3</th>\n",
       "      <td>6</td>\n",
       "      <td>301</td>\n",
       "      <td>0.0717</td>\n",
       "    </tr>\n",
       "    <tr>\n",
       "      <th>4</th>\n",
       "      <td>4</td>\n",
       "      <td>101</td>\n",
       "      <td>0.0241</td>\n",
       "    </tr>\n",
       "    <tr>\n",
       "      <th>5</th>\n",
       "      <td>8</td>\n",
       "      <td>49</td>\n",
       "      <td>0.0117</td>\n",
       "    </tr>\n",
       "    <tr>\n",
       "      <th>6</th>\n",
       "      <td>7</td>\n",
       "      <td>12</td>\n",
       "      <td>0.0029</td>\n",
       "    </tr>\n",
       "    <tr>\n",
       "      <th>7</th>\n",
       "      <td>5</td>\n",
       "      <td>7</td>\n",
       "      <td>0.0017</td>\n",
       "    </tr>\n",
       "    <tr>\n",
       "      <th>8</th>\n",
       "      <td>9</td>\n",
       "      <td>7</td>\n",
       "      <td>0.0017</td>\n",
       "    </tr>\n",
       "    <tr>\n",
       "      <th>9</th>\n",
       "      <td>0</td>\n",
       "      <td>2</td>\n",
       "      <td>0.0005</td>\n",
       "    </tr>\n",
       "  </tbody>\n",
       "</table>\n",
       "</div>"
      ],
      "text/plain": [
       "  II7  Frecuencia  Proporción\n",
       "0   1        2600      0.6193\n",
       "1   3         794      0.1891\n",
       "2   2         325      0.0774\n",
       "3   6         301      0.0717\n",
       "4   4         101      0.0241\n",
       "5   8          49      0.0117\n",
       "6   7          12      0.0029\n",
       "7   5           7      0.0017\n",
       "8   9           7      0.0017\n",
       "9   0           2      0.0005"
      ]
     },
     "execution_count": 461,
     "metadata": {},
     "output_type": "execute_result"
    }
   ],
   "source": [
    "tenencia24 = combined_24_total['II7'].value_counts().reset_index()\n",
    "tenencia24.columns = ['II7', 'Frecuencia']\n",
    "# Calcular el tamaño total de la muestra\n",
    "total_muestra = len(combined_24_total)\n",
    "\n",
    "# Calcular la proporción de cada respuesta\n",
    "tenencia24['Proporción'] = round(tenencia24['Frecuencia'] / total_muestra, 4)\n",
    "\n",
    "tenencia24"
   ]
  },
  {
   "cell_type": "code",
   "execution_count": null,
   "metadata": {},
   "outputs": [],
   "source": [
    "# # Calcular las proporciones para 2004\n",
    "# prop_04 = combined_04_total['II7'].value_counts(normalize=True).reset_index()\n",
    "# prop_04.columns = ['II7', 'Proporcion']\n",
    "# prop_04['Year'] = '2004'\n",
    "\n",
    "# # Calcular las proporciones para 2024\n",
    "# prop_24 = combined_24_total['II7'].value_counts(normalize=True).reset_index()\n",
    "# prop_24.columns = ['II7', 'Proporcion']\n",
    "# prop_24['Year'] = '2024'\n",
    "\n",
    "# # Combinar los DataFrames de proporciones\n",
    "# prop_combined = pd.concat([prop_04, prop_24])\n",
    "\n",
    "# # Crear el gráfico de barras\n",
    "# plt.figure(figsize=(14, 7))\n",
    "# sns.barplot(x='II7', y='Proporcion', hue='Year', data=prop_combined, palette='viridis')\n",
    "\n",
    "# # Personalizar el gráfico\n",
    "# plt.title('Distribución de cantidad de ambientes/habitaciones por año')\n",
    "# plt.xlabel('Cantidad de ambientes/habitaciones en el hogar (IV2)')\n",
    "# plt.ylabel('Proporción')\n",
    "# plt.legend(title='Año')\n",
    "# plt.xticks(rotation=45)\n",
    "# plt.show()"
   ]
  },
  {
   "cell_type": "code",
   "execution_count": null,
   "metadata": {},
   "outputs": [],
   "source": [
    "# import pandas as pd\n",
    "# import seaborn as sns\n",
    "# import matplotlib.pyplot as plt\n",
    "\n",
    "# # Calcular las proporciones para 2004\n",
    "# prop_04 = combined_04_total['II7'].value_counts(normalize=True).reset_index()\n",
    "# prop_04.columns = ['II7', 'Proporcion']\n",
    "# prop_04['Year'] = '2004'\n",
    "\n",
    "# # Calcular las proporciones para 2024\n",
    "# prop_24 = combined_24_total['II7'].value_counts(normalize=True).reset_index()\n",
    "# prop_24.columns = ['II7', 'Proporcion']\n",
    "# prop_24['Year'] = '2024'\n",
    "\n",
    "# # Combinar los DataFrames de proporciones\n",
    "# prop_combined = pd.concat([prop_04, prop_24])\n",
    "\n",
    "# # Crear el gráfico de barras horizontal\n",
    "# plt.figure(figsize=(14, 7))\n",
    "# sns.barplot(y='II7', x='Proporcion', hue='Year', data=prop_combined, palette='viridis', orient='h')\n",
    "\n",
    "# # Personalizar el gráfico\n",
    "# plt.title('Distribución de cantidad de ambientes/habitaciones por año')\n",
    "# plt.ylabel('Cantidad de ambientes/habitaciones en el hogar (II7)')\n",
    "# plt.xlabel('Proporción')\n",
    "# plt.legend(title='Año')\n",
    "# plt.yticks(rotation=0)\n",
    "# plt.show()\n"
   ]
  },
  {
   "cell_type": "code",
   "execution_count": 462,
   "metadata": {},
   "outputs": [
    {
     "data": {
      "text/html": [
       "<div>\n",
       "<style scoped>\n",
       "    .dataframe tbody tr th:only-of-type {\n",
       "        vertical-align: middle;\n",
       "    }\n",
       "\n",
       "    .dataframe tbody tr th {\n",
       "        vertical-align: top;\n",
       "    }\n",
       "\n",
       "    .dataframe thead th {\n",
       "        text-align: right;\n",
       "    }\n",
       "</style>\n",
       "<table border=\"1\" class=\"dataframe\">\n",
       "  <thead>\n",
       "    <tr style=\"text-align: right;\">\n",
       "      <th></th>\n",
       "      <th>V1</th>\n",
       "      <th>Frecuencia</th>\n",
       "      <th>Proporción</th>\n",
       "    </tr>\n",
       "  </thead>\n",
       "  <tbody>\n",
       "    <tr>\n",
       "      <th>0</th>\n",
       "      <td>Sí</td>\n",
       "      <td>4947</td>\n",
       "      <td>0.9495</td>\n",
       "    </tr>\n",
       "    <tr>\n",
       "      <th>1</th>\n",
       "      <td>No</td>\n",
       "      <td>263</td>\n",
       "      <td>0.0505</td>\n",
       "    </tr>\n",
       "  </tbody>\n",
       "</table>\n",
       "</div>"
      ],
      "text/plain": [
       "   V1  Frecuencia  Proporción\n",
       "0  Sí        4947      0.9495\n",
       "1  No         263      0.0505"
      ]
     },
     "execution_count": 462,
     "metadata": {},
     "output_type": "execute_result"
    }
   ],
   "source": [
    "ingreso04 = combined_04_total['V1'].value_counts().reset_index()\n",
    "ingreso04.columns = ['V1', 'Frecuencia']\n",
    "# Calcular el tamaño total de la muestra\n",
    "total_muestra = len(combined_04_total)\n",
    "\n",
    "# Calcular la proporción de cada respuesta\n",
    "ingreso04['Proporción'] = round(ingreso04['Frecuencia'] / total_muestra, 4)\n",
    "\n",
    "ingreso04"
   ]
  },
  {
   "cell_type": "code",
   "execution_count": 463,
   "metadata": {},
   "outputs": [
    {
     "data": {
      "text/html": [
       "<div>\n",
       "<style scoped>\n",
       "    .dataframe tbody tr th:only-of-type {\n",
       "        vertical-align: middle;\n",
       "    }\n",
       "\n",
       "    .dataframe tbody tr th {\n",
       "        vertical-align: top;\n",
       "    }\n",
       "\n",
       "    .dataframe thead th {\n",
       "        text-align: right;\n",
       "    }\n",
       "</style>\n",
       "<table border=\"1\" class=\"dataframe\">\n",
       "  <thead>\n",
       "    <tr style=\"text-align: right;\">\n",
       "      <th></th>\n",
       "      <th>V1</th>\n",
       "      <th>Frecuencia</th>\n",
       "      <th>Proporción</th>\n",
       "    </tr>\n",
       "  </thead>\n",
       "  <tbody>\n",
       "    <tr>\n",
       "      <th>0</th>\n",
       "      <td>1</td>\n",
       "      <td>4024</td>\n",
       "      <td>0.9586</td>\n",
       "    </tr>\n",
       "    <tr>\n",
       "      <th>1</th>\n",
       "      <td>2</td>\n",
       "      <td>148</td>\n",
       "      <td>0.0353</td>\n",
       "    </tr>\n",
       "    <tr>\n",
       "      <th>2</th>\n",
       "      <td>9</td>\n",
       "      <td>26</td>\n",
       "      <td>0.0062</td>\n",
       "    </tr>\n",
       "  </tbody>\n",
       "</table>\n",
       "</div>"
      ],
      "text/plain": [
       "  V1  Frecuencia  Proporción\n",
       "0  1        4024      0.9586\n",
       "1  2         148      0.0353\n",
       "2  9          26      0.0062"
      ]
     },
     "execution_count": 463,
     "metadata": {},
     "output_type": "execute_result"
    }
   ],
   "source": [
    "ingreso24 = combined_24_total['V1'].value_counts().reset_index()\n",
    "ingreso24.columns = ['V1', 'Frecuencia']\n",
    "# Calcular el tamaño total de la muestra\n",
    "total_muestra = len(combined_24_total)\n",
    "\n",
    "# Calcular la proporción de cada respuesta\n",
    "ingreso24['Proporción'] = round(ingreso24['Frecuencia'] / total_muestra, 4)\n",
    "\n",
    "ingreso24"
   ]
  },
  {
   "cell_type": "code",
   "execution_count": 464,
   "metadata": {},
   "outputs": [
    {
     "data": {
      "text/html": [
       "<div>\n",
       "<style scoped>\n",
       "    .dataframe tbody tr th:only-of-type {\n",
       "        vertical-align: middle;\n",
       "    }\n",
       "\n",
       "    .dataframe tbody tr th {\n",
       "        vertical-align: top;\n",
       "    }\n",
       "\n",
       "    .dataframe thead th {\n",
       "        text-align: right;\n",
       "    }\n",
       "</style>\n",
       "<table border=\"1\" class=\"dataframe\">\n",
       "  <thead>\n",
       "    <tr style=\"text-align: right;\">\n",
       "      <th></th>\n",
       "      <th>V3</th>\n",
       "      <th>Frecuencia</th>\n",
       "      <th>Proporción</th>\n",
       "    </tr>\n",
       "  </thead>\n",
       "  <tbody>\n",
       "    <tr>\n",
       "      <th>0</th>\n",
       "      <td>No</td>\n",
       "      <td>5188</td>\n",
       "      <td>0.9958</td>\n",
       "    </tr>\n",
       "    <tr>\n",
       "      <th>1</th>\n",
       "      <td>Sí</td>\n",
       "      <td>18</td>\n",
       "      <td>0.0035</td>\n",
       "    </tr>\n",
       "    <tr>\n",
       "      <th>2</th>\n",
       "      <td>Ns./Nr.</td>\n",
       "      <td>4</td>\n",
       "      <td>0.0008</td>\n",
       "    </tr>\n",
       "  </tbody>\n",
       "</table>\n",
       "</div>"
      ],
      "text/plain": [
       "        V3  Frecuencia  Proporción\n",
       "0       No        5188      0.9958\n",
       "1       Sí          18      0.0035\n",
       "2  Ns./Nr.           4      0.0008"
      ]
     },
     "execution_count": 464,
     "metadata": {},
     "output_type": "execute_result"
    }
   ],
   "source": [
    "despido04 = combined_04_total['V3'].value_counts().reset_index()\n",
    "despido04.columns = ['V3', 'Frecuencia']\n",
    "# Calcular el tamaño total de la muestra\n",
    "total_muestra = len(combined_04_total)\n",
    "\n",
    "# Calcular la proporción de cada respuesta\n",
    "despido04['Proporción'] = round(despido04['Frecuencia'] / total_muestra, 4)\n",
    "\n",
    "despido04"
   ]
  },
  {
   "cell_type": "code",
   "execution_count": 465,
   "metadata": {},
   "outputs": [
    {
     "data": {
      "text/html": [
       "<div>\n",
       "<style scoped>\n",
       "    .dataframe tbody tr th:only-of-type {\n",
       "        vertical-align: middle;\n",
       "    }\n",
       "\n",
       "    .dataframe tbody tr th {\n",
       "        vertical-align: top;\n",
       "    }\n",
       "\n",
       "    .dataframe thead th {\n",
       "        text-align: right;\n",
       "    }\n",
       "</style>\n",
       "<table border=\"1\" class=\"dataframe\">\n",
       "  <thead>\n",
       "    <tr style=\"text-align: right;\">\n",
       "      <th></th>\n",
       "      <th>V3</th>\n",
       "      <th>Frecuencia</th>\n",
       "      <th>Proporción</th>\n",
       "    </tr>\n",
       "  </thead>\n",
       "  <tbody>\n",
       "    <tr>\n",
       "      <th>0</th>\n",
       "      <td>2</td>\n",
       "      <td>4146</td>\n",
       "      <td>0.9876</td>\n",
       "    </tr>\n",
       "    <tr>\n",
       "      <th>1</th>\n",
       "      <td>1</td>\n",
       "      <td>26</td>\n",
       "      <td>0.0062</td>\n",
       "    </tr>\n",
       "    <tr>\n",
       "      <th>2</th>\n",
       "      <td>9</td>\n",
       "      <td>26</td>\n",
       "      <td>0.0062</td>\n",
       "    </tr>\n",
       "  </tbody>\n",
       "</table>\n",
       "</div>"
      ],
      "text/plain": [
       "  V3  Frecuencia  Proporción\n",
       "0  2        4146      0.9876\n",
       "1  1          26      0.0062\n",
       "2  9          26      0.0062"
      ]
     },
     "execution_count": 465,
     "metadata": {},
     "output_type": "execute_result"
    }
   ],
   "source": [
    "despido24 = combined_24_total['V3'].value_counts().reset_index()\n",
    "despido24.columns = ['V3', 'Frecuencia']\n",
    "# Calcular el tamaño total de la muestra\n",
    "total_muestra = len(combined_24_total)\n",
    "\n",
    "# Calcular la proporción de cada respuesta\n",
    "despido24['Proporción'] = round(despido24['Frecuencia'] / total_muestra, 4)\n",
    "\n",
    "despido24"
   ]
  },
  {
   "cell_type": "code",
   "execution_count": 467,
   "metadata": {},
   "outputs": [
    {
     "data": {
      "text/html": [
       "<div>\n",
       "<style scoped>\n",
       "    .dataframe tbody tr th:only-of-type {\n",
       "        vertical-align: middle;\n",
       "    }\n",
       "\n",
       "    .dataframe tbody tr th {\n",
       "        vertical-align: top;\n",
       "    }\n",
       "\n",
       "    .dataframe thead th {\n",
       "        text-align: right;\n",
       "    }\n",
       "</style>\n",
       "<table border=\"1\" class=\"dataframe\">\n",
       "  <thead>\n",
       "    <tr style=\"text-align: right;\">\n",
       "      <th></th>\n",
       "      <th>IV1</th>\n",
       "      <th>Frecuencia</th>\n",
       "      <th>Proporción</th>\n",
       "    </tr>\n",
       "  </thead>\n",
       "  <tbody>\n",
       "    <tr>\n",
       "      <th>0</th>\n",
       "      <td>Casa</td>\n",
       "      <td>3635</td>\n",
       "      <td>0.6977</td>\n",
       "    </tr>\n",
       "    <tr>\n",
       "      <th>1</th>\n",
       "      <td>Departamento</td>\n",
       "      <td>1509</td>\n",
       "      <td>0.2896</td>\n",
       "    </tr>\n",
       "    <tr>\n",
       "      <th>2</th>\n",
       "      <td>Pieza de inquilinato</td>\n",
       "      <td>30</td>\n",
       "      <td>0.0058</td>\n",
       "    </tr>\n",
       "    <tr>\n",
       "      <th>3</th>\n",
       "      <td>Otro</td>\n",
       "      <td>22</td>\n",
       "      <td>0.0042</td>\n",
       "    </tr>\n",
       "    <tr>\n",
       "      <th>4</th>\n",
       "      <td>Pieza en hotel/pensión</td>\n",
       "      <td>14</td>\n",
       "      <td>0.0027</td>\n",
       "    </tr>\n",
       "  </tbody>\n",
       "</table>\n",
       "</div>"
      ],
      "text/plain": [
       "                      IV1  Frecuencia  Proporción\n",
       "0                    Casa        3635      0.6977\n",
       "1            Departamento        1509      0.2896\n",
       "2    Pieza de inquilinato          30      0.0058\n",
       "3                    Otro          22      0.0042\n",
       "4  Pieza en hotel/pensión          14      0.0027"
      ]
     },
     "execution_count": 467,
     "metadata": {},
     "output_type": "execute_result"
    }
   ],
   "source": [
    "tipovivienda04 = combined_04_total['IV1'].value_counts().reset_index()\n",
    "tipovivienda04.columns = ['IV1', 'Frecuencia']\n",
    "# Calcular el tamaño total de la muestra\n",
    "total_muestra = len(combined_04_total)\n",
    "\n",
    "# Calcular la proporción de cada respuesta\n",
    "tipovivienda04['Proporción'] = round(tipovivienda04['Frecuencia'] / total_muestra, 4)\n",
    "\n",
    "tipovivienda04"
   ]
  },
  {
   "cell_type": "code",
   "execution_count": 591,
   "metadata": {},
   "outputs": [
    {
     "data": {
      "text/plain": [
       "IV1\n",
       "Casa                      3618\n",
       "Departamento              1505\n",
       "Pieza de inquilinato        30\n",
       "Otro                        22\n",
       "Pieza en hotel/pensión      14\n",
       "Name: count, dtype: int64"
      ]
     },
     "execution_count": 591,
     "metadata": {},
     "output_type": "execute_result"
    }
   ],
   "source": [
    "combined_04_total['IV1'].value_counts()"
   ]
  },
  {
   "cell_type": "code",
   "execution_count": 466,
   "metadata": {},
   "outputs": [
    {
     "data": {
      "text/html": [
       "<div>\n",
       "<style scoped>\n",
       "    .dataframe tbody tr th:only-of-type {\n",
       "        vertical-align: middle;\n",
       "    }\n",
       "\n",
       "    .dataframe tbody tr th {\n",
       "        vertical-align: top;\n",
       "    }\n",
       "\n",
       "    .dataframe thead th {\n",
       "        text-align: right;\n",
       "    }\n",
       "</style>\n",
       "<table border=\"1\" class=\"dataframe\">\n",
       "  <thead>\n",
       "    <tr style=\"text-align: right;\">\n",
       "      <th></th>\n",
       "      <th>IV1</th>\n",
       "      <th>Frecuencia</th>\n",
       "      <th>Proporción</th>\n",
       "    </tr>\n",
       "  </thead>\n",
       "  <tbody>\n",
       "    <tr>\n",
       "      <th>0</th>\n",
       "      <td>1</td>\n",
       "      <td>3097</td>\n",
       "      <td>0.7377</td>\n",
       "    </tr>\n",
       "    <tr>\n",
       "      <th>1</th>\n",
       "      <td>2</td>\n",
       "      <td>1070</td>\n",
       "      <td>0.2549</td>\n",
       "    </tr>\n",
       "    <tr>\n",
       "      <th>2</th>\n",
       "      <td>4</td>\n",
       "      <td>19</td>\n",
       "      <td>0.0045</td>\n",
       "    </tr>\n",
       "    <tr>\n",
       "      <th>3</th>\n",
       "      <td>6</td>\n",
       "      <td>8</td>\n",
       "      <td>0.0019</td>\n",
       "    </tr>\n",
       "    <tr>\n",
       "      <th>4</th>\n",
       "      <td>3</td>\n",
       "      <td>2</td>\n",
       "      <td>0.0005</td>\n",
       "    </tr>\n",
       "    <tr>\n",
       "      <th>5</th>\n",
       "      <td>5</td>\n",
       "      <td>2</td>\n",
       "      <td>0.0005</td>\n",
       "    </tr>\n",
       "  </tbody>\n",
       "</table>\n",
       "</div>"
      ],
      "text/plain": [
       "  IV1  Frecuencia  Proporción\n",
       "0   1        3097      0.7377\n",
       "1   2        1070      0.2549\n",
       "2   4          19      0.0045\n",
       "3   6           8      0.0019\n",
       "4   3           2      0.0005\n",
       "5   5           2      0.0005"
      ]
     },
     "execution_count": 466,
     "metadata": {},
     "output_type": "execute_result"
    }
   ],
   "source": [
    "tipovivienda24 = combined_24_total['IV1'].value_counts().reset_index()\n",
    "tipovivienda24.columns = ['IV1', 'Frecuencia']\n",
    "# Calcular el tamaño total de la muestra\n",
    "total_muestra = len(combined_24_total)\n",
    "\n",
    "# Calcular la proporción de cada respuesta\n",
    "tipovivienda24['Proporción'] = round(tipovivienda24['Frecuencia'] / total_muestra, 4)\n",
    "\n",
    "tipovivienda24"
   ]
  },
  {
   "cell_type": "markdown",
   "metadata": {},
   "source": [
    "## 5. Clasificacion y regularizacion"
   ]
  },
  {
   "cell_type": "markdown",
   "metadata": {},
   "source": [
    "#### Armado de base, separación train-test, estandarización"
   ]
  },
  {
   "cell_type": "code",
   "execution_count": 655,
   "metadata": {},
   "outputs": [],
   "source": [
    "#FILTRAR PERSONAS Q NO RESPONDIERON ESTADO=0\n",
    "#ESTADO: 0 = Entrevista individual no realizada (no respuesta al cuestionario individual)\n",
    "    # 1 = Ocupado\n",
    "    # 2 = Desocupado\n",
    "    # 3 = Inactivo\n",
    "    # 4 = Menor de 10 años\n",
    "\n",
    "# largo_04 = len (combined_04)\n",
    "# largo_24 = len (combined_24)\n",
    "\n",
    "datos_04 = combined_04[combined_04['ESTADO'] != 0]\n",
    "datos_24 = combined_24 [combined_24 ['ESTADO'] !=0]\n",
    "\n",
    "# print (f'cant original 04',largo_04)\n",
    "# print (f'cant nhueva 04', len(datos_04))\n",
    "\n",
    "# print (f'cant original 24',largo_24)\n",
    "# print (f'cant nhueva 24', len(datos_24))\n",
    "# columnas_datos04 = datos_04.columns.tolist()\n",
    "# columnas_datos04"
   ]
  },
  {
   "cell_type": "code",
   "execution_count": 656,
   "metadata": {},
   "outputs": [],
   "source": [
    "sacar_pre_lasso = ['CODUSU', 'ANO4', 'TRIMESTRE', 'ESTADO', 'AGLOMERADO', 'COMPONENTE', 'REGION', 'REALIZADA']\n",
    "datos_04 = datos_04.drop (columns = sacar_pre_lasso)\n",
    "datos_24 = datos_24.drop (columns = sacar_pre_lasso)"
   ]
  },
  {
   "cell_type": "code",
   "execution_count": 657,
   "metadata": {},
   "outputs": [],
   "source": [
    "#Drop ns/nr\n",
    "filas_a_eliminar04 = datos_04[\n",
    "    datos_04.isin(['Ns./Nr.']).any(axis=1)\n",
    "].index"
   ]
  },
  {
   "cell_type": "code",
   "execution_count": 658,
   "metadata": {},
   "outputs": [],
   "source": [
    "filas_a_eliminar24 = datos_24[\n",
    "    datos_24.isin(['Ns./Nr.']).any(axis=1)\n",
    "].index"
   ]
  },
  {
   "cell_type": "code",
   "execution_count": 659,
   "metadata": {},
   "outputs": [
    {
     "data": {
      "text/plain": [
       "0"
      ]
     },
     "execution_count": 659,
     "metadata": {},
     "output_type": "execute_result"
    }
   ],
   "source": [
    "len(filas_a_eliminar04)"
   ]
  },
  {
   "cell_type": "markdown",
   "metadata": {},
   "source": [
    "#### Separación base Respondieron / no respondieron\n",
    "Problema: En 2004 no hay gente que no haya respondido\n",
    "- En 2024 hay 40"
   ]
  },
  {
   "cell_type": "code",
   "execution_count": 54,
   "metadata": {},
   "outputs": [],
   "source": [
    "#ACA HAY QUE DEFINIR LA BASE DE RESPONDIERON Y NO RESPONDIERON PARA CADA AÑO: \n",
    "\n",
    "# # DataFrame para las personas con ESTADO = 0\n",
    "# norespondieron_04 = combined_04[combined_04['ESTADO'] == 0]\n",
    "# norespondieron_24 = combined_24[combined_24['ESTADO'] == 0]\n",
    "\n",
    "# # DataFrame para las personas con ESTADO distinto de 0\n",
    "# respondieron_04 = combined_04[combined_04['ESTADO'] != 0]\n",
    "# respondieron_24 = combined_24[combined_24['ESTADO'] != 0]\n",
    "\n",
    "# # Imprimir el número de observaciones en cada DataFrame\n",
    "# print(f\"Total de personas que no respondieron (2004): {len(norespondieron_04)}\")\n",
    "# print(f\"Total de personas que respondieron (2004) {len(respondieron_04)}\")\n",
    "\n",
    "# print(f\"Total de personas que no respondieron (2024): {len(norespondieron_24)}\")\n",
    "# print(f\"Total de personas que respondieron (2024) {len(respondieron_24)}\")"
   ]
  },
  {
   "cell_type": "code",
   "execution_count": 660,
   "metadata": {},
   "outputs": [],
   "source": [
    "# Se separa X e y a partir de la selección de columnas numericas\n",
    "X_2004 = datos_04.drop(columns=['desocupado'])\n",
    "y_2004 = datos_04['desocupado']\n",
    "X_2024 = datos_24.drop(columns=['desocupado'])\n",
    "y_2024 = datos_24['desocupado']"
   ]
  },
  {
   "cell_type": "code",
   "execution_count": 661,
   "metadata": {},
   "outputs": [
    {
     "name": "stdout",
     "output_type": "stream",
     "text": [
      "{'VII2_1_98.0', 'IV1_Departamento', 'CH14_02', 'VII2_4_5.0', 'IV9_Dentro de la vivienda', 'CH10_Nunca asistió', 'II9_Compartido con otro/s hogar/es de la misma vivienda', 'V7_No', 'IV6_Por cañería dentro de la vivienda', 'CH08_No paga ni le descuentan', 'VII1_2_10.0', 'CH14_00', 'VII1_2_11.0', 'V8_Ns./Nr.', 'VII1_2_2.0', 'CH03_Otros familiares', 'VII1_2_7.0', 'IV11_A red pública (cloaca)', 'CH12_Primario', 'NIVEL_ED_Secundaria Incompleta', 'CH14_08', 'H15_Sí', 'V18_Ns./Nr.', 'CH12_Secundario', 'CH16_Ns./Nr.', 'IV1_Pieza en hotel/pensión', 'VII2_1_3.0', 'VII1_1_2.0', 'VII2_3_3.0', 'IV4_Baldosa/losa sin cubierta', 'V19_B_No', 'V13_No', 'V21_Ns./Nr.', 'IV12_1_No', 'VII2_1_2.0', 'IV10_Inodoro sin botón/cadena y con arrastre de agua', 'IV3_Mosaico/baldosa/madera/cerámica/alfombra', 'II5_No', 'VII2_1_Otra persona que no vive en el hogar', 'CH12_EGB', 'V17_Ns./Nr.', 'VII1_1_7.0', 'II8_Otro', 'CH14_99', 'CH15_En otra localidad', 'VII1_1_8.0', 'V6_Sí', 'II7_Ocupante en relación de dependencia', 'IV4_Membrana/cubierta asfáltica', 'VII1_1_5.0', 'IV1_Pieza de inquilinato', 'CH08_Obra social y mutual/prepaga/servicio de emergencia', 'V7_Ns./Nr.', 'CH09_No', 'CH13_Sí', 'IV4_Chapa de metal sin cubierta', 'VII2_2_4.0', 'CH16_En otro país', 'V5_No', 'IV11_Sólo a pozo ciego', 'CH11_Ns./Nr.', 'CH12_Polimodal', 'IV4_Chapa de cartón', 'VII2_2_2.0', 'CH14_09', 'VII2_1_6.0', 'VII2_3_6.0', 'CH12_Ns./Nr.', 'V4_Ns./Nr.', 'V14_Ns./Nr.', 'V19_A_Ns./Nr.', 'V9_No', 'NIVEL_ED_Sin instrucción', 'CH16_En un país limítrofe', 'V19_A_No', 'V2_No', 'II8_Gas de red', 'IV10_Letrina (sin arrastre de agua)', 'VII1_2_6.0', 'IV3_ESP_FKEXIPLAS                                    ', 'IV6_Fuera de la vivienda pero dentro del terreno', 'VII1_1_3.0', 'II4_3_Sí', 'IV12_3_Sí', 'V13_Ns./Nr.', 'IV7_Perforación con bomba manual', 'VII2_2_Servicio doméstico', 'CH12_Educación especial (discapacitado)', 'CH08_Ns./Nr.', 'II9_Uso exclusivo del hogar', 'VII1_1_4.0', 'CH03_Yerno/Nuera', 'ADECINDR', 'V17_No', 'VII2_1_5.0', 'V10_No', 'II7_Está en sucesión', 'IV11_A cámara séptica y pozo ciego', 'IV5_No', 'CH14_07', 'II4_2_No', 'VII2_2_3.0', 'IV3_Cemento/ladrillo fijo', 'CH16_En otra localidad de esta provincia', 'NIVEL_ED_Superior Universitaria Incompleta', 'VII1_2_3.0', 'IV11_A hoyo/excavación en la tierra', 'CH03_Hermano', 'IV8_Sí', 'VII2_2_7.0', 'CH11_Público', 'CH14_06', 'II7_Ocupante por pago de impuestos/expensas', 'V3_Ns./Nr.', 'II4_1_Sí', 'II7_Inquilino/arrendatario de la vivienda', 'II7_Ocupante gratuito (con permiso)', 'CH15_En otra provincia (especificar)', 'VII1_2_15.0', 'V12_No', 'IV9_Fuera de la vivienda pero dentro del terreno', 'V6_No', 'V22_No', 'V15_No', 'CH14_01', 'VII2_1_1.0', 'CH14_04', 'CH07_Viudo', 'V9_Ns./Nr.', 'V8_No', 'V11_No', 'VII2_2_Otra persona que no vive en el hogar', 'CH07_Casado', 'CH16_No había nacido', 'VII2_3_Ninguna', 'VII1_2_1.0', 'VII1_1_Servicio doméstico', 'IV7_Otra fuente', 'II9_Compartido con otra/s vivienda/s', 'CH08_Planes y seguros públicos', 'VII1_1_10.0', 'IV4_N/S. Depto. de propiedad horizontal', 'VII2_2_8.0', 'CH03_No familiares', 'CH16_En otra provincia (especificar)', 'CH13_Ns./Nr.', 'GDECINDR', 'CH03_Nieto', 'IV9_Fuera del terreno', 'IV7_Red pública (agua corriente)', 'CH12_Universitario', 'VII2_1_12.0', 'CH03_Hijo/Hijastro', 'CH14_98', 'CH03_Cónyuge/Pareja', 'II8_Gas de tubo/garrafa', 'CH12_Posgrado Universitario', 'VII2_2_Ninguna', 'VII2_1_Servicio doméstico', 'II9_No tiene baño', 'II7_Otra situación', 'IV6_Fuera del terreno', 'CH07_Separado o divorciado', 'RDECINDR', 'V16_Ns./Nr.', 'VII2_3_5.0', 'NIVEL_ED_Secundaria Completa', 'II4_1_No', 'CH03_Suegro', 'P47T', 'V11_Ns./Nr.', 'V1_No', 'CH13_No', 'IV12_2_No', 'CH09_Ns./Nr.', 'CH14_03', 'IV5_Ns./Nr.', 'V2_Ns./Nr.', 'V10_Ns./Nr.', 'II7_Propietario de la vivienda y el terreno', 'IV3_Otro', 'V18_No', 'II8_Kerosene/leña/carbón', 'IV10_Inodoro con botón/mochila/cadena y arrastre de agua', 'V6_Ns./Nr.', 'VII1_2_5.0', 'VII1_2_4.0', 'CH10_No asiste, pero asistió', 'V5_Ns./Nr.', 'IV12_3_No', 'IV7_Perforación con bomba a motor', 'CH08_Mutual/prepaga/servicio de emergencia/planes y seguros públi', 'IV4_Chapa de fibrocemento/plástico', 'CH15_En un país limítrofe', 'CH12_Jardín/Preescolar', 'IV12_1_Sí', 'V15_Ns./Nr.', 'VII2_2_5.0', 'VII2_2_10.0', 'VII2_3_4.0', 'IV1_Otro', 'V3_No', 'II7_Ocupante de hecho (sin permiso)', 'NIVEL_ED_Primaria Completa', 'II4_3_No', 'CH11_Privado', 'V21_No', 'IV4_Pizarra/teja', 'II4_2_Sí', 'IV3_Ladrillo suelto/tierra', 'CH15_En otro país', 'CH14_05', 'V16_No', 'VII2_3_1.0', 'CH03_Madre/Padre', 'V19_B_Ns./Nr.', 'VII1_2_8.0', 'CH07_Soltero', 'VII2_1_4.0', 'V4_No', 'VII2_2_1.0', 'VII2_2_6.0', 'H15_No', 'DECINDR', 'CH15_Ns./Nr.', 'V12_Ns./Nr.', 'CH04_Mujer', 'CH08_Mutual/Prepaga/Servicio de emergencia', 'VII2_1_7.0', 'CH10_Sí, asiste', 'IV8_No', 'VII1_2_Servicio doméstico', 'V14_No', 'VII1_1_6.0', 'IV12_2_Sí', 'NIVEL_ED_Superior Universitaria Completa', 'VII1_1_Otra persona que no vive en el hogar', 'CH12_Terciario', 'VII1_2_Ninguna', 'V22_Ns./Nr.', 'CH09_Menor de 2 años', 'IV11_Ns/Nr', 'II7_Propietario de la vivienda solamente'}\n",
      "{'CH07_3', 'II4_1_1', 'VII2_4_6', 'IX_MEN10', 'II7_5', 'CAT_INAC_5', 'VII1_1_5', 'CH11_1', 'CH16_9', 'VII2_3_47', 'V9_9', 'CH08_3', 'VII2_2_96', 'CH14_99.0', 'VII2_2_98', 'CH03_2', 'IV1_5', 'CH16_3', 'CH15_5', 'II7_4', 'II7_8', 'IV5_2', 'NIVEL_ED_2', 'VII2_1_8', 'II4_3_1', 'V3_2', 'VII1_2_1', 'NIVEL_ED_3', 'VII2_1_3', 'V2_2', 'VII1_1_97', 'IV3_2', 'NIVEL_ED_4', 'NIVEL_ED_5', 'CH10_2', 'VII2_2_7', 'V17_2', 'IV7_2', 'IV10_3', 'CH15_3', 'IV10_1', 'V16_2', 'NIVEL_ED_7', 'V16_9', 'IV1_2', 'V22_2', 'CH12_5', 'V21_2', 'CAT_OCUP_3', 'VII2_1_2', 'CH11_9', 'CAT_OCUP_4', 'II5_2', 'VII2_2_4', 'V12_2', 'V11_9', 'IV6_3', 'CH12_99', 'IV11_2', 'IV1_3', 'V13_9', 'VII2_2_6', 'V6_9', 'IV4_9', 'II4_3_2', 'V6_2', 'CH16_2', 'CH03_10', 'CH13_2', 'IV9_1', 'CH14_7.0', 'IV4_5', 'IV12_3_2', 'V15_2', 'VII1_2_5', 'CH14_9.0', 'V10_9', 'II7_3', 'VII1_1_9', 'CH14_1.0', 'VII2_1_96', 'CH15_4', 'V11_2', 'IV7_3', 'V18_2', 'CH10_9', 'CH07_2', 'CH03_8', 'V1_9', 'IV1_6', 'VII1_2_97', 'CH03_6', 'CH10_3', 'CAT_INAC_1', 'IV1_4', 'V5_2', 'CAT_INAC_6', 'VII1_1_99', 'CH12_8', 'CH03_9', 'IV11_1', 'CH03_3', 'CH03_4', 'IV10_2', 'II4_2_2', 'V17_9', 'IV3_3', 'IV4_4', 'V19_B_2', 'VII2_2_11', 'IV9_2', 'IV8_2', 'CH08_2', 'VII2_2_5', 'CH13_1', 'CH13_9', 'VII1_2_2', 'II8_2', 'II7_6', 'CH12_3', 'V9_2', 'VII2_3_6', 'V12_9', 'V5_9', 'PONDIH', 'CH08_4', 'II9_1', 'VII2_2_3', 'II7_1', 'CH11_2', 'V2_9', 'VII2_2_9', 'H15_2', 'CH16_5', 'IV11_3', 'VII1_1_6', 'CH12_6', 'CH12_7', 'CH14_8.0', 'VII2_1_4', 'CH07_4', 'IV12_2_2', 'II4_2_1', 'VII2_3_3', 'CH10_1', 'CAT_INAC_4', 'V18_9', 'V8_9', 'VII2_3_97', 'V7_2', 'II7_9', 'V14_9', 'VII1_2_3', 'II9_2', 'CH03_7', 'VII1_1_98', 'NIVEL_ED_6', 'V7_9', 'VII2_4_5', 'VII1_1_2', 'VII2_2_1', 'II8_1', 'CH16_1', 'VII1_2_10', 'VII2_1_5', 'V4_2', 'V15_9', 'IV4_7', 'V8_2', 'VII1_1_4', 'CH09_9', 'CH07_9', 'II7_2', 'H15_1', 'CH08_9', 'CAT_OCUP_1', 'V13_2', 'V1_2', 'CH15_2', 'VII2_1_97', 'CH16_6', 'V19_A_9', 'CH08_23', 'CH03_5', 'VII2_1_6', 'IV6_2', 'CH09_3', 'CH12_1', 'CAT_INAC_7', 'VII2_2_2', 'V3_9', 'II7_7', 'VII1_2_4', 'VII2_3_4', 'IV12_1_2', 'II8_4', 'VII1_2_7', 'VII2_1_99', 'VII2_3_1', 'VII2_3_5', 'CAT_INAC_3', 'V10_2', 'VII1_1_96', 'CH15_9', 'CH09_2', 'II8_3', 'CH16_4', 'II9_4', 'II4_1_2', 'IV7_4', 'VII1_2_6', 'CH12_4', 'IV11_4', 'CH14_3.0', 'V19_B_9', 'VII2_1_98', 'CH12_2', 'CH14_4.0', 'V4_9', 'VII1_1_3', 'V14_2', 'II9_3', 'CH14_98.0', 'CH14_6.0', 'CH14_5.0', 'IV4_3', 'CH14_2.0', 'CH07_5', 'CH12_9', 'CH04_2', 'VII2_3_12', 'CAT_OCUP_2', 'IV4_2', 'CH08_12'}\n"
     ]
    }
   ],
   "source": [
    "lista_columns = X_2004.columns.tolist()\n",
    "lista_columns2 = X_2024.columns.tolist()\n",
    "\n",
    "solo_en_lista1 = set(lista_columns) - set(lista_columns2)\n",
    "solo_en_lista2 = set(lista_columns2) - set(lista_columns)\n",
    "print (solo_en_lista1)\n",
    "print (solo_en_lista2)"
   ]
  },
  {
   "cell_type": "markdown",
   "metadata": {},
   "source": [
    "#### Separación Train Test"
   ]
  },
  {
   "cell_type": "code",
   "execution_count": 662,
   "metadata": {},
   "outputs": [],
   "source": [
    "#Partir la base train test para cada ano. \n",
    "#Semilla 101\n",
    "#agregar columna de unos (1)\n",
    "x_train24, x_test24, y_train_24, y_test_24 = train_test_split(X_2024, y_2024, test_size=0.3, random_state=101)\n",
    "x_train04, x_test04, y_train_04, y_test_04 = train_test_split(X_2004, y_2004, test_size=0.3, random_state=101)\n",
    "\n",
    "# x_train_04 = sm.add_constant(x_train_04) #AGREGO COLUMNA DE UNOS\n",
    "# x_train_24 = sm.add_constant(x_train_24)"
   ]
  },
  {
   "cell_type": "code",
   "execution_count": 663,
   "metadata": {},
   "outputs": [
    {
     "name": "stdout",
     "output_type": "stream",
     "text": [
      "NRO_HOGAR               float64\n",
      "CH06                      int32\n",
      "P47T                    float64\n",
      "DECINDR                  object\n",
      "RDECINDR                 object\n",
      "                         ...   \n",
      "NSE_bajo                   bool\n",
      "NSE_medio                  bool\n",
      "educacion                 int64\n",
      "proporcion_educacion    float64\n",
      "ayuda_social              int64\n",
      "Length: 280, dtype: object\n"
     ]
    }
   ],
   "source": [
    "tipos_de_datos = x_train04.dtypes \n",
    "print(tipos_de_datos)"
   ]
  },
  {
   "cell_type": "markdown",
   "metadata": {},
   "source": [
    "#### Estandarizar"
   ]
  },
  {
   "cell_type": "code",
   "execution_count": 664,
   "metadata": {},
   "outputs": [
    {
     "name": "stdout",
     "output_type": "stream",
     "text": [
      "                       count          mean       std       min       25%  \\\n",
      "NRO_HOGAR             3740.0  1.120910e-16  1.000134 -0.025365 -0.025365   \n",
      "CH06                  3740.0 -8.929280e-17  1.000134 -1.540975 -0.875851   \n",
      "V2_M                  3740.0 -1.899847e-17  1.000134 -0.294265 -0.294265   \n",
      "V3_M                  3740.0  0.000000e+00  0.000000  0.000000  0.000000   \n",
      "V4_M                  3740.0  0.000000e+00  0.000000  0.000000  0.000000   \n",
      "V5_M                  3740.0  0.000000e+00  0.000000  0.000000  0.000000   \n",
      "V8_M                  3740.0  0.000000e+00  0.000000  0.000000  0.000000   \n",
      "V9_M                  3740.0  0.000000e+00  0.000000  0.000000  0.000000   \n",
      "V10_M                 3740.0  0.000000e+00  0.000000  0.000000  0.000000   \n",
      "V11_M                 3740.0  0.000000e+00  0.000000  0.000000  0.000000   \n",
      "V12_M                 3740.0  0.000000e+00  0.000000  0.000000  0.000000   \n",
      "V18_M                 3740.0  0.000000e+00  0.000000  0.000000  0.000000   \n",
      "V19_AM                3740.0  0.000000e+00  0.000000  0.000000  0.000000   \n",
      "V21_M                 3740.0  0.000000e+00  0.000000  0.000000  0.000000   \n",
      "T_VI                  3740.0  3.989678e-17  1.000134 -0.300869 -0.300869   \n",
      "PONDERA               3740.0  1.101911e-16  1.000134 -1.996518 -0.668974   \n",
      "IV2                   3740.0  2.194323e-16  1.000134 -1.904751 -1.001636   \n",
      "II1                   3740.0 -3.894686e-17  1.000134 -2.801855 -1.002432   \n",
      "II2                   3740.0  7.646884e-17  1.000134 -2.462328 -0.128841   \n",
      "II5_1                 3740.0  0.000000e+00  0.000000  0.000000  0.000000   \n",
      "IX_TOT                3740.0  9.974196e-17  1.000134 -1.606855 -0.474883   \n",
      "IX_MEN10              3740.0 -4.939602e-17  1.000134 -0.675930 -0.675930   \n",
      "IX_MAYEQ10            3740.0  7.314411e-17  1.000134 -1.594773 -0.881834   \n",
      "ITF                   3740.0 -3.039755e-17  1.000134 -0.760325 -0.760325   \n",
      "DECIFR                3740.0 -2.137328e-18  1.000134 -2.136485 -0.848367   \n",
      "RDECIFR               3740.0 -1.994839e-16  1.000134 -2.079300 -0.806954   \n",
      "GDECIFR               3740.0 -1.593497e-16  1.000134 -2.118183 -0.835558   \n",
      "ADECIFR               3740.0 -1.681364e-16  1.000134 -2.093205 -0.816319   \n",
      "IPCF                  3740.0 -1.519878e-17  1.000134 -0.712993 -0.712993   \n",
      "DECCFR                3740.0  6.127006e-17  1.000134 -1.880670 -0.921387   \n",
      "RDECCFR               3740.0  1.329893e-17  1.000134 -1.850619 -0.896876   \n",
      "GDECCFR               3740.0  1.899847e-17  1.000134 -1.865586 -0.909792   \n",
      "ADECCFR               3740.0  5.509556e-17  1.000134 -1.855792 -0.900403   \n",
      "PONDIH                3740.0  5.794533e-17  1.000134 -0.888866 -0.888866   \n",
      "educacion             3740.0 -1.035417e-16  1.000134 -0.723908 -0.723908   \n",
      "proporcion_educacion  3740.0 -3.324732e-17  1.000134 -1.157171 -1.157171   \n",
      "ayuda_social          3740.0 -6.958189e-17  1.000134 -0.140104 -0.140104   \n",
      "\n",
      "                           50%       75%        max  \n",
      "NRO_HOGAR            -0.025365 -0.025365  60.786064  \n",
      "CH06                 -0.115711  0.739448   2.829835  \n",
      "V2_M                 -0.294265 -0.294265   5.945927  \n",
      "V3_M                  0.000000  0.000000   0.000000  \n",
      "V4_M                  0.000000  0.000000   0.000000  \n",
      "V5_M                  0.000000  0.000000   0.000000  \n",
      "V8_M                  0.000000  0.000000   0.000000  \n",
      "V9_M                  0.000000  0.000000   0.000000  \n",
      "V10_M                 0.000000  0.000000   0.000000  \n",
      "V11_M                 0.000000  0.000000   0.000000  \n",
      "V12_M                 0.000000  0.000000   0.000000  \n",
      "V18_M                 0.000000  0.000000   0.000000  \n",
      "V19_AM                0.000000  0.000000   0.000000  \n",
      "V21_M                 0.000000  0.000000   0.000000  \n",
      "T_VI                 -0.300869 -0.300869   6.244795  \n",
      "PONDERA              -0.071402  0.550002   5.632449  \n",
      "IV2                  -0.098522  0.804593   3.513937  \n",
      "II1                  -0.102721  0.796990   3.496124  \n",
      "II2                  -0.128841  1.037903   4.538133  \n",
      "II5_1                 0.000000  0.000000   0.000000  \n",
      "IX_TOT                0.091103  0.657088   4.618988  \n",
      "IX_MEN10             -0.675930  0.446618   3.814264  \n",
      "IX_MAYEQ10           -0.168894  0.544045   4.108743  \n",
      "ITF                  -0.346948  0.449558   5.289089  \n",
      "DECIFR                0.182128  0.954998   0.954998  \n",
      "RDECIFR               0.210924  0.974332   0.974332  \n",
      "GDECIFR               0.190542  0.960117   0.960117  \n",
      "ADECIFR               0.205189  0.971321   0.971321  \n",
      "IPCF                 -0.361194  0.323095   5.220965  \n",
      "DECCFR                0.277718  0.997180   0.997180  \n",
      "RDECCFR               0.056868  1.010611   1.010611  \n",
      "GDECCFR               0.284949  1.001794   1.001794  \n",
      "ADECCFR               0.054986  1.010375   1.010375  \n",
      "PONDIH               -0.191770  0.665133   4.160192  \n",
      "educacion            -0.723908  1.381392   1.381392  \n",
      "proporcion_educacion -0.035469  0.525382   2.207936  \n",
      "ayuda_social         -0.140104 -0.140104   7.137538  \n"
     ]
    }
   ],
   "source": [
    "# Identificar las columnas booleanas, float e int\n",
    "columnas_a_estandarizar_04 = x_train04.select_dtypes(include=['int64', 'float64']).columns\n",
    "columnas_a_estandarizar_24 = x_train24.select_dtypes(include=['int64', 'float64']).columns\n",
    "\n",
    "# Inicializar el estandarizador\n",
    "sc_04 = StandardScaler()\n",
    "sc_24 = StandardScaler()\n",
    "\n",
    "# Estandarizamos las observaciones de entrenamiento\n",
    "x_train_04_transformed = x_train04.copy()\n",
    "x_train_04_transformed[columnas_a_estandarizar_04] = sc_04.fit_transform(x_train04[columnas_a_estandarizar_04])\n",
    "\n",
    "x_train_24_transformed = x_train24.copy()\n",
    "x_train_24_transformed[columnas_a_estandarizar_24] = sc_24.fit_transform(x_train24[columnas_a_estandarizar_24])\n",
    "\n",
    "# Estandarizamos las observaciones de test usando el estandarizador ya ajustado\n",
    "x_test_04_transformed = x_test04.copy()\n",
    "x_test_04_transformed[columnas_a_estandarizar_04] = sc_04.transform(x_test04[columnas_a_estandarizar_04])\n",
    "\n",
    "x_test_24_transformed = x_test24.copy()\n",
    "x_test_24_transformed[columnas_a_estandarizar_24] = sc_24.transform(x_test24[columnas_a_estandarizar_24])\n",
    "\n",
    "# Estadisticas luego de estandarizar\n",
    "print(x_train_24_transformed.describe().T)\n",
    "\n",
    "x_train_04 = x_train_04_transformed\n",
    "x_test_04 = x_test_04_transformed\n",
    "x_train_24 = x_train_24_transformed\n",
    "x_test_24 = x_test_24_transformed\n"
   ]
  },
  {
   "cell_type": "markdown",
   "metadata": {},
   "source": [
    "#### Lasso"
   ]
  },
  {
   "cell_type": "code",
   "execution_count": 666,
   "metadata": {},
   "outputs": [],
   "source": [
    "#Regresion logistica con penalidad LASSO (todos estos pasos se hacen para cada ano)\n",
    "#### Regresion logistica para 2004\n",
    "alpha = 1\n",
    "log04_lasso = LogisticRegression(penalty='l1', C=(1/alpha), solver='liblinear').fit(x_train_04, y_train_04)\n",
    "y_test_pred_score_04_lasso = log04_lasso.predict_proba(x_train_04)[:,1]\n",
    "y_pred_log04_lasso = log04_lasso.predict(x_test_04)\n"
   ]
  },
  {
   "cell_type": "code",
   "execution_count": 667,
   "metadata": {},
   "outputs": [],
   "source": [
    "#### Regresion logistica para 2024\n",
    "log24_lasso = LogisticRegression(penalty='l1', C=(1/alpha), solver='liblinear').fit(x_train_24, y_train_24)\n",
    "y_test_pred_score_24_lasso = log24_lasso.predict_proba(x_train_24)[:,1]\n",
    "y_pred_log24_lasso = log24_lasso.predict(x_test_24)"
   ]
  },
  {
   "cell_type": "code",
   "execution_count": 668,
   "metadata": {},
   "outputs": [
    {
     "name": "stdout",
     "output_type": "stream",
     "text": [
      "Matriz de confusion (Reg Log LASSO 2004)\n",
      " [[1717   21]\n",
      " [ 111   20]]\n",
      "\n",
      "AUC Reg Log (2004): 0.5703\n"
     ]
    },
    {
     "data": {
      "image/png": "[encoded data removed]",
      "text/plain": [
       "<Figure size 640x480 with 1 Axes>"
      ]
     },
     "metadata": {},
     "output_type": "display_data"
    },
    {
     "name": "stdout",
     "output_type": "stream",
     "text": [
      "La accuracy del modelo (Reg Log LASSO 2004) es: 0.9294\n"
     ]
    }
   ],
   "source": [
    "#### Medidas de precision Regresion logistica LASSO para 2004\n",
    "#Matriz de confusion\n",
    "conflog04_lasso = confusion_matrix(y_test_04, y_pred_log04_lasso) \n",
    "print(\"Matriz de confusion (Reg Log LASSO 2004)\\n\", conflog04_lasso)\n",
    "\n",
    "#AUC\n",
    "auc_log04_lasso = roc_auc_score(y_test_04, y_pred_log04_lasso)\n",
    "print('\\nAUC Reg Log (2004): %.4f' %auc_log04_lasso)\n",
    "\n",
    "#Curva ROC\n",
    "fpr, tpr, thresholds = roc_curve(y_test_04, y_pred_log04_lasso)\n",
    "display = RocCurveDisplay(fpr=fpr, tpr=tpr, roc_auc=auc_log04_lasso, estimator_name='Reg Log')\n",
    "display.plot()  \n",
    "plt.plot([0, 1], [0, 1], color='red', linestyle='--')\n",
    "plt.show() \n",
    "\n",
    "# #MSE\n",
    "# ecm_a1_l04 = mean_squared_error(y_test_04, y_pred_log04_lasso)\n",
    "# print(\"Error cuadrático medio:\", ecm_a1_l04) \n",
    "\n",
    "#Accuracy\n",
    "accuracy_log04_lasso = accuracy_score(y_test_04, y_pred_log04_lasso)\n",
    "print(\"La accuracy del modelo (Reg Log LASSO 2004) es: %.4f\" %accuracy_log04_lasso)"
   ]
  },
  {
   "cell_type": "code",
   "execution_count": 669,
   "metadata": {},
   "outputs": [
    {
     "name": "stdout",
     "output_type": "stream",
     "text": [
      "Matriz de confusion (Reg Log LASSO 2024)\n",
      " [[1521    3]\n",
      " [  60   19]]\n",
      "\n",
      "AUC Reg Log LASSO (2024): 0.6193\n"
     ]
    },
    {
     "data": {
      "image/png": "[encoded data removed]",
      "text/plain": [
       "<Figure size 640x480 with 1 Axes>"
      ]
     },
     "metadata": {},
     "output_type": "display_data"
    },
    {
     "name": "stdout",
     "output_type": "stream",
     "text": [
      "La accuracy del modelo (Reg Log LASSO 2024) es: 0.9607\n"
     ]
    }
   ],
   "source": [
    "#### Medidas de precision Regresion logistica LASSO para 2024\n",
    "#Matriz de confusion\n",
    "conflog24_lasso = confusion_matrix(y_test_24, y_pred_log24_lasso) \n",
    "print(\"Matriz de confusion (Reg Log LASSO 2024)\\n\", conflog24_lasso)\n",
    "\n",
    "#AUC\n",
    "auc_log24_lasso = roc_auc_score(y_test_24, y_pred_log24_lasso)\n",
    "print('\\nAUC Reg Log LASSO (2024): %.4f' %auc_log24_lasso)\n",
    "\n",
    "#Curva ROC\n",
    "fpr, tpr, thresholds = roc_curve(y_test_24, y_pred_log24_lasso)\n",
    "display = RocCurveDisplay(fpr=fpr, tpr=tpr, roc_auc=auc_log24_lasso, estimator_name='Reg Log')\n",
    "display.plot()  \n",
    "plt.plot([0, 1], [0, 1], color='red', linestyle='--')\n",
    "plt.show() \n",
    "\n",
    "# #MSE\n",
    "# ecm_a1_l24 = mean_squared_error(y_test_24, y_pred_log24_lasso)\n",
    "# print(\"Error cuadrático medio:\", ecm_a1_l24) \n",
    "\n",
    "#Accuracy\n",
    "accuracy_log24_lasso = accuracy_score(y_test_24, y_pred_log24_lasso)\n",
    "print(\"La accuracy del modelo (Reg Log LASSO 2024) es: %.4f\" %accuracy_log24_lasso)"
   ]
  },
  {
   "cell_type": "markdown",
   "metadata": {},
   "source": [
    "#### Ridge"
   ]
  },
  {
   "cell_type": "code",
   "execution_count": 670,
   "metadata": {},
   "outputs": [],
   "source": [
    "#Regresion logistica con penalidad ridge (todos estos pasos se hacen para cada ano)\n",
    "#### Regresion logistica para 2004\n",
    "alpha = 1\n",
    "log04_ridge = LogisticRegression(penalty='l2', C=(1/alpha), solver='liblinear').fit(x_train_04, y_train_04)\n",
    "y_test_pred_score_04_ridge = log04_ridge.predict_proba(x_train_04)[:,1]\n",
    "y_pred_log04_ridge = log04_ridge.predict(x_test_04)\n",
    "\n",
    "#### Regresion logistica para 2024\n",
    "log24_ridge = LogisticRegression(penalty='l2', C=(1/alpha), solver='liblinear').fit(x_train_24, y_train_24)\n",
    "y_test_pred_score_24_ridge = log24_ridge.predict_proba(x_train_24)[:,1]\n",
    "y_pred_log24_ridge = log24_ridge.predict(x_test_24)"
   ]
  },
  {
   "cell_type": "code",
   "execution_count": 671,
   "metadata": {},
   "outputs": [
    {
     "name": "stdout",
     "output_type": "stream",
     "text": [
      "Matriz de confusion (Reg Log ridge 2004)\n",
      " [[1714   24]\n",
      " [ 107   24]]\n",
      "\n",
      "AUC Reg Log ridge (2004): 0.5847\n"
     ]
    },
    {
     "data": {
      "image/png": "[encoded data removed]",
      "text/plain": [
       "<Figure size 640x480 with 1 Axes>"
      ]
     },
     "metadata": {},
     "output_type": "display_data"
    },
    {
     "name": "stdout",
     "output_type": "stream",
     "text": [
      "La accuracy del modelo (Reg Log ridge 2004) es: 0.9299\n"
     ]
    }
   ],
   "source": [
    "#### Medidas de precision Regresion logistica ridge para 2004\n",
    "#Matriz de confusion\n",
    "conflog04_ridge = confusion_matrix(y_test_04, y_pred_log04_ridge) \n",
    "print(\"Matriz de confusion (Reg Log ridge 2004)\\n\", conflog04_ridge)\n",
    "\n",
    "#AUC\n",
    "auc_log04_ridge = roc_auc_score(y_test_04, y_pred_log04_ridge)\n",
    "print('\\nAUC Reg Log ridge (2004): %.4f' %auc_log04_ridge)\n",
    "\n",
    "#Curva ROC\n",
    "fpr, tpr, thresholds = roc_curve(y_test_04, y_pred_log04_ridge)\n",
    "display = RocCurveDisplay(fpr=fpr, tpr=tpr, roc_auc=auc_log04_ridge, estimator_name='Reg Log')\n",
    "display.plot()  \n",
    "plt.plot([0, 1], [0, 1], color='red', linestyle='--')\n",
    "plt.show() \n",
    "\n",
    "# #MSE\n",
    "# ecm_a1_r04 = mean_squared_error(y_test_04, y_pred_log04_ridge)\n",
    "# print(\"Error cuadrático medio:\", ecm_a1_r04)  \n",
    "\n",
    "#Accuracy\n",
    "accuracy_log04_ridge = accuracy_score(y_test_04, y_pred_log04_ridge)\n",
    "print(\"La accuracy del modelo (Reg Log ridge 2004) es: %.4f\" %accuracy_log04_ridge)"
   ]
  },
  {
   "cell_type": "code",
   "execution_count": 672,
   "metadata": {},
   "outputs": [
    {
     "name": "stdout",
     "output_type": "stream",
     "text": [
      "Matriz de confusion (Reg Log ridge 2024)\n",
      " [[1714   24]\n",
      " [ 107   24]]\n",
      "\n",
      "AUC Reg Log ridge (2024): 0.5686\n"
     ]
    },
    {
     "data": {
      "image/png": "[encoded data removed]",
      "text/plain": [
       "<Figure size 640x480 with 1 Axes>"
      ]
     },
     "metadata": {},
     "output_type": "display_data"
    },
    {
     "name": "stdout",
     "output_type": "stream",
     "text": [
      "La accuracy del modelo (Reg Log ridge 2024) es: 0.9557\n"
     ]
    }
   ],
   "source": [
    "#### Medidas de precision Regresion logistica ridge para 2024\n",
    "#Matriz de confusion\n",
    "conflog24_ridge = confusion_matrix(y_test_24, y_pred_log24_ridge) \n",
    "print(\"Matriz de confusion (Reg Log ridge 2024)\\n\", conflog04_ridge)\n",
    "\n",
    "#AUC\n",
    "auc_log24_ridge = roc_auc_score(y_test_24, y_pred_log24_ridge)\n",
    "print('\\nAUC Reg Log ridge (2024): %.4f' %auc_log24_ridge)\n",
    "\n",
    "#Curva ROC\n",
    "fpr, tpr, thresholds = roc_curve(y_test_24, y_pred_log24_ridge)\n",
    "display = RocCurveDisplay(fpr=fpr, tpr=tpr, roc_auc=auc_log24_ridge, estimator_name='Reg Log')\n",
    "display.plot()  \n",
    "plt.plot([0, 1], [0, 1], color='red', linestyle='--')\n",
    "plt.show() \n",
    "\n",
    "# #MSE\n",
    "# ecm_a1_r24 = mean_squared_error(y_test_24, y_pred_log24_ridge)\n",
    "# print(\"Error cuadrático medio:\", ecm_a1_r24) \n",
    "\n",
    "#Accuracy\n",
    "accuracy_log24_ridge = accuracy_score(y_test_24, y_pred_log24_ridge)\n",
    "print(\"La accuracy del modelo (Reg Log ridge 2024) es: %.4f\" %accuracy_log24_ridge)"
   ]
  },
  {
   "cell_type": "markdown",
   "metadata": {},
   "source": [
    "#### Selección de alpha"
   ]
  },
  {
   "cell_type": "code",
   "execution_count": 673,
   "metadata": {},
   "outputs": [
    {
     "name": "stdout",
     "output_type": "stream",
     "text": [
      "Mejor valor de C: 0.01\n",
      "El mejor valor de alpha: 100.0\n"
     ]
    }
   ],
   "source": [
    "# Cross validation para elegir el alpha para los metodos de regularizacion\n",
    "from sklearn.linear_model import LogisticRegressionCV\n",
    "\n",
    "#LASSO 2004\n",
    "# Definir los valores de C como el inverso de los valores de λ en el rango especificado \n",
    "alphas = 10 ** np.array([*range(-5, 6)], dtype=float) # Genera 10^n para n en [-5, -4, ..., 4, 5] \n",
    "Cs = 1 / alphas\n",
    "\n",
    "# Crear el modelo de regresión logística con validación cruzada y penalización L1\n",
    "log_lasso_cv_04 = LogisticRegressionCV(Cs=Cs, cv=10, penalty='l1', solver='saga', scoring='accuracy', refit=True, max_iter=10000, n_jobs=-1)\n",
    "\n",
    "# Entrenar el modelo\n",
    "log_lasso_cv_04.fit(x_train_04, y_train_04)\n",
    "\n",
    "# Imprimir el mejor valor de C (inverso de alpha)\n",
    "print(\"Mejor valor de C:\", log_lasso_cv_04.C_[0])\n",
    "\n",
    "print(\"El mejor valor de alpha:\", (1/log_lasso_cv_04.C_[0]))\n",
    "\n",
    "# # Hacer predicciones (opcional)\n",
    "# y_pred_ = log_lasso_cv_04.predict(x_test_04)\n",
    "\n",
    "#Resultados con alphas = 10 ** np.array([*range(-3, 3)], dtype=float) \n",
    "    #Mejor valor de C: 0.1\n",
    "    #El mejor valor de alpha: 10.0\n"
   ]
  },
  {
   "cell_type": "code",
   "execution_count": 68,
   "metadata": {},
   "outputs": [],
   "source": [
    "# import seaborn as sns\n",
    "# import matplotlib.pyplot as plt\n",
    "\n",
    "# # Recoger los valores de accuracy para cada partición y lambda\n",
    "# results = []\n",
    "\n",
    "# for i, C in enumerate(log_lasso_cv_04.Cs_):\n",
    "#     # Crear un modelo de regresión logística con el valor de C actual\n",
    "#     log_lasso = LogisticRegression(penalty='l1', solver='saga', C=C, max_iter=1000)\n",
    "#     scores = cross_val_score(log_lasso, x_train_04, y_train_04, cv=10, scoring='accuracy')\n",
    "#     for score in scores:\n",
    "#         results.append((1/C, score))\n",
    "\n",
    "# # Convertir los resultados a un DataFrame\n",
    "# df_results = pd.DataFrame(results, columns=['lambda', 'accuracy'])\n",
    "\n",
    "# # Crear el box plot utilizando seaborn\n",
    "# plt.figure(figsize=(12, 6))\n",
    "# sns.boxplot(x='lambda', y='accuracy', data=df_results)\n",
    "# plt.yscale(\"log\")\n",
    "# plt.title('Distribución del accuracy para cada valor de lambda')\n",
    "# plt.xlabel('Valor de lambda')\n",
    "# plt.ylabel('Accuracy')\n",
    "# plt.xticks(rotation=45)\n",
    "# plt.show()\n"
   ]
  },
  {
   "cell_type": "code",
   "execution_count": 675,
   "metadata": {},
   "outputs": [
    {
     "name": "stdout",
     "output_type": "stream",
     "text": [
      "Mejor valor de C: 99999.99999999999\n",
      "El mejor valor de alpha: 1e-05\n"
     ]
    }
   ],
   "source": [
    "#LASSO 2024\n",
    "alphas = 10 ** np.array([*range(-5, 6)], dtype=float) # Genera 10^n para n en [-5, -4, ..., 4, 5] \n",
    "Cs = 1 / alphas\n",
    "\n",
    "# Crear el modelo de regresión logística con validación cruzada y penalización L1\n",
    "log_lasso_cv_24 = LogisticRegressionCV(Cs=Cs, cv=10, penalty='l1', solver='saga', scoring='accuracy', refit=True, max_iter=10000, n_jobs=-1)\n",
    "\n",
    "# Entrenar el modelo\n",
    "log_lasso_cv_24.fit(x_train_24, y_train_24)\n",
    "\n",
    "# Imprimir el mejor valor de C (inverso de alpha)\n",
    "print(\"Mejor valor de C:\", log_lasso_cv_24.C_[0])\n",
    "\n",
    "print(\"El mejor valor de alpha:\", (1/log_lasso_cv_24.C_[0]))"
   ]
  },
  {
   "cell_type": "code",
   "execution_count": null,
   "metadata": {},
   "outputs": [],
   "source": [
    "#Ridge 2004\n",
    "alphas = 10 ** np.array([*range(-5, 6)], dtype=float) # Genera 10^n para n en [-5, -4, ..., 4, 5] \n",
    "Cs = 1 / alphas\n",
    "\n",
    "# Crear el modelo de regresión logística con validación cruzada y penalización L2\n",
    "log_ridge_cv_04 = LogisticRegressionCV(Cs=Cs, cv=10, penalty='l2', solver='saga', scoring='accuracy', refit=True, max_iter=10000, n_jobs=-1)\n",
    "\n",
    "# Entrenar el modelo\n",
    "log_ridge_cv_04.fit(x_train_04, y_train_04)\n",
    "\n",
    "# Imprimir el mejor valor de C (inverso de alpha)\n",
    "print(\"Mejor valor de C:\", log_ridge_cv_04.C_[0])\n",
    "\n",
    "print(\"El mejor valor de alpha:\", (1/log_ridge_cv_04.C_[0]))\n",
    "\n",
    "# # Hacer predicciones (opcional)\n",
    "# y_pred_ = log_lasso_cv_04.predict(x_test_04)\n",
    "\n"
   ]
  },
  {
   "cell_type": "code",
   "execution_count": null,
   "metadata": {},
   "outputs": [],
   "source": [
    "#Ridge 2024\n",
    "alphas = 10 ** np.array([*range(-5, 6)], dtype=float) # Genera 10^n para n en [-5, -4, ..., 4, 5] \n",
    "Cs = 1 / alphas\n",
    "\n",
    "# Crear el modelo de regresión logística con validación cruzada y penalización L2\n",
    "log_ridge_cv_24 = LogisticRegressionCV(Cs=Cs, cv=10, penalty='l2', solver='saga', scoring='accuracy', refit=True, max_iter=10000, n_jobs=-1)\n",
    "\n",
    "# Entrenar el modelo\n",
    "log_ridge_cv_24.fit(x_train_24, y_train_24)\n",
    "\n",
    "# Imprimir el mejor valor de C (inverso de alpha)\n",
    "print(\"Mejor valor de C:\", log_ridge_cv_24.C_[0])\n",
    "\n",
    "print(\"El mejor valor de alpha:\", (1/log_ridge_cv_24.C_[0]))"
   ]
  },
  {
   "cell_type": "code",
   "execution_count": null,
   "metadata": {},
   "outputs": [],
   "source": [
    "#boxplot usando seaborn: distribucion del error de prediccion para cada alpha\n",
    "\n",
    "#boxplot usando seaborn: distribucion del error de prediccion para cada alpha\n",
    "import matplotlib.pyplot as plt\n",
    "import seaborn as sns\n",
    "import pandas as pd\n",
    "\n",
    "# Supongamos que tienes los resultados de la cross-validation en un DataFrame\n",
    "# Donde 'lambda_values' es una lista de los valores de lambda probados\n",
    "# 'accuracies' es una lista de listas o un DataFrame con los accuracies para cada lambda\n",
    "\n",
    "# Ejemplo de datos simulados:\n",
    "lambda_values = [0.1, 1, 10, 100]  # Valores de lambda\n",
    "accuracies = [\n",
    "    [0.80, 0.82, 0.81, 0.83],  # Accuracy para lambda=0.1\n",
    "    [0.75, 0.76, 0.77, 0.75],  # Accuracy para lambda=1\n",
    "    [0.60, 0.62, 0.61, 0.63],  # Accuracy para lambda=10\n",
    "    [0.55, 0.57, 0.56, 0.54]   # Accuracy para lambda=100\n",
    "]\n",
    "\n",
    "# Crear un DataFrame con los resultados\n",
    "df = pd.DataFrame(accuracies, columns=[f'Fold {i+1}' for i in range(len(accuracies[0]))], index=lambda_values)\n",
    "\n",
    "# Ahora necesitamos convertir este DataFrame a formato largo para seaborn (usando melt)\n",
    "df_melted = df.reset_index().melt(id_vars='index', var_name='Fold', value_name='Accuracy')\n",
    "df_melted.rename(columns={'index': 'Lambda'}, inplace=True)\n",
    "\n",
    "# Crear el gráfico de boxplot\n",
    "plt.figure(figsize=(10, 6))\n",
    "sns.boxplot(x='Lambda', y='Accuracy', data=df_melted)\n",
    "\n",
    "# Títulos y etiquetas\n",
    "plt.title('Distribución del Accuracy para diferentes valores de Lambda (Regresión Logística con Lasso)', fontsize=14)\n",
    "plt.xlabel('Valor de Lambda', fontsize=12)\n",
    "plt.ylabel('Accuracy', fontsize=12)\n"
   ]
  },
  {
   "cell_type": "code",
   "execution_count": null,
   "metadata": {},
   "outputs": [],
   "source": [
    "# line plot \n",
    "import matplotlib.pyplot as plt\n",
    "import seaborn as sns\n",
    "import numpy as np\n",
    "import pandas as pd\n",
    "from sklearn.linear_model import Lasso\n",
    "from sklearn.model_selection import cross_val_score\n",
    "\n",
    "# Supongamos que tienes tus datos X (características) y y (objetivo)\n",
    "# X = tus datos de características (pandas DataFrame o numpy array)\n",
    "# y = tus datos de objetivo (vector de etiquetas)\n",
    "\n",
    "# Valores de lambda (o alpha en sklearn)\n",
    "lambda_values = [0.1, 1, 10, 100, 1000]  # Diferentes valores de lambda (alpha)\n",
    "proporcion_ignoradas = []  # Para almacenar la proporción de variables ignoradas\n",
    "\n",
    "# Supongamos que tienes un modelo Lasso\n",
    "# X, y = tus datos (asegúrate de tenerlos preparados previamente)\n",
    "\n",
    "for lambda_val in lambda_values:\n",
    "    # Ajustar el modelo Lasso con el valor de lambda (alpha)\n",
    "    lasso = Lasso(alpha=lambda_val)\n",
    "    lasso.fit(X, y)\n",
    " # Contar cuántos coeficientes son exactamente cero\n",
    "    coef_zeros = np.sum(lasso.coef_ == 0)\n",
    "    \n",
    "    # Calcular la proporción de variables ignoradas\n",
    "    proporcion_ignoradas = coef_zeros / len(lasso.coef_)\n",
    "    proporcion_ignoradas.append(proporcion_ignoradas)\n",
    "\n",
    "# Crear un DataFrame con los resultados\n",
    "df_ignoradas = pd.DataFrame({\n",
    "    'Lambda': lambda_values,\n",
    "    'Proporcion_Ignoradas': proporcion_ignoradas\n",
    "})\n",
    "\n",
    "# Crear el gráfico de lineplot\n",
    "plt.figure(figsize=(10, 6))\n",
    "sns.lineplot(x='Lambda', y='Proporcion_Ignoradas', data=df_ignoradas, marker='o')\n",
    "\n",
    "# Títulos y etiquetas\n",
    "plt.title('Proporción de Variables Ignoradas por el Modelo (Regresión Lasso) en función de Lambda', fontsize=14)\n",
    "plt.xlabel('Valor de Lambda', fontsize=12)\n",
    "plt.ylabel('Proporción de Variables Ignoradas', fontsize=12)\n",
    "plt.xscale('log')  # Usar escala logarítmica para los valores de lambda\n",
    "plt.show()"
   ]
  },
  {
   "cell_type": "code",
   "execution_count": null,
   "metadata": {},
   "outputs": [],
   "source": [
    "#MODELOS LASSO OPTIMOS\n",
    "\n",
    "#2004\n",
    "\n",
    "#2024"
   ]
  },
  {
   "cell_type": "code",
   "execution_count": null,
   "metadata": {},
   "outputs": [],
   "source": [
    "#MODELOS RIDGE OPTIMOS\n",
    "\n",
    "#2004\n",
    "\n",
    "#2024"
   ]
  },
  {
   "cell_type": "code",
   "execution_count": null,
   "metadata": {},
   "outputs": [],
   "source": [
    "#comparar resultados lasso y ridge 2004 vs 2024"
   ]
  }
 ],
 "metadata": {
  "kernelspec": {
   "display_name": "base",
   "language": "python",
   "name": "python3"
  },
  "language_info": {
   "codemirror_mode": {
    "name": "ipython",
    "version": 3
   },
   "file_extension": ".py",
   "mimetype": "text/x-python",
   "name": "python",
   "nbconvert_exporter": "python",
   "pygments_lexer": "ipython3",
   "version": "3.12.4"
  }
 },
 "nbformat": 4,
 "nbformat_minor": 2
}
