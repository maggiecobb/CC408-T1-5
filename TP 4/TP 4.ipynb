{
 "cells": [
  {
   "cell_type": "markdown",
   "metadata": {},
   "source": [
    "#### Ciencia de datos - Primavera 2024\n",
    "##### Integrantes: Magdalena Cobb, Pedro García Vassallo, Marcos Olavarría\n",
    "### Trabajo Práctico 4"
   ]
  },
  {
   "cell_type": "markdown",
   "metadata": {},
   "source": [
    "## 1. Lectura de la base"
   ]
  },
  {
   "cell_type": "code",
   "execution_count": 5,
   "metadata": {},
   "outputs": [],
   "source": [
    "#Paquetes y librerías a usar\n",
    "#!pip install openpyxl\n",
    "#!pip install statsmodels\n",
    "\n",
    "import pandas as pd \n",
    "import numpy as np\n",
    "import matplotlib.pyplot as plt\n",
    "import seaborn as sns\n",
    "import statsmodels.api as sm \n",
    "\n",
    "from sklearn.experimental import enable_iterative_imputer\n",
    "from sklearn.impute import IterativeImputer\n",
    "from sklearn.preprocessing import StandardScaler\n",
    "from sklearn.decomposition import PCA\n",
    "from sklearn.model_selection import train_test_split\n",
    "from sklearn.linear_model import LinearRegression\n",
    "\n",
    "from sklearn import datasets\n",
    "from sklearn.linear_model import LogisticRegression\n",
    "from sklearn.metrics import confusion_matrix\n",
    "from sklearn.metrics import accuracy_score, recall_score \n",
    "from sklearn.metrics import roc_curve\n",
    "from sklearn.metrics import roc_auc_score\n",
    "from sklearn.metrics import RocCurveDisplay\n",
    "#from sklearn.metrics import plot_roc_curve\n",
    "from sklearn.discriminant_analysis import LinearDiscriminantAnalysis\n",
    "from sklearn.neighbors import KNeighborsClassifier"
   ]
  },
  {
   "cell_type": "code",
   "execution_count": 6,
   "metadata": {},
   "outputs": [],
   "source": [
    "#Lectura del documento\n",
    "indi_2024 = pd.read_excel('C:/Users/magda/OneDrive/Documents/GitHub/CC408-T1-5/TP 4/usu_individual_T124.xlsx') \n",
    "indi_2004 = pd.read_stata('C:/Users/magda/OneDrive/Documents/GitHub/CC408-T1-5/TP 4/Individual_t104.dta')\n",
    "hoga_2024 = pd.read_excel('C:/Users/magda/OneDrive/Documents/GitHub/CC408-T1-5/TP 4/usu_hogar_T124.xlsx')\n",
    "hoga_2004 = pd.read_stata('C:/Users/magda/OneDrive/Documents/GitHub/CC408-T1-5/TP 4/Hogar_t104.dta')\n",
    "\n",
    "# Maggie: C:/Users/magda/OneDrive/Documents/GitHub/CC408-T1-5/TP 4/\n",
    "# Peter: 'C:/Users/SAMSUNG/Documents/GitHub/CC408-T1-5/TP 4/\n",
    "# Marck: C:/Users/marcos.olavarria/Documents/GitHub/CC408/TP 4/\n"
   ]
  },
  {
   "cell_type": "markdown",
   "metadata": {},
   "source": [
    "## 2. Selección de GBA y merge"
   ]
  },
  {
   "cell_type": "markdown",
   "metadata": {},
   "source": [
    "a. Eliminen todas las observaciones que no corresponden a los\n",
    "aglomerados de Ciudad Autónoma de Buenos Aires o Gran Buenos\n",
    "Aires, y unan ambos trimestres en una sola base."
   ]
  },
  {
   "cell_type": "code",
   "execution_count": 216,
   "metadata": {},
   "outputs": [],
   "source": [
    "#Filtramos las bases para tener solo Buenos Aires\n",
    "ind_2024 = indi_2024[(indi_2024['AGLOMERADO'] == 33) | (indi_2024['AGLOMERADO'] == 32)]\n",
    "hog_2024 = hoga_2024[(hoga_2024['AGLOMERADO'] == 33) | (hoga_2024 ['AGLOMERADO'] == 32 )]\n",
    "\n",
    "ind_2004 = indi_2004[(indi_2004['aglomerado'] == 'Ciudad de Buenos Aires') | (indi_2004 ['aglomerado'] == 'Partidos del GBA' )]\n",
    "hog_2004 = hoga_2004[(hoga_2004['aglomerado'] == 'Ciudad de Buenos Aires') | (hoga_2004 ['aglomerado'] == 'Partidos del GBA' )]\n",
    "\n",
    "ind_2004.columns = ind_2004.columns.str.upper()\n",
    "hog_2004.columns = hog_2004.columns.str.upper()\n"
   ]
  },
  {
   "cell_type": "code",
   "execution_count": 217,
   "metadata": {},
   "outputs": [],
   "source": [
    "#Eliminación de columnas redundantes (preguntas hechas solo para ocupados o desocupados)\n",
    "redundantes_ind04 = [\n",
    "    \"CAT_INAC\",\n",
    "    \"PP08D1\", \"PP08D4\", \"PP08F1\", \"PP08F2\", \"PP08J1\", \"PP08J2\", \"PP08J3\",\n",
    "    \"PP11A\", \"PP11B_COD\", \"PP11B1\", \"PP11B2_MES\", \"PP11B2_ANO\", \"PP11B2_DIA\", \"PP11C\", \"PP11C99\", \"PP11D_COD\",\n",
    "    \"PP11G_ANO\", \"PP11G_MES\", \"PP11G_DIA\", \"PP11L\", \"PP11L1\", \"PP11M\", \"PP11N\", \"PP11O\", \"PP11P\", \"PP11Q\", \"PP11R\", \n",
    "    \"PP11S\", \"PP11T\", \"PP02C1\", \"PP02C2\", \"PP02C3\", \"PP02C4\", \"PP02C5\", \"PP02C6\", \"PP02C7\", \"PP02C8\", \"PP02E\", \n",
    "    \"PP02H\", \"PP02I\", \"CAT_OCUP\", \"PP03C\", \"PP03D\", \"PP3E_TOT\", \"PP3F_TOT\", \"PP03G\", \"PP03H\", \"PP03I\", \"PP03J\", \n",
    "    \"INTENSI\", \"PP04A\", \"PP04B_COD\", \"PP04B1\", \"PP04B2\", \"PP04B3_MES\", \"PP04B3_ANO\", \"PP04B3_DIA\", \"PP04C\", \n",
    "    \"PP04C99\", \"PP04D_COD\", \"PP04G\", \"PP05B2_MES\", \"PP05B2_ANO\", \"PP05B2_DIA\", \"PP05C_1\", \"PP05C_2\", \"PP05C_3\", \n",
    "    \"PP05E\", \"PP05F\", \"PP05H\", \"PP06A\", \"PP06C\", \"PP06E\", \"PP06H\", \"PP06D\", \"PP07A\", \"PP07C\", \"PP07D\", \"PP07E\", \"PP07F1\", \"PP07F2\", \n",
    "    \"PP07F3\", \"PP07F4\", \"PP07F5\", \"PP07G1\", \"PP07G2\", \"PP07G3\", \"PP07G4\", \"PP07G_59\", \"PP07H\", \"PP07I\", \"PP07J\", \n",
    "    \"PP07K\", \"P21\", \"DECOCUR\", \"IDECOCUR\", \"RDECOCUR\", \"GDECOCUR\", \"PDECOCUR\", \"ADECOCUR\", \"TOT_P12\", \"PJ1_1\", \n",
    "    \"PJ2_1\", \"PJ3_1\", \"IDIMPP\", 'PP09A', 'PP09A_ESP',  'PP09B', 'PP09C',  'PP09C_ESP',  'PP10A','PP10C',  'PP10D', 'PP10E', \n",
    "    'CH15_COD', 'CH16_COD', 'IDECINDR', 'PDECINDR', 'IDECCFR', 'PDECCFR']\n",
    "\n",
    "redundantes_hog04 = [\n",
    "    \"II3\",\n",
    "    \"II3_1\",\n",
    "    \"II6\",\n",
    "    \"II6_1\", \n",
    "    'IDIMPH' , 'IV1_ESP', 'IV7_ESP', 'II7_ESP', 'II8_ESP', 'IDECIFR', 'PDECIFR', 'IDECCFR', 'PDECCFR', 'MAS_500'\n",
    "]\n",
    "\n",
    "redundantes_ind24 = [\n",
    "    \"PP02C1\", \"PP02C2\", \"PP02C3\", \"PP02C4\", \"PP02C5\", \"PP02C6\", \"PP02C7\", \"PP02C8\",\n",
    "    \"PP02E\", \"PP02H\", \"PP02I\", \"PP10A\", \"PP10C\", \"PP10D\", \"PP10E\", \"PP11A\",\n",
    "    \"PP11B_COD\", \"PP11B1\", \"PP11B2_MES\", \"PP11B2_ANO\", \"PP11B2_DIA\", \"PP11C\", \n",
    "    \"PP11C99\", \"PP11D_COD\", \"PP11G_ANO\", \"PP11G_MES\", \"PP11G_DIA\", \"PP11L\", \"PP11L1\",\n",
    "    \"PP11M\", \"PP11N\", \"PP11O\", \"PP11P\", \"PP11Q\", \"PP11R\", \"PP11S\", \"PP11T\",\n",
    "    \"PP03C\", \"PP03D\", \"PP3E_TOT\", \"PP3F_TOT\", \"PP03G\", \"PP03H\", \"PP03I\", \"PP03J\",\n",
    "    \"INTENSI\", \"PP04A\", \"PP04B_COD\", \"PP04B1\", \"PP04B2\", \"PP04B3_MES\", \"PP04B3_ANO\",\n",
    "    \"PP04C\", \"PP04C99\", \"PP04D_COD\", \"PP04G\", \"PP05B2_MES\", \"PP05B2_ANO\", \"PP05B2_DIA\", 'PP04B3_DIA',\n",
    "    \"PP05C_1\", \"PP05C_2\", \"PP05C_3\", \"PP05E\", \"PP05F\", \"PP05H\", \"PP06A\", \"PP06C\",\n",
    "    \"PP06D\", \"PP06E\", \"PP06H\", \"PP07A\", \"PP07C\", \"PP07D\", \"PP07E\", \"PP07F1\", \"PP07F2\",\n",
    "    \"PP07F3\", \"PP07F4\", \"PP07F5\", \"PP07G1\", \"PP07G2\", \"PP07G3\", \"PP07G4\", \"PP07G_59\",\n",
    "    \"PP07H\", \"PP07I\", \"PP07J\", \"PP07K\", \"PP08D1\", \"PP08D4\", \"PP08F1\", \"PP08F2\", \n",
    "    \"PP08J1\", \"PP08J2\", \"PP08J3\", \"PP09A\", \"PP09A_ESP\", \"PP09B\", \"PP09C\", \"PP09C_ESP\",\n",
    "    \"P21\", \"DECOCUR\", \"IDECOCUR\", \"RDECOCUR\", \"GDECOCUR\", \"PDECOCUR\", \"ADECOCUR\",\n",
    "    \"PONDIIO\", \"TOT_P12\", \"P47T\", \"DECINDR\", \"IDECINDR\", \"RDECINDR\", \"GDECINDR\", \n",
    "    \"PDECINDR\", \"ADECINDR\", \"PONDII\",  'PP10A',  'PP10C', 'PP10D',  'PP10E', 'CH15_COD', 'CH16_COD', \n",
    "    'IDECINDR', 'PDECINDR', 'IDECCFR', 'PDECCFR', 'CH05'\n",
    "]\n",
    "\n",
    "redundantes_hog24 = [\n",
    "    \"II3\",\n",
    "    \"II3_1\",\n",
    "    \"II6\",\n",
    "    \"II6_1\", 'IV1_ESP', 'IV3_ESP', 'IV7_ESP', 'II7_ESP', 'II8_ESP','IDECIFR', 'PDECIFR', 'IDECCFR', 'PDECCFR', 'MAS_500'\n",
    "\n",
    "]\n",
    "\n"
   ]
  },
  {
   "cell_type": "code",
   "execution_count": 218,
   "metadata": {},
   "outputs": [],
   "source": [
    "#Sacamos las variables redundantes\n",
    "ind_2004 = ind_2004.drop(columns = redundantes_ind04)\n",
    "ind_2024 = ind_2024.drop(columns = redundantes_ind24)\n",
    "hog_2004 = hog_2004.drop(columns = redundantes_hog04)\n",
    "hog_2024 = hog_2024.drop(columns = redundantes_hog24)"
   ]
  },
  {
   "cell_type": "code",
   "execution_count": 219,
   "metadata": {},
   "outputs": [],
   "source": [
    "#Sacamos de las bases individuales variables que van a aparecer en hogar, para emprolijar el merge\n",
    "lista_con = ['ANO4', 'TRIMESTRE', 'REGION',  'AGLOMERADO', 'PONDERA', 'ITF', 'DECIFR', 'IDECIFR', \n",
    "             'RDECIFR', 'GDECIFR', 'PDECIFR', 'ADECIFR', 'IPCF', 'DECCFR', 'RDECCFR', 'GDECCFR','ADECCFR']\n",
    "\n",
    "lista_con2 = ['ANO4', 'TRIMESTRE', 'REGION', 'AGLOMERADO', 'PONDERA', 'ITF', 'DECIFR', 'IDECIFR', 'RDECIFR',\n",
    "              'GDECIFR', 'PDECIFR', 'ADECIFR', 'IPCF', 'DECCFR', 'RDECCFR', 'GDECCFR', 'ADECCFR','PONDIH']\n",
    "\n",
    "ind_2004 = ind_2004.drop (columns = (lista_con))\n",
    "ind_2024 = ind_2024.drop(columns = (lista_con2))"
   ]
  },
  {
   "cell_type": "code",
   "execution_count": 220,
   "metadata": {},
   "outputs": [],
   "source": [
    "#Mergeamos bases hogar + individual para cada año\n",
    "combined_04 = pd.merge(ind_2004, hog_2004, on=['CODUSU', 'NRO_HOGAR'], how='outer') #7647 obs x 124 variables\n",
    "combined_24 = pd.merge(ind_2024,hog_2024,on=[\"CODUSU\",\"NRO_HOGAR\"], how = 'outer') #7051 obs x 120 variables\n"
   ]
  },
  {
   "cell_type": "markdown",
   "metadata": {},
   "source": [
    "## 3. Limpieza\n",
    "Limpien la base de datos tomando criterios que hagan sentido. Explicar\n",
    "cualquier decisión como el tratamiento de valores faltantes (missing\n",
    "values), extremos (outliers), o variables categóricas. Justifique sus\n",
    "decisiones."
   ]
  },
  {
   "cell_type": "code",
   "execution_count": 221,
   "metadata": {},
   "outputs": [],
   "source": [
    "# Se usa base de datos:\n",
    "# 2024: \n",
    "# - combined_24\n",
    "\n",
    "# 2004:\n",
    "# - combined_04"
   ]
  },
  {
   "cell_type": "markdown",
   "metadata": {},
   "source": [
    "##### Limpieza de datos"
   ]
  },
  {
   "cell_type": "code",
   "execution_count": 222,
   "metadata": {},
   "outputs": [],
   "source": [
    "#Elimino filas con valores negativos para 2004\n",
    "combined_04_clean = combined_04[~(combined_04.select_dtypes(include=[float, int]) < 0).any(axis=1)]\n",
    "combined_04 = combined_04_clean\n",
    "\n",
    "#Elimino filas con valores negativos para 2024\n",
    "combined_24_clean = combined_24[~(combined_24.select_dtypes(include=[float, int]) < 0).any(axis=1)]\n",
    "combined_24 = combined_24_clean\n"
   ]
  },
  {
   "cell_type": "code",
   "execution_count": 223,
   "metadata": {},
   "outputs": [],
   "source": [
    "# ELIMINO OBSERVACIONES QUE CONTESTAN \"NO SABE/ NO RESPONDE\" PARA ALGUNAS PREGUNTAS DEL HOGAR. base 2004\n",
    "# ns_nr = (combined_04.select_dtypes(include=[int]) == 288405).any(axis=1)\n",
    "# ns_nr[ns_nr]\n",
    "\n",
    "# combined_04_cleannsnr = combined_04[~(combined_04.select_dtypes(include=['object']) == 'Ns./Nr.').any(axis=1)]\n",
    "# combined_04 = combined_04_cleannsnr\n"
   ]
  },
  {
   "cell_type": "markdown",
   "metadata": {},
   "source": [
    "#### Valores Faltantes\n",
    "- 2004 tenía 1 columna, se imputaron por la mediana\n",
    "- 2024 se eliminaron los más brutos y se imputaron por la mediana los menos"
   ]
  },
  {
   "cell_type": "markdown",
   "metadata": {},
   "source": [
    "##### 2004\n",
    "-Tenia una columna con valores Nan = IX_MEN10, es el 50%, se imputa por la mediana.\n"
   ]
  },
  {
   "cell_type": "code",
   "execution_count": 224,
   "metadata": {},
   "outputs": [
    {
     "name": "stdout",
     "output_type": "stream",
     "text": [
      "Index(['IX_MEN10'], dtype='object')\n"
     ]
    }
   ],
   "source": [
    "# # Verificar si cada columna tiene algún valor NaN 2004\n",
    "nan_values04 = combined_04.select_dtypes(include=[float, int]).isna().any()\n",
    "columnas_con_nan04 = nan_values04[nan_values04]  # Esto te devuelve solo las columnas que tienen NaN\n",
    "columnas_con_nan04 = columnas_con_nan04.index\n",
    "print(columnas_con_nan04) #Es solo una columna con NaN\n",
    "\n",
    "combined_04 = combined_04.drop(columns = (columnas_con_nan04))"
   ]
  },
  {
   "cell_type": "code",
   "execution_count": 225,
   "metadata": {},
   "outputs": [],
   "source": [
    "# proporcion_columna04 = combined_04['IX_MEN10'].isnull().sum() / len(combined_04) * 100\n",
    "# proporcion_columna04 #El 50% de la columna es nan. puedo imputar por la mediana. \n",
    "\n",
    "# #Se imputa por la mediana\n",
    "# combined_04[columnas_con_nan04] = combined_04[columnas_con_nan04].fillna(combined_04[columnas_con_nan04].median())"
   ]
  },
  {
   "cell_type": "markdown",
   "metadata": {},
   "source": [
    "##### 2024\n",
    "- Tiene columnas con valores Nan\n",
    "- Se revisa la proporción de Nan que hay por columna\n",
    "- Elimino las columnas que tienen proporción de Nans > 90\n",
    "- Imputo por la mediana en las columnas que su proporción de Nans < 90"
   ]
  },
  {
   "cell_type": "code",
   "execution_count": 226,
   "metadata": {},
   "outputs": [
    {
     "name": "stdout",
     "output_type": "stream",
     "text": [
      "CH14      True\n",
      "IMPUTA    True\n",
      "dtype: bool\n"
     ]
    }
   ],
   "source": [
    "# # Verificar si cada columna tiene algún valor NaN 2024\n",
    "nan_values24 = combined_24.isna().any()\n",
    "\n",
    "# # Filtrar las columnas que contienen valores NaN (solo mostrar las que son True)\n",
    "columnas_con_nan24 = nan_values24[nan_values24] # Esto te devuelve solo las columnas que tienen NaN\n",
    "\n",
    "print(columnas_con_nan24)\n",
    "\n",
    "columnas_con_nan24 = columnas_con_nan24.index\n"
   ]
  },
  {
   "cell_type": "code",
   "execution_count": 227,
   "metadata": {},
   "outputs": [],
   "source": [
    "#Elimino de la base de 2024 todas las columnas que tienen \n",
    "# combined_24 = combined_24.drop(columns = [\"CH14\", \"CH15_COD\", \"CH16_COD\", \"IMPUTA\", \"PP04B3_DIA\", \"IDECIFR\", \"PDECIFR\", \"IDECCFR\",'IV1_ESP', 'IV3_ESP', 'IV7_ESP', 'II7_ESP', 'II8_ESP'])"
   ]
  },
  {
   "cell_type": "code",
   "execution_count": 228,
   "metadata": {},
   "outputs": [],
   "source": [
    "# # Obtengo las columnas que contienen datos faltantes, reviso que proporción de los valores faltas\n",
    "\n",
    "# # Porcentaje de valores faltantes por columna\n",
    "lista_nans_poco = []\n",
    "lista_nans_50 = []\n",
    "lista_nans_60 = []\n",
    "lista_nans_70 = []\n",
    "lista_nans_80 = []\n",
    "lista_nans_90 = []\n",
    "lista_nans_100 = []\n",
    "\n",
    "for i in columnas_con_nan24:\n",
    "    proporcion_columna24 = combined_24[i].isnull().sum() / len(combined_24) * 100\n",
    "    \n",
    "    if proporcion_columna24 < 50:\n",
    "        lista_nans_poco.append(i)\n",
    "\n",
    "    elif proporcion_columna24 >= 50 and proporcion_columna24 < 60:\n",
    "        lista_nans_50.append(i)\n",
    "\n",
    "    elif proporcion_columna24 >= 60 and proporcion_columna24 < 70:\n",
    "        lista_nans_60.append(i)\n",
    "\n",
    "    elif proporcion_columna24 >= 70 and proporcion_columna24 < 80:\n",
    "        lista_nans_70.append(i)\n",
    "\n",
    "    elif proporcion_columna24 >= 80 and proporcion_columna24 < 90:\n",
    "        lista_nans_80.append(i)\n",
    "\n",
    "    elif proporcion_columna24 >= 90 and proporcion_columna24 < 100:\n",
    "        lista_nans_90.append(i)\n",
    "\n",
    "    elif proporcion_columna24 == 100:\n",
    "        lista_nans_100.append(i)\n",
    "    "
   ]
  },
  {
   "cell_type": "code",
   "execution_count": 229,
   "metadata": {},
   "outputs": [],
   "source": [
    "# Elimino las variables que tienen más de 90% de datos Nan. Me fijo antes cuantas columnas son\n",
    "columnas_elim = lista_nans_90 + lista_nans_100\n",
    "combined_24 = combined_24.drop(columns = (columnas_elim)) #se eliminaron ? columnas"
   ]
  },
  {
   "cell_type": "code",
   "execution_count": 230,
   "metadata": {},
   "outputs": [],
   "source": [
    "# Imputo por la mediana en las columnas que su proporción de Nans < 90\n",
    "columnas_ok = lista_nans_poco + lista_nans_50 +lista_nans_60 + lista_nans_70 + lista_nans_80\n",
    "combined_24[columnas_ok] = combined_24[columnas_ok].fillna(combined_24[columnas_ok].median())\n"
   ]
  },
  {
   "cell_type": "code",
   "execution_count": 231,
   "metadata": {},
   "outputs": [
    {
     "name": "stdout",
     "output_type": "stream",
     "text": [
      "Series([], dtype: bool)\n"
     ]
    }
   ],
   "source": [
    "#AHORA VEMOS QUE NO HAY MAS NANS EN LA DE 2024\n",
    "nan_values24 = combined_24.isna().any()\n",
    "\n",
    "# # Filtrar las columnas que contienen valores NaN (solo mostrar las que son True)\n",
    "columnas_con_nan24 = nan_values24[nan_values24] # Esto te devuelve solo las columnas que tienen NaN\n",
    "\n",
    "print(columnas_con_nan24)\n",
    "\n",
    "columnas_con_nan24 = columnas_con_nan24.index\n"
   ]
  },
  {
   "cell_type": "markdown",
   "metadata": {},
   "source": [
    "### Outliers "
   ]
  },
  {
   "cell_type": "markdown",
   "metadata": {},
   "source": [
    "#### 2004"
   ]
  },
  {
   "cell_type": "code",
   "execution_count": 232,
   "metadata": {},
   "outputs": [],
   "source": [
    "numerica04 = [ 'P47T','V2_M', 'V3_M', 'V4_M', 'V5_M', 'V8_M',\n",
    "                    'V9_M', 'V10_M', 'V11_M', 'V12_M', 'V18_M', 'V19_AM', 'V21_M', 'T_VI',\n",
    "                       'PONDERA', 'II5_1', 'IX_TOT', 'IX_MAYEQ10', 'ITF']\n",
    "\n",
    "\n",
    "#es igual que no categorica pero sin codusu, porque no tiene sentido sacar outliers de ahi. \n",
    "#estoy sacando COMPONENTE , CH06, CH04, ESTADO xq son tipo de dato category \n",
    "# 'REALIZADA', 'TRIMESTRE', 'REGION', 'AGLOMERADO', 'IV2', 'II1', 'II2',\n",
    "      # 'VII1_1', 'VII1_2', 'VII2_1', 'VII2_2', 'VII2_3', 'VII2_4', 'H15', 'V1',\n",
    "      # 'V2', 'V21', 'V22', 'V3', 'V4', 'V5', 'V6', 'V7', 'V8', 'V9', 'V10',\n",
    "      # 'V11', 'V12', 'V13', 'V14', 'V15', 'V16', 'V17', 'V18', 'V19_A',\n",
    "      # 'V19_B', 'II4_1', 'IV8', 'IV12_2', 'IV12_3', 'IV12_1', 'II4_2', 'II4_3',\n",
    "      # 'CH13', 'II5', 'IV5', 'REALIZADA', 'TRIMESTRE', 'AGLOMERADO', 'REGION', 'II1','II2', 'IV2'\n",
    "\n",
    "# y saque NRO HOGAR\n",
    "\n",
    "#es igual que no categorica pero sin codusu, porque no tiene sentido sacar outliers de ahi. "
   ]
  },
  {
   "cell_type": "code",
   "execution_count": 233,
   "metadata": {},
   "outputs": [
    {
     "name": "stdout",
     "output_type": "stream",
     "text": [
      "P47T          float64\n",
      "V2_M          float64\n",
      "V3_M          float64\n",
      "V4_M          float64\n",
      "V5_M          float64\n",
      "V8_M          float64\n",
      "V9_M          float64\n",
      "V10_M         float64\n",
      "V11_M         float64\n",
      "V12_M         float64\n",
      "V18_M         float64\n",
      "V19_AM        float64\n",
      "V21_M         float64\n",
      "T_VI          float64\n",
      "PONDERA       float64\n",
      "II5_1         float64\n",
      "IX_TOT        float64\n",
      "IX_MAYEQ10    float64\n",
      "ITF           float64\n",
      "dtype: object\n",
      "Columnas de tipo 'object': \n",
      "Index([], dtype='object')\n"
     ]
    }
   ],
   "source": [
    "# Verifica el tipo de datos de todas las columnas en el DataFrame\n",
    "print(combined_04[numerica04].dtypes)\n",
    "\n",
    "# Filtrar las columnas que son de tipo 'category'\n",
    "categorical_columns = combined_04[numerica04].select_dtypes(include=['object']).columns\n",
    "\n",
    "# Mostrar las columnas que son de tipo 'category'\n",
    "print(f\"Columnas de tipo 'object': \\n{categorical_columns}\")"
   ]
  },
  {
   "cell_type": "code",
   "execution_count": 234,
   "metadata": {},
   "outputs": [
    {
     "name": "stdout",
     "output_type": "stream",
     "text": [
      "Total de outliers por columna: \n",
      "P47T           496\n",
      "V2_M           764\n",
      "V3_M             8\n",
      "V4_M            13\n",
      "V5_M           107\n",
      "V8_M            71\n",
      "V9_M             8\n",
      "V10_M           15\n",
      "V11_M           13\n",
      "V12_M          229\n",
      "V18_M            5\n",
      "V19_AM           0\n",
      "V21_M          107\n",
      "T_VI          1118\n",
      "PONDERA        363\n",
      "II5_1           76\n",
      "IX_TOT         324\n",
      "IX_MAYEQ10     194\n",
      "ITF            510\n",
      "dtype: int64\n",
      "Filas con outliers: \n",
      "        CODUSU  NRO_HOGAR COMPONENTE H15 MAS_500            CH03   CH04  CH06  \\\n",
      "0     125047          1.0        1.0  Sí       S            Jefe  Varón  80.0   \n",
      "1     125047          1.0        2.0  Sí       S  Cónyuge/Pareja  Mujer  75.0   \n",
      "2     125098          1.0        1.0  Sí       S            Jefe  Varón  79.0   \n",
      "13    125295          1.0        1.0  Sí       S            Jefe  Varón  34.0   \n",
      "14    125295          1.0        2.0  Sí       S  Cónyuge/Pareja  Mujer  31.0   \n",
      "...        ...        ...        ...  ..     ...             ...    ...   ...   \n",
      "7623  287496          1.0        1.0  Sí       S            Jefe  Mujer  33.0   \n",
      "7625  287684          1.0        1.0  Sí       S            Jefe  Varón  53.0   \n",
      "7630  287810          1.0        1.0  Sí       S            Jefe  Varón  49.0   \n",
      "7640  288171          1.0        1.0  Sí       S            Jefe  Varón  31.0   \n",
      "7641  288171          1.0        2.0  Sí       S  Cónyuge/Pareja  Mujer  31.0   \n",
      "\n",
      "         CH07                                   CH08  ... DECCFR RDECCFR  \\\n",
      "0      Casado             Obra social (incluye PAMI)  ...     10      10   \n",
      "1      Casado             Obra social (incluye PAMI)  ...     10      10   \n",
      "2       Viudo             Obra social (incluye PAMI)  ...     07      06   \n",
      "13     Casado  Mutual/Prepaga/Servicio de emergencia  ...     10      10   \n",
      "14     Casado  Mutual/Prepaga/Servicio de emergencia  ...     10      10   \n",
      "...       ...                                    ...  ...    ...     ...   \n",
      "7623  Soltero             Obra social (incluye PAMI)  ...     10      10   \n",
      "7625   Casado             Obra social (incluye PAMI)  ...     08      07   \n",
      "7630   Casado             Obra social (incluye PAMI)  ...     08      08   \n",
      "7640   Casado  Mutual/Prepaga/Servicio de emergencia  ...     08      08   \n",
      "7641   Casado  Mutual/Prepaga/Servicio de emergencia  ...     08      08   \n",
      "\n",
      "     GDECCFR ADECCFR              VII1_1 VII1_2  \\\n",
      "0         10      10                 2.0    0.0   \n",
      "1         10      10                 2.0    0.0   \n",
      "2         06      04                 1.0    0.0   \n",
      "13        10      10                 2.0    0.0   \n",
      "14        10      10                 2.0    0.0   \n",
      "...      ...     ...                 ...    ...   \n",
      "7623      10      09                 1.0    0.0   \n",
      "7625      07      08                 3.0    0.0   \n",
      "7630      08      09                 2.0    0.0   \n",
      "7640      08      09  Servicio doméstico    0.0   \n",
      "7641      08      09  Servicio doméstico    0.0   \n",
      "\n",
      "                                    VII2_1 VII2_2 VII2_3 VII2_4  \n",
      "0                                     98.0    0.0    0.0    0.0  \n",
      "1                                     98.0    0.0    0.0    0.0  \n",
      "2                                     98.0    0.0    0.0    0.0  \n",
      "13    Otra persona que no vive en el hogar    0.0    0.0    0.0  \n",
      "14    Otra persona que no vive en el hogar    0.0    0.0    0.0  \n",
      "...                                    ...    ...    ...    ...  \n",
      "7623                                  98.0    0.0    0.0    0.0  \n",
      "7625                                   2.0    4.0    0.0    0.0  \n",
      "7630                                   3.0    1.0    0.0    0.0  \n",
      "7640                                   2.0    0.0    0.0    0.0  \n",
      "7641                                   2.0    0.0    0.0    0.0  \n",
      "\n",
      "[2437 rows x 109 columns]\n"
     ]
    }
   ],
   "source": [
    "# Outliers\n",
    "# COMBINED 04\n",
    "\n",
    "combined_04[numerica04] = combined_04[numerica04].apply(pd.to_numeric, errors='coerce')\n",
    "\n",
    "# Calculamos los cuartiles y el IQR solo para las columnas numéricas\n",
    "Q1 = combined_04[numerica04].quantile(0.25)\n",
    "Q3 = combined_04[numerica04].quantile(0.75)\n",
    "IQR = Q3 - Q1\n",
    "\n",
    "# Definir los límites inferior y superior\n",
    "lower_limit = Q1 - 1.5 * IQR\n",
    "upper_limit = Q3 + 1.5 * IQR\n",
    "\n",
    "# Detectar outliers (donde los valores están fuera de los límites)\n",
    "outliers = (combined_04[numerica04] < lower_limit) | (combined_04[numerica04] > upper_limit)\n",
    "\n",
    "# Mostrar una vista de los outliers por fila\n",
    "outliers_data = combined_04[outliers.any(axis=1)]\n",
    "\n",
    "# Opcional: Mostrar el total de outliers por columna\n",
    "outliers_count = outliers.sum()\n",
    "print(f\"Total de outliers por columna: \\n{outliers_count}\")\n",
    "\n",
    "# Mostrar las filas que contienen outliers\n",
    "print(f\"Filas con outliers: \\n{outliers_data}\")\n",
    "\n",
    "# Eliminar filas con outliers\n",
    "combined_04_no_outliers = combined_04[~outliers.any(axis=1)]\n",
    "\n",
    "combined_04 = combined_04_no_outliers"
   ]
  },
  {
   "cell_type": "markdown",
   "metadata": {},
   "source": [
    "#### 2024"
   ]
  },
  {
   "cell_type": "code",
   "execution_count": 235,
   "metadata": {},
   "outputs": [
    {
     "data": {
      "text/plain": [
       "109"
      ]
     },
     "execution_count": 235,
     "metadata": {},
     "output_type": "execute_result"
    }
   ],
   "source": [
    "#Lista de todas las variables de la base 2004\n",
    "lista04 = combined_04.columns.to_list()\n",
    "len(lista04)"
   ]
  },
  {
   "cell_type": "code",
   "execution_count": 236,
   "metadata": {},
   "outputs": [],
   "source": [
    "# #Para la base 2004, reemplazo los valores de texto de las variables binarias a 0 y 1 para ya usarlas como dummies. \n",
    "# reemplazosbinarias = {\n",
    "#     \"Sí\" : 1, \n",
    "#     \"No\" : 0, \n",
    "#     \"S\" : 1, \n",
    "#     \"N\" : 0, \n",
    "#     \"Varón\" : 1, \n",
    "#     \"Mujer\" : 0\n",
    "# }\n",
    "\n",
    "# combined_04 = combined_04.applymap(lambda x: reemplazosbinarias.get(x, x))"
   ]
  },
  {
   "cell_type": "code",
   "execution_count": 237,
   "metadata": {},
   "outputs": [],
   "source": [
    "#variables numericas para sacar outliers\n",
    "numerica24 = ['CH06', 'ESTADO', 'V2_M', \n",
    "                  'V3_M', 'V4_M', 'V5_M', 'V8_M', 'V9_M', 'V10_M', 'V11_M', 'V12_M', 'V18_M', 'V19_AM',\n",
    "                    'V21_M', 'T_VI', 'II1', 'II2', 'II5_1', \n",
    "                        'IX_TOT', 'IX_MEN10', 'IX_MAYEQ10', 'ITF', 'DECIFR', 'RDECIFR', 'GDECIFR', 'ADECIFR',\n",
    "                          'IPCF', 'DECCFR', 'RDECCFR', 'GDECCFR', 'ADECCFR', 'PONDIH']"
   ]
  },
  {
   "cell_type": "code",
   "execution_count": 238,
   "metadata": {},
   "outputs": [
    {
     "name": "stdout",
     "output_type": "stream",
     "text": [
      "CH06            int64\n",
      "ESTADO          int64\n",
      "V2_M            int64\n",
      "V3_M            int64\n",
      "V4_M            int64\n",
      "V5_M            int64\n",
      "V8_M            int64\n",
      "V9_M            int64\n",
      "V10_M           int64\n",
      "V11_M           int64\n",
      "V12_M           int64\n",
      "V18_M           int64\n",
      "V19_AM          int64\n",
      "V21_M           int64\n",
      "T_VI            int64\n",
      "II1             int64\n",
      "II2             int64\n",
      "II5_1           int64\n",
      "IX_TOT          int64\n",
      "IX_MEN10        int64\n",
      "IX_MAYEQ10      int64\n",
      "ITF             int64\n",
      "DECIFR          int64\n",
      "RDECIFR         int64\n",
      "GDECIFR       float64\n",
      "ADECIFR         int64\n",
      "IPCF          float64\n",
      "DECCFR          int64\n",
      "RDECCFR         int64\n",
      "GDECCFR       float64\n",
      "ADECCFR         int64\n",
      "PONDIH          int64\n",
      "dtype: object\n",
      "Columnas de tipo 'object': \n",
      "Index([], dtype='object')\n"
     ]
    }
   ],
   "source": [
    "# Verifica el tipo de datos de todas las columnas en el DataFrame\n",
    "print(combined_24[numerica24].dtypes)\n",
    "\n",
    "# Filtrar las columnas que son de tipo 'category'\n",
    "categorical_columns = combined_24[numerica24].select_dtypes(include=['object']).columns\n",
    "\n",
    "# Mostrar las columnas que son de tipo 'category'\n",
    "print(f\"Columnas de tipo 'object': \\n{categorical_columns}\")"
   ]
  },
  {
   "cell_type": "code",
   "execution_count": 239,
   "metadata": {},
   "outputs": [
    {
     "name": "stdout",
     "output_type": "stream",
     "text": [
      "Total de outliers por columna: \n",
      "CH06             0\n",
      "ESTADO           0\n",
      "V2_M          1112\n",
      "V3_M            11\n",
      "V4_M             3\n",
      "V5_M           260\n",
      "V8_M            70\n",
      "V9_M             1\n",
      "V10_M           56\n",
      "V11_M           68\n",
      "V12_M          155\n",
      "V18_M            7\n",
      "V19_AM           0\n",
      "V21_M          438\n",
      "T_VI          1603\n",
      "II1             23\n",
      "II2              0\n",
      "II5_1           62\n",
      "IX_TOT         128\n",
      "IX_MEN10       308\n",
      "IX_MAYEQ10      70\n",
      "ITF            382\n",
      "DECIFR           0\n",
      "RDECIFR          0\n",
      "GDECIFR          0\n",
      "ADECIFR          0\n",
      "IPCF           457\n",
      "DECCFR           0\n",
      "RDECCFR          0\n",
      "GDECCFR          0\n",
      "ADECCFR          0\n",
      "PONDIH         110\n",
      "dtype: int64\n"
     ]
    }
   ],
   "source": [
    "#outliers 2024\n",
    "combined_24[numerica24] = combined_24[numerica24].apply(pd.to_numeric, errors='coerce')\n",
    "\n",
    "# Calculamos los cuartiles y el IQR solo para las columnas numéricas\n",
    "Q1 = combined_24[numerica24].quantile(0.25)\n",
    "Q3 = combined_24[numerica24].quantile(0.75)\n",
    "IQR = Q3 - Q1\n",
    "\n",
    "# Definir los límites inferior y superior\n",
    "lower_limit = Q1 - 1.5 * IQR\n",
    "upper_limit = Q3 + 1.5 * IQR\n",
    "\n",
    "# Detectar outliers (donde los valores están fuera de los límites)\n",
    "outliers24 = (combined_24[numerica24] < lower_limit) | (combined_24[numerica24] > upper_limit)\n",
    "\n",
    "# Mostrar una vista de los outliers por fila\n",
    "outliers_data24 = combined_24[outliers24.any(axis=1)]\n",
    "\n",
    "# Opcional: Mostrar el total de outliers por columna\n",
    "outliers_count24 = outliers24.sum()\n",
    "print(f\"Total de outliers por columna: \\n{outliers_count24}\")\n",
    "\n",
    "# Eliminar filas con outliers\n",
    "combined_24_no_outliers = combined_24[~outliers24.any(axis=1)]\n",
    "combined_24 = combined_24_no_outliers"
   ]
  },
  {
   "cell_type": "markdown",
   "metadata": {},
   "source": [
    "### Variables categoricas"
   ]
  },
  {
   "cell_type": "markdown",
   "metadata": {},
   "source": [
    "#### 2004"
   ]
  },
  {
   "cell_type": "code",
   "execution_count": 240,
   "metadata": {},
   "outputs": [
    {
     "data": {
      "text/plain": [
       "46"
      ]
     },
     "execution_count": 240,
     "metadata": {},
     "output_type": "execute_result"
    }
   ],
   "source": [
    "#Armo una lista con todas las variables que no quiero que sean dummies. Incluye numercias continuas y binarias (0,1).\n",
    "nocategorica04 = ['CODUSU',\n",
    " 'NRO_HOGAR',\n",
    " 'COMPONENTE',\n",
    " 'CH06',\n",
    " 'ESTADO', #Estado es categorica, pero lo dejo porque despues vamos a usar una dummy de desocupado directamente. \n",
    " 'P47T',\n",
    " 'DECINDR',\n",
    " 'RDECINDR',\n",
    " 'GDECINDR',\n",
    " 'ADECINDR',\n",
    " 'V2_M',\n",
    " 'V3_M',\n",
    " 'V4_M',\n",
    " 'V5_M',\n",
    " 'V8_M',\n",
    " 'V9_M',\n",
    " 'V10_M',\n",
    " 'V11_M',\n",
    " 'V12_M',\n",
    " 'V18_M',\n",
    " 'V19_AM',\n",
    " 'V21_M',\n",
    " 'T_VI',\n",
    " 'REALIZADA',\n",
    " 'ANO4',\n",
    " 'TRIMESTRE',\n",
    " 'REGION',\n",
    " 'AGLOMERADO',\n",
    " 'PONDERA',\n",
    " 'IV2',\n",
    " 'II1',\n",
    " 'II2',\n",
    " 'II5_1',\n",
    " 'IX_TOT',\n",
    " 'IX_MEN10',\n",
    " 'IX_MAYEQ10',\n",
    " 'ITF',\n",
    " 'DECIFR',\n",
    " 'RDECIFR',\n",
    " 'GDECIFR',\n",
    " 'ADECIFR',\n",
    " 'IPCF',\n",
    " 'DECCFR',\n",
    " 'RDECCFR',\n",
    " 'GDECCFR',\n",
    " 'ADECCFR']\n",
    "\n",
    "len(nocategorica04)"
   ]
  },
  {
   "cell_type": "code",
   "execution_count": 241,
   "metadata": {},
   "outputs": [
    {
     "data": {
      "text/plain": [
       "64"
      ]
     },
     "execution_count": 241,
     "metadata": {},
     "output_type": "execute_result"
    }
   ],
   "source": [
    "#Armo una lista de las variables categoricas para hacer dummies. Son todas las variables menos las binarias y las numericas continuas. \n",
    "categorica04 = list(set(lista04) - set(nocategorica04))\n",
    "len(categorica04)"
   ]
  },
  {
   "cell_type": "code",
   "execution_count": 242,
   "metadata": {},
   "outputs": [],
   "source": [
    "#Elimina categorias sin usar para que el get dummies no sea redundante\n",
    "for i in categorica04: \n",
    "    combined_04[i] = combined_04[i].astype('category')\n",
    "    combined_04[i] = combined_04[i].cat.remove_unused_categories()"
   ]
  },
  {
   "cell_type": "code",
   "execution_count": 243,
   "metadata": {},
   "outputs": [],
   "source": [
    "# # dummies04 = pd.get_dummies(combined_04[categorica04], drop_first=True)\n",
    "# dummies04 = pd.get_dummies(combined_04[categorica04])\n",
    "# combined_04_cat = pd.concat([combined_04, dummies04], axis = 1)\n",
    "\n",
    "# ### combined_04_cat ----- incluye dummies Y las variables originales. "
   ]
  },
  {
   "cell_type": "code",
   "execution_count": 244,
   "metadata": {},
   "outputs": [],
   "source": [
    "combined_04 = pd.get_dummies(combined_04, columns = categorica04, drop_first=True)"
   ]
  },
  {
   "cell_type": "code",
   "execution_count": 245,
   "metadata": {},
   "outputs": [
    {
     "name": "stderr",
     "output_type": "stream",
     "text": [
      "C:\\Users\\magda\\AppData\\Local\\Temp\\ipykernel_10220\\1632687978.py:1: FutureWarning: The behavior of Series.replace (and DataFrame.replace) with CategoricalDtype is deprecated. In a future version, replace will only be used for cases that preserve the categories. To change the categories, use ser.cat.rename_categories instead.\n",
      "  combined_04['CH06'] = combined_04['CH06'].replace('Menos de 1 año', 0)\n",
      "C:\\Users\\magda\\AppData\\Local\\Temp\\ipykernel_10220\\1632687978.py:2: FutureWarning: Downcasting behavior in `replace` is deprecated and will be removed in a future version. To retain the old behavior, explicitly call `result.infer_objects(copy=False)`. To opt-in to the future behavior, set `pd.set_option('future.no_silent_downcasting', True)`\n",
      "  combined_04['CH06'] = combined_04['CH06'].replace('98 y más años', 100)\n",
      "C:\\Users\\magda\\AppData\\Local\\Temp\\ipykernel_10220\\1632687978.py:2: FutureWarning: The behavior of Series.replace (and DataFrame.replace) with CategoricalDtype is deprecated. In a future version, replace will only be used for cases that preserve the categories. To change the categories, use ser.cat.rename_categories instead.\n",
      "  combined_04['CH06'] = combined_04['CH06'].replace('98 y más años', 100)\n"
     ]
    }
   ],
   "source": [
    "combined_04['CH06'] = combined_04['CH06'].replace('Menos de 1 año', 0)\n",
    "combined_04['CH06'] = combined_04['CH06'].replace('98 y más años', 100)\n",
    "combined_04['CH06'] = combined_04['CH06'].astype(int)"
   ]
  },
  {
   "cell_type": "code",
   "execution_count": 246,
   "metadata": {},
   "outputs": [],
   "source": [
    "col_transform = ['IV2', 'II1', 'II2']\n",
    "for i in col_transform: \n",
    "    combined_04[i] = combined_04[i].astype(str)\n",
    "    combined_04[i] = combined_04[i].astype(float)\n",
    "    combined_04[i] = combined_04[i].astype(int)\n"
   ]
  },
  {
   "cell_type": "markdown",
   "metadata": {},
   "source": [
    "#### 2024"
   ]
  },
  {
   "cell_type": "code",
   "execution_count": 247,
   "metadata": {},
   "outputs": [
    {
     "data": {
      "text/plain": [
       "107"
      ]
     },
     "execution_count": 247,
     "metadata": {},
     "output_type": "execute_result"
    }
   ],
   "source": [
    "#Lista de todas las variables de la base 2024\n",
    "lista24 = combined_24.columns.to_list()\n",
    "len(lista24)"
   ]
  },
  {
   "cell_type": "code",
   "execution_count": 248,
   "metadata": {},
   "outputs": [],
   "source": [
    "#misma lista para 2024. variables numericas continuas (que no quiero convertir en dummies)\n",
    "nocategorica24 = ['CODUSU',\n",
    " 'NRO_HOGAR',\n",
    " 'COMPONENTE',\n",
    " 'CH06',\n",
    " 'ESTADO',\n",
    " 'V2_M',\n",
    " 'V3_M',\n",
    " 'V4_M',\n",
    " 'V5_M',\n",
    " 'V8_M',\n",
    " 'V9_M',\n",
    " 'V10_M',\n",
    " 'V11_M',\n",
    " 'V12_M',\n",
    " 'V18_M',\n",
    " 'V19_AM',\n",
    " 'V21_M',\n",
    " 'T_VI',\n",
    " 'ANO4',\n",
    " 'TRIMESTRE',\n",
    " 'REALIZADA',\n",
    " 'REGION',\n",
    " 'AGLOMERADO',\n",
    " 'PONDERA',\n",
    " 'II1',\n",
    " 'II2',\n",
    " 'II5_1',\n",
    " 'IX_TOT',\n",
    " 'IX_MEN10',\n",
    " 'IX_MAYEQ10',\n",
    " 'ITF',\n",
    " 'DECIFR',\n",
    " 'RDECIFR',\n",
    " 'GDECIFR',\n",
    " 'ADECIFR',\n",
    " 'IPCF',\n",
    " 'DECCFR',\n",
    " 'RDECCFR',\n",
    " 'GDECCFR',\n",
    " 'ADECCFR',\n",
    " 'PONDIH']"
   ]
  },
  {
   "cell_type": "code",
   "execution_count": 249,
   "metadata": {},
   "outputs": [
    {
     "data": {
      "text/plain": [
       "66"
      ]
     },
     "execution_count": 249,
     "metadata": {},
     "output_type": "execute_result"
    }
   ],
   "source": [
    "#Armo una lista de las variables categoricas para hacer dummies. Son todas las variables menos las binarias y las numericas continuas. \n",
    "categorica24 = list(set(lista24) - set(nocategorica24))\n",
    "len(categorica24)"
   ]
  },
  {
   "cell_type": "code",
   "execution_count": 250,
   "metadata": {},
   "outputs": [],
   "source": [
    "#Convierto los valores de las columnas categoricas a objetos para poder hacer dummies\n",
    "for i in categorica24: \n",
    "    combined_24[i] = combined_24[i].astype('category')\n",
    "    combined_24[i] = combined_24[i].cat.remove_unused_categories()"
   ]
  },
  {
   "cell_type": "code",
   "execution_count": 251,
   "metadata": {},
   "outputs": [],
   "source": [
    "combined_24 = pd.get_dummies(combined_24, columns = categorica24, drop_first=True)"
   ]
  },
  {
   "cell_type": "code",
   "execution_count": 252,
   "metadata": {},
   "outputs": [],
   "source": [
    "# dummies24 = pd.get_dummies(combined_24[categorica24])\n",
    "# combined_24_cat = pd.concat([combined_24, dummies24], axis = 1)\n",
    "\n",
    "# ### combined_24_cat ----- incluye dummies Y las variables originales. \n",
    "# # combined_24 = combined_24_cat.drop(columns = categorica24)"
   ]
  },
  {
   "cell_type": "markdown",
   "metadata": {},
   "source": [
    "## 4. Analisis exploratorio\n",
    "VARIABLES EXTRA, DESCRIPCION"
   ]
  },
  {
   "cell_type": "code",
   "execution_count": 253,
   "metadata": {},
   "outputs": [],
   "source": [
    "#DEFINIR VARIABLES EXTRA\n",
    "# Crear una nueva columna 'desocupado' con base en la condición ESTADO = 2\n",
    "combined_04['desocupado'] = combined_04['ESTADO'] == 'Desocupado'\n",
    "combined_24['desocupado'] = combined_24['ESTADO'] == 2\n",
    "\n",
    "# Convertir valores booleanos a num\n",
    "combined_04['desocupado'] = combined_04['desocupado'].map({True:1, False: 0})\n",
    "combined_24['desocupado'] = combined_24['desocupado'].map({True:1, False: 0})\n"
   ]
  },
  {
   "cell_type": "code",
   "execution_count": 44,
   "metadata": {},
   "outputs": [],
   "source": [
    "#DEFINIR VARIABLES EXTRA para cada ano\n",
    "\n",
    "# Verificar el resultado\n",
    "#NSE - con ingreso. agrupar variables  IPCF\n",
    "# bins = [0, 3000, 5000, 7000, 10000] \n",
    "# labels = ['Bajo', 'Medio-Bajo', 'Medio', 'Alto']\n",
    "# combined_04['ingreso_agrupado'] = pd.cut(df['ingreso'], bins=bins, labels=labels, right=False\n",
    "                                         \n",
    "#subsidios V5, V12, V19_A (MENORES DE 10 AÑOS)"
   ]
  },
  {
   "cell_type": "code",
   "execution_count": 273,
   "metadata": {},
   "outputs": [],
   "source": [
    "#PROXY DE NIVEL SOCIOECONOMICO: INGRESO AGRUPADO\n",
    "# Definir la función para categorizar los valores de DECCFR\n",
    "def categorizar_nse(deccfr):\n",
    "    deccfr_int = int(deccfr)\n",
    "    if deccfr_int >= 0 and deccfr_int <= 3:\n",
    "        return 'bajo'\n",
    "    elif deccfr_int >= 4 and deccfr_int <= 7:\n",
    "        return 'medio'\n",
    "    elif deccfr_int >= 8:\n",
    "        return 'alto'\n",
    "\n",
    "# Aplicar la función para crear la nueva variable NSE\n",
    "combined_04['NSE'] = combined_04['DECCFR'].apply(categorizar_nse)\n",
    "\n",
    "combined_04 = pd.get_dummies(combined_04, columns=['NSE'], prefix='NSE', drop_first=True)\n",
    "\n",
    "# Aplicar la función para crear la nueva variable NSE\n",
    "combined_24['NSE'] = combined_24['DECCFR'].apply(categorizar_nse)\n",
    "\n",
    "combined_24 = pd.get_dummies(combined_24, columns=['NSE'], prefix='NSE', drop_first=True)"
   ]
  },
  {
   "cell_type": "code",
   "execution_count": 272,
   "metadata": {},
   "outputs": [
    {
     "data": {
      "text/plain": [
       "DECCFR\n",
       "12    2049\n",
       "1      325\n",
       "2      304\n",
       "3      260\n",
       "4      241\n",
       "7      234\n",
       "6      197\n",
       "5      197\n",
       "8      187\n",
       "9      150\n",
       "0       54\n",
       "Name: count, dtype: int64"
      ]
     },
     "execution_count": 272,
     "metadata": {},
     "output_type": "execute_result"
    }
   ],
   "source": [
    "combined_24['DECCFR'].value_counts()"
   ]
  },
  {
   "cell_type": "code",
   "execution_count": 274,
   "metadata": {},
   "outputs": [],
   "source": [
    "#hago estas bases que mantienen NSE para poder hacer graficos\n",
    "combined_04_tot = combined_04\n",
    "combined_04_tot['NSE'] = combined_04_tot['DECCFR'].apply(categorizar_nse)\n",
    "\n",
    "combined_24_tot = combined_24\n",
    "combined_24_tot['NSE'] = combined_24_tot['DECCFR'].apply(categorizar_nse)"
   ]
  },
  {
   "cell_type": "markdown",
   "metadata": {},
   "source": [
    "## 4.5 Las tres variables extra"
   ]
  },
  {
   "cell_type": "markdown",
   "metadata": {},
   "source": [
    "#### PROPORCION DE EDUCACION EN EL HOGAR"
   ]
  },
  {
   "cell_type": "code",
   "execution_count": 289,
   "metadata": {},
   "outputs": [],
   "source": [
    "# Definir una función que mapee los valores de CH10_1 a categorías\n",
    "def map_educacion(row):\n",
    "    if row['CH10_3'] == False:  # Acceder a 'CH10_1' en la fila actual\n",
    "        return 1\n",
    "    else:\n",
    "        return 0\n",
    "\n",
    "# Aplicar la función y crear la nueva columna 'educacion'\n",
    "combined_24['educacion'] = combined_24.apply(map_educacion, axis=1)\n",
    "\n",
    "# Agrupar por CODUSU y NRO_HOGAR\n",
    "educacion_por_hogar24 = combined_24.groupby(['CODUSU', 'NRO_HOGAR'])\n",
    "\n",
    "# Calcular la cantidad de componentes (personas) por hogar\n",
    "cantidad_personas = educacion_por_hogar24['COMPONENTE'].count().reset_index(name='cantidad_personas')\n",
    "\n",
    "# Calcular cuántas personas en cada hogar están educadas (educacion = 1)\n",
    "personas_educadas = educacion_por_hogar24['educacion'].sum().reset_index(name='personas_educadas')\n",
    "\n",
    "# Unir ambos DataFrames: cantidad de personas y cantidad de personas educadas\n",
    "educacion_por_hogar24 = pd.merge(cantidad_personas, personas_educadas, on=['CODUSU', 'NRO_HOGAR'])\n",
    "\n",
    "# Calcular la proporción de personas educadas por hogar\n",
    "educacion_por_hogar24['proporcion_educacion'] = educacion_por_hogar24['personas_educadas'] / educacion_por_hogar24['cantidad_personas']\n",
    "\n",
    "# # Mostrar el resultado\n",
    "# print(educacion_por_hogar)"
   ]
  },
  {
   "cell_type": "code",
   "execution_count": 292,
   "metadata": {},
   "outputs": [
    {
     "data": {
      "text/plain": [
       "CH10_3  educacion\n",
       "False   1            4126\n",
       "True    0              72\n",
       "Name: count, dtype: int64"
      ]
     },
     "execution_count": 292,
     "metadata": {},
     "output_type": "execute_result"
    }
   ],
   "source": [
    "combined_24[['CH10_3', 'educacion']].value_counts()"
   ]
  },
  {
   "cell_type": "code",
   "execution_count": 290,
   "metadata": {},
   "outputs": [
    {
     "data": {
      "text/html": [
       "<div>\n",
       "<style scoped>\n",
       "    .dataframe tbody tr th:only-of-type {\n",
       "        vertical-align: middle;\n",
       "    }\n",
       "\n",
       "    .dataframe tbody tr th {\n",
       "        vertical-align: top;\n",
       "    }\n",
       "\n",
       "    .dataframe thead th {\n",
       "        text-align: right;\n",
       "    }\n",
       "</style>\n",
       "<table border=\"1\" class=\"dataframe\">\n",
       "  <thead>\n",
       "    <tr style=\"text-align: right;\">\n",
       "      <th></th>\n",
       "      <th>CODUSU</th>\n",
       "      <th>NRO_HOGAR</th>\n",
       "      <th>COMPONENTE</th>\n",
       "      <th>CH06</th>\n",
       "      <th>ESTADO</th>\n",
       "      <th>V2_M</th>\n",
       "      <th>V3_M</th>\n",
       "      <th>V4_M</th>\n",
       "      <th>V5_M</th>\n",
       "      <th>V8_M</th>\n",
       "      <th>...</th>\n",
       "      <th>IV11_3</th>\n",
       "      <th>IV11_4</th>\n",
       "      <th>desocupado</th>\n",
       "      <th>NSE_bajo</th>\n",
       "      <th>NSE_medio</th>\n",
       "      <th>educacion</th>\n",
       "      <th>NSE_bajo</th>\n",
       "      <th>NSE_medio</th>\n",
       "      <th>NSE</th>\n",
       "      <th>proporcion_educacion</th>\n",
       "    </tr>\n",
       "  </thead>\n",
       "  <tbody>\n",
       "    <tr>\n",
       "      <th>0</th>\n",
       "      <td>TQRMNOPPQHJNOPCDEIJAH00802435</td>\n",
       "      <td>1</td>\n",
       "      <td>2</td>\n",
       "      <td>52</td>\n",
       "      <td>3</td>\n",
       "      <td>0</td>\n",
       "      <td>0</td>\n",
       "      <td>0</td>\n",
       "      <td>0</td>\n",
       "      <td>0</td>\n",
       "      <td>...</td>\n",
       "      <td>False</td>\n",
       "      <td>False</td>\n",
       "      <td>0</td>\n",
       "      <td>False</td>\n",
       "      <td>False</td>\n",
       "      <td>1</td>\n",
       "      <td>False</td>\n",
       "      <td>False</td>\n",
       "      <td>alto</td>\n",
       "      <td>1.0</td>\n",
       "    </tr>\n",
       "    <tr>\n",
       "      <th>1</th>\n",
       "      <td>TQRMNOPPQHJNOPCDEIJAH00802435</td>\n",
       "      <td>1</td>\n",
       "      <td>4</td>\n",
       "      <td>22</td>\n",
       "      <td>1</td>\n",
       "      <td>0</td>\n",
       "      <td>0</td>\n",
       "      <td>0</td>\n",
       "      <td>0</td>\n",
       "      <td>0</td>\n",
       "      <td>...</td>\n",
       "      <td>False</td>\n",
       "      <td>False</td>\n",
       "      <td>0</td>\n",
       "      <td>False</td>\n",
       "      <td>False</td>\n",
       "      <td>1</td>\n",
       "      <td>False</td>\n",
       "      <td>False</td>\n",
       "      <td>alto</td>\n",
       "      <td>1.0</td>\n",
       "    </tr>\n",
       "    <tr>\n",
       "      <th>2</th>\n",
       "      <td>TQRMNOPPQHKKMMCDEIIAD00858017</td>\n",
       "      <td>1</td>\n",
       "      <td>1</td>\n",
       "      <td>52</td>\n",
       "      <td>1</td>\n",
       "      <td>0</td>\n",
       "      <td>0</td>\n",
       "      <td>0</td>\n",
       "      <td>0</td>\n",
       "      <td>0</td>\n",
       "      <td>...</td>\n",
       "      <td>False</td>\n",
       "      <td>False</td>\n",
       "      <td>0</td>\n",
       "      <td>False</td>\n",
       "      <td>False</td>\n",
       "      <td>1</td>\n",
       "      <td>False</td>\n",
       "      <td>False</td>\n",
       "      <td>alto</td>\n",
       "      <td>1.0</td>\n",
       "    </tr>\n",
       "    <tr>\n",
       "      <th>3</th>\n",
       "      <td>TQRMNOPPRHJNOPCDEIJAH00793617</td>\n",
       "      <td>1</td>\n",
       "      <td>1</td>\n",
       "      <td>41</td>\n",
       "      <td>3</td>\n",
       "      <td>0</td>\n",
       "      <td>0</td>\n",
       "      <td>0</td>\n",
       "      <td>0</td>\n",
       "      <td>0</td>\n",
       "      <td>...</td>\n",
       "      <td>False</td>\n",
       "      <td>False</td>\n",
       "      <td>0</td>\n",
       "      <td>False</td>\n",
       "      <td>True</td>\n",
       "      <td>1</td>\n",
       "      <td>False</td>\n",
       "      <td>True</td>\n",
       "      <td>medio</td>\n",
       "      <td>1.0</td>\n",
       "    </tr>\n",
       "    <tr>\n",
       "      <th>4</th>\n",
       "      <td>TQRMNOPPRHJNOPCDEIJAH00793617</td>\n",
       "      <td>1</td>\n",
       "      <td>2</td>\n",
       "      <td>48</td>\n",
       "      <td>1</td>\n",
       "      <td>0</td>\n",
       "      <td>0</td>\n",
       "      <td>0</td>\n",
       "      <td>0</td>\n",
       "      <td>0</td>\n",
       "      <td>...</td>\n",
       "      <td>False</td>\n",
       "      <td>False</td>\n",
       "      <td>0</td>\n",
       "      <td>False</td>\n",
       "      <td>True</td>\n",
       "      <td>1</td>\n",
       "      <td>False</td>\n",
       "      <td>True</td>\n",
       "      <td>medio</td>\n",
       "      <td>1.0</td>\n",
       "    </tr>\n",
       "    <tr>\n",
       "      <th>...</th>\n",
       "      <td>...</td>\n",
       "      <td>...</td>\n",
       "      <td>...</td>\n",
       "      <td>...</td>\n",
       "      <td>...</td>\n",
       "      <td>...</td>\n",
       "      <td>...</td>\n",
       "      <td>...</td>\n",
       "      <td>...</td>\n",
       "      <td>...</td>\n",
       "      <td>...</td>\n",
       "      <td>...</td>\n",
       "      <td>...</td>\n",
       "      <td>...</td>\n",
       "      <td>...</td>\n",
       "      <td>...</td>\n",
       "      <td>...</td>\n",
       "      <td>...</td>\n",
       "      <td>...</td>\n",
       "      <td>...</td>\n",
       "      <td>...</td>\n",
       "    </tr>\n",
       "    <tr>\n",
       "      <th>4193</th>\n",
       "      <td>TQUMNOQSVHMOTSCDEIJAH00859221</td>\n",
       "      <td>1</td>\n",
       "      <td>1</td>\n",
       "      <td>61</td>\n",
       "      <td>1</td>\n",
       "      <td>0</td>\n",
       "      <td>0</td>\n",
       "      <td>0</td>\n",
       "      <td>0</td>\n",
       "      <td>0</td>\n",
       "      <td>...</td>\n",
       "      <td>False</td>\n",
       "      <td>False</td>\n",
       "      <td>0</td>\n",
       "      <td>False</td>\n",
       "      <td>False</td>\n",
       "      <td>1</td>\n",
       "      <td>False</td>\n",
       "      <td>False</td>\n",
       "      <td>alto</td>\n",
       "      <td>1.0</td>\n",
       "    </tr>\n",
       "    <tr>\n",
       "      <th>4194</th>\n",
       "      <td>TQUMNOQSVHMOTSCDEIJAH00859221</td>\n",
       "      <td>1</td>\n",
       "      <td>2</td>\n",
       "      <td>53</td>\n",
       "      <td>1</td>\n",
       "      <td>0</td>\n",
       "      <td>0</td>\n",
       "      <td>0</td>\n",
       "      <td>0</td>\n",
       "      <td>0</td>\n",
       "      <td>...</td>\n",
       "      <td>False</td>\n",
       "      <td>False</td>\n",
       "      <td>0</td>\n",
       "      <td>False</td>\n",
       "      <td>False</td>\n",
       "      <td>1</td>\n",
       "      <td>False</td>\n",
       "      <td>False</td>\n",
       "      <td>alto</td>\n",
       "      <td>1.0</td>\n",
       "    </tr>\n",
       "    <tr>\n",
       "      <th>4195</th>\n",
       "      <td>TQVMNORVXHLOTOCDEIJAH00855319</td>\n",
       "      <td>1</td>\n",
       "      <td>1</td>\n",
       "      <td>35</td>\n",
       "      <td>1</td>\n",
       "      <td>0</td>\n",
       "      <td>0</td>\n",
       "      <td>0</td>\n",
       "      <td>0</td>\n",
       "      <td>0</td>\n",
       "      <td>...</td>\n",
       "      <td>False</td>\n",
       "      <td>False</td>\n",
       "      <td>0</td>\n",
       "      <td>False</td>\n",
       "      <td>False</td>\n",
       "      <td>1</td>\n",
       "      <td>False</td>\n",
       "      <td>False</td>\n",
       "      <td>alto</td>\n",
       "      <td>1.0</td>\n",
       "    </tr>\n",
       "    <tr>\n",
       "      <th>4196</th>\n",
       "      <td>TQVMNORVXHLOTOCDEIJAH00855319</td>\n",
       "      <td>1</td>\n",
       "      <td>2</td>\n",
       "      <td>17</td>\n",
       "      <td>1</td>\n",
       "      <td>0</td>\n",
       "      <td>0</td>\n",
       "      <td>0</td>\n",
       "      <td>0</td>\n",
       "      <td>0</td>\n",
       "      <td>...</td>\n",
       "      <td>False</td>\n",
       "      <td>False</td>\n",
       "      <td>0</td>\n",
       "      <td>False</td>\n",
       "      <td>False</td>\n",
       "      <td>1</td>\n",
       "      <td>False</td>\n",
       "      <td>False</td>\n",
       "      <td>alto</td>\n",
       "      <td>1.0</td>\n",
       "    </tr>\n",
       "    <tr>\n",
       "      <th>4197</th>\n",
       "      <td>TQVMNORVXHLOTOCDEIJAH00855319</td>\n",
       "      <td>1</td>\n",
       "      <td>3</td>\n",
       "      <td>11</td>\n",
       "      <td>3</td>\n",
       "      <td>0</td>\n",
       "      <td>0</td>\n",
       "      <td>0</td>\n",
       "      <td>0</td>\n",
       "      <td>0</td>\n",
       "      <td>...</td>\n",
       "      <td>False</td>\n",
       "      <td>False</td>\n",
       "      <td>0</td>\n",
       "      <td>False</td>\n",
       "      <td>False</td>\n",
       "      <td>1</td>\n",
       "      <td>False</td>\n",
       "      <td>False</td>\n",
       "      <td>alto</td>\n",
       "      <td>1.0</td>\n",
       "    </tr>\n",
       "  </tbody>\n",
       "</table>\n",
       "<p>4198 rows × 276 columns</p>\n",
       "</div>"
      ],
      "text/plain": [
       "                             CODUSU  NRO_HOGAR  COMPONENTE  CH06  ESTADO  \\\n",
       "0     TQRMNOPPQHJNOPCDEIJAH00802435          1           2    52       3   \n",
       "1     TQRMNOPPQHJNOPCDEIJAH00802435          1           4    22       1   \n",
       "2     TQRMNOPPQHKKMMCDEIIAD00858017          1           1    52       1   \n",
       "3     TQRMNOPPRHJNOPCDEIJAH00793617          1           1    41       3   \n",
       "4     TQRMNOPPRHJNOPCDEIJAH00793617          1           2    48       1   \n",
       "...                             ...        ...         ...   ...     ...   \n",
       "4193  TQUMNOQSVHMOTSCDEIJAH00859221          1           1    61       1   \n",
       "4194  TQUMNOQSVHMOTSCDEIJAH00859221          1           2    53       1   \n",
       "4195  TQVMNORVXHLOTOCDEIJAH00855319          1           1    35       1   \n",
       "4196  TQVMNORVXHLOTOCDEIJAH00855319          1           2    17       1   \n",
       "4197  TQVMNORVXHLOTOCDEIJAH00855319          1           3    11       3   \n",
       "\n",
       "      V2_M  V3_M  V4_M  V5_M  V8_M  ...  IV11_3  IV11_4  desocupado  NSE_bajo  \\\n",
       "0        0     0     0     0     0  ...   False   False           0     False   \n",
       "1        0     0     0     0     0  ...   False   False           0     False   \n",
       "2        0     0     0     0     0  ...   False   False           0     False   \n",
       "3        0     0     0     0     0  ...   False   False           0     False   \n",
       "4        0     0     0     0     0  ...   False   False           0     False   \n",
       "...    ...   ...   ...   ...   ...  ...     ...     ...         ...       ...   \n",
       "4193     0     0     0     0     0  ...   False   False           0     False   \n",
       "4194     0     0     0     0     0  ...   False   False           0     False   \n",
       "4195     0     0     0     0     0  ...   False   False           0     False   \n",
       "4196     0     0     0     0     0  ...   False   False           0     False   \n",
       "4197     0     0     0     0     0  ...   False   False           0     False   \n",
       "\n",
       "      NSE_medio  educacion  NSE_bajo  NSE_medio    NSE  proporcion_educacion  \n",
       "0         False          1     False      False   alto                   1.0  \n",
       "1         False          1     False      False   alto                   1.0  \n",
       "2         False          1     False      False   alto                   1.0  \n",
       "3          True          1     False       True  medio                   1.0  \n",
       "4          True          1     False       True  medio                   1.0  \n",
       "...         ...        ...       ...        ...    ...                   ...  \n",
       "4193      False          1     False      False   alto                   1.0  \n",
       "4194      False          1     False      False   alto                   1.0  \n",
       "4195      False          1     False      False   alto                   1.0  \n",
       "4196      False          1     False      False   alto                   1.0  \n",
       "4197      False          1     False      False   alto                   1.0  \n",
       "\n",
       "[4198 rows x 276 columns]"
      ]
     },
     "execution_count": 290,
     "metadata": {},
     "output_type": "execute_result"
    }
   ],
   "source": [
    "# Unir el DataFrame educacion_por_hogar24 con combined_24 para agregar la columna proporcion_educacion\n",
    "combined_24_ = pd.merge(combined_24, educacion_por_hogar24[['CODUSU', 'NRO_HOGAR', 'proporcion_educacion']], on=['CODUSU', 'NRO_HOGAR'], how='left')\n",
    "\n",
    "# Mostrar el DataFrame resultante\n",
    "combined_24_\n"
   ]
  },
  {
   "cell_type": "code",
   "execution_count": 47,
   "metadata": {},
   "outputs": [
    {
     "name": "stdout",
     "output_type": "stream",
     "text": [
      "        CODUSU  NRO_HOGAR  cantidad_personas  personas_educadas  \\\n",
      "0     125169          1.0                  6                  3   \n",
      "1     125172          2.0                  1                  0   \n",
      "2     125256          1.0                  3                  0   \n",
      "3     125397          1.0                  1                  0   \n",
      "4     125516          1.0                  6                  3   \n",
      "...        ...        ...                ...                ...   \n",
      "1668  287810          1.0                  2                  1   \n",
      "1669  287811          1.0                  4                  1   \n",
      "1670  287998          1.0                  3                  1   \n",
      "1671  288171          1.0                  1                  0   \n",
      "1672  288405          1.0                  4                  1   \n",
      "\n",
      "      proporcion_educacion  \n",
      "0                 0.500000  \n",
      "1                 0.000000  \n",
      "2                 0.000000  \n",
      "3                 0.000000  \n",
      "4                 0.500000  \n",
      "...                    ...  \n",
      "1668              0.500000  \n",
      "1669              0.250000  \n",
      "1670              0.333333  \n",
      "1671              0.000000  \n",
      "1672              0.250000  \n",
      "\n",
      "[1673 rows x 5 columns]\n"
     ]
    }
   ],
   "source": [
    "# Definir una función que mapee los valores de CH10_1 a categorías\n",
    "def map_educacion(row):\n",
    "    if row['CH10_Sí, asiste'] == 1 or row['CH10_No asiste, pero asistió'] == 2:  # Acceder a 'CH10_1' en la fila actual\n",
    "        return 1\n",
    "    else:\n",
    "        return 0\n",
    "\n",
    "# Aplicar la función y crear la nueva columna 'educacion'\n",
    "combined_04['educacion'] = combined_04.apply(map_educacion, axis=1)\n",
    "\n",
    "# Agrupar por CODUSU y NRO_HOGAR\n",
    "educacion_por_hogar = combined_04.groupby(['CODUSU', 'NRO_HOGAR'])\n",
    "\n",
    "# Calcular la cantidad de componentes (personas) por hogar\n",
    "cantidad_personas = educacion_por_hogar['COMPONENTE'].count().reset_index(name='cantidad_personas')\n",
    "\n",
    "# Calcular cuántas personas en cada hogar están educadas (educacion = 1)\n",
    "personas_educadas = educacion_por_hogar['educacion'].sum().reset_index(name='personas_educadas')\n",
    "\n",
    "# Unir ambos DataFrames: cantidad de personas y cantidad de personas educadas\n",
    "educacion_por_hogar = pd.merge(cantidad_personas, personas_educadas, on=['CODUSU', 'NRO_HOGAR'])\n",
    "\n",
    "# Calcular la proporción de personas educadas por hogar\n",
    "educacion_por_hogar['proporcion_educacion'] = educacion_por_hogar['personas_educadas'] / educacion_por_hogar['cantidad_personas']\n",
    "\n",
    "# Mostrar el resultado\n",
    "print(educacion_por_hogar)"
   ]
  },
  {
   "cell_type": "code",
   "execution_count": 48,
   "metadata": {},
   "outputs": [],
   "source": [
    "#### Variable nueva subsidio\n",
    "\n",
    "# Definir una función que mapee los valores de V5 y V12 a categorías\n",
    "def map_ayuda_social04(row):\n",
    "    if row['V5_Sí'] == 1 and row['V12_Sí'] == 2:  # Acceder a 'CH10_1' en la fila actual\n",
    "        return 1\n",
    "    else:\n",
    "        return 0\n",
    "\n",
    "def map_ayuda_social24(row):\n",
    "    if row['V5_1'] == 1 and row['V12_1'] == 1:  # Acceder a 'CH10_1' en la fila actual\n",
    "        return 1\n",
    "    else:\n",
    "        return 0\n",
    "\n",
    "\n",
    "# Aplicar la función y crear la nueva columna 'subsidio'\n",
    "combined_04['ayuda_social'] = combined_04.apply(map_ayuda_social04, axis=1)\n",
    "\n",
    "combined_24['ayuda_social'] = combined_24.apply(map_ayuda_social24, axis=1)\n"
   ]
  },
  {
   "cell_type": "markdown",
   "metadata": {},
   "source": [
    "## 5. Clasificacion y regularizacion"
   ]
  },
  {
   "cell_type": "markdown",
   "metadata": {},
   "source": [
    "#### Armado de base, separación train-test, estandarización"
   ]
  },
  {
   "cell_type": "code",
   "execution_count": 49,
   "metadata": {},
   "outputs": [],
   "source": [
    "#FILTRAR PERSONAS Q NO RESPONDIERON ESTADO=0\n",
    "#ESTADO: 0 = Entrevista individual no realizada (no respuesta al cuestionario individual)\n",
    "    # 1 = Ocupado\n",
    "    # 2 = Desocupado\n",
    "    # 3 = Inactivo\n",
    "    # 4 = Menor de 10 años\n",
    "\n",
    "# largo_04 = len (combined_04)\n",
    "# largo_24 = len (combined_24)\n",
    "\n",
    "datos_04 = combined_04[combined_04['ESTADO'] != 0]\n",
    "datos_24 = combined_24 [combined_24 ['ESTADO'] !=0]\n",
    "\n",
    "# print (f'cant original 04',largo_04)\n",
    "# print (f'cant nhueva 04', len(datos_04))\n",
    "\n",
    "# print (f'cant original 24',largo_24)\n",
    "# print (f'cant nhueva 24', len(datos_24))\n",
    "# columnas_datos04 = datos_04.columns.tolist()\n",
    "# columnas_datos04"
   ]
  },
  {
   "cell_type": "code",
   "execution_count": 50,
   "metadata": {},
   "outputs": [],
   "source": [
    "sacar_pre_lasso = ['CODUSU', 'ANO4', 'TRIMESTRE', 'ESTADO', 'AGLOMERADO', 'COMPONENTE', 'REGION', 'REALIZADA']\n",
    "datos_04 = datos_04.drop (columns = sacar_pre_lasso)\n",
    "datos_24 = datos_24.drop (columns = sacar_pre_lasso)"
   ]
  },
  {
   "cell_type": "code",
   "execution_count": 51,
   "metadata": {},
   "outputs": [],
   "source": [
    "#Drop ns/nr\n",
    "filas_a_eliminar04 = datos_04[\n",
    "    datos_04.isin(['Ns./Nr.']).any(axis=1)\n",
    "].index"
   ]
  },
  {
   "cell_type": "code",
   "execution_count": 52,
   "metadata": {},
   "outputs": [],
   "source": [
    "filas_a_eliminar24 = datos_24[\n",
    "    datos_24.isin(['Ns./Nr.']).any(axis=1)\n",
    "].index"
   ]
  },
  {
   "cell_type": "code",
   "execution_count": 53,
   "metadata": {},
   "outputs": [
    {
     "data": {
      "text/plain": [
       "0"
      ]
     },
     "execution_count": 53,
     "metadata": {},
     "output_type": "execute_result"
    }
   ],
   "source": [
    "len(filas_a_eliminar24)"
   ]
  },
  {
   "cell_type": "markdown",
   "metadata": {},
   "source": [
    "#### Separación base Respondieron / no respondieron\n",
    "Problema: En 2004 no hay gente que no haya respondido\n",
    "- En 2024 hay 40"
   ]
  },
  {
   "cell_type": "code",
   "execution_count": 54,
   "metadata": {},
   "outputs": [],
   "source": [
    "#ACA HAY QUE DEFINIR LA BASE DE RESPONDIERON Y NO RESPONDIERON PARA CADA AÑO: \n",
    "\n",
    "# # DataFrame para las personas con ESTADO = 0\n",
    "# norespondieron_04 = combined_04[combined_04['ESTADO'] == 0]\n",
    "# norespondieron_24 = combined_24[combined_24['ESTADO'] == 0]\n",
    "\n",
    "# # DataFrame para las personas con ESTADO distinto de 0\n",
    "# respondieron_04 = combined_04[combined_04['ESTADO'] != 0]\n",
    "# respondieron_24 = combined_24[combined_24['ESTADO'] != 0]\n",
    "\n",
    "# # Imprimir el número de observaciones en cada DataFrame\n",
    "# print(f\"Total de personas que no respondieron (2004): {len(norespondieron_04)}\")\n",
    "# print(f\"Total de personas que respondieron (2004) {len(respondieron_04)}\")\n",
    "\n",
    "# print(f\"Total de personas que no respondieron (2024): {len(norespondieron_24)}\")\n",
    "# print(f\"Total de personas que respondieron (2024) {len(respondieron_24)}\")"
   ]
  },
  {
   "cell_type": "code",
   "execution_count": 55,
   "metadata": {},
   "outputs": [],
   "source": [
    "# Se separa X e y a partir de la selección de columnas numericas\n",
    "X_2004 = datos_04.drop(columns=['desocupado'])\n",
    "y_2004 = datos_04['desocupado']\n",
    "X_2024 = datos_24.drop(columns=['desocupado'])\n",
    "y_2024 = datos_24['desocupado']"
   ]
  },
  {
   "cell_type": "code",
   "execution_count": 56,
   "metadata": {},
   "outputs": [
    {
     "name": "stdout",
     "output_type": "stream",
     "text": [
      "{'VII2_2_Ninguna', 'IV4_Chapa de fibrocemento/plástico', 'VII2_1_1.0', 'II8_Ns./Nr.', 'IV3_ESP_                                             ', 'IV1_Casa', 'VII2_1_0.0', 'V12_0.0', 'II4_3_No', 'VII2_3_12.0', 'II7_Ocupante gratuito (con permiso)', 'V2_0.0', 'CH08_Obra social (incluye PAMI)', 'CH03_No familiares', 'V19_A_Sí', 'IV7_Red pública (agua corriente)', 'II4_1_0.0', 'V22_0.0', 'VII2_1_12.0', 'CH14_04', 'IV4_0.0', 'VII1_2_7.0', 'IV1_Local no construido para habitación', 'V9_0.0', 'CH07_Casado', 'V14_Ns./Nr.', 'IV12_2_0.0', 'II5_0.0', 'VII2_3_13.0', 'V19_B_Sí', 'H15_Sí', 'IV12_3_0.0', 'VII1_2_0.0', 'CH14_00', 'CH11_Privado', 'CH13_No', 'CH08_Planes y seguros públicos', 'VII2_3_9.0', 'VII2_3_5.0', 'VII2_4_8.0', 'NIVEL_ED_Secundaria Incompleta', 'V2_Sí', 'VII2_4_2.0', 'V6_No', 'DECINDR', 'II7_Ocupante en relación de dependencia', 'VII2_1_8.0', 'II4_1_Ns./Nr.', 'II7_0.0', 'V21_0.0', 'VII1_1_Ns./Nr.', 'V1_Sí', 'VII2_3_4.0', 'VII2_4_3.0', 'VII1_1_Otra persona que no vive en el hogar', 'IV7_Perforación con bomba a motor', 'VII2_4_6.0', 'VII2_2_3.0', 'IV11_0.0', 'CH15_En otra localidad', 'VII2_3_Ninguna', 'VII1_2_11.0', 'V9_No', 'CH13_0.0', 'CH11_0.0', 'IV11_A red pública (cloaca)', 'II5_No', 'V12_Ns./Nr.', 'V5_No', 'IV10_Letrina (sin arrastre de agua)', 'VII2_1_Servicio doméstico', 'VII1_2_12.0', 'CH07_Separado o divorciado', 'IV4_Membrana/cubierta asfáltica', 'V10_Sí', 'CH15_En otro país', 'CH12_EGB', 'IV12_1_Sí', 'II5_Sí', 'V15_Sí', 'V16_No', 'H15_0.0', 'VII1_1_Servicio doméstico', 'CH03_Yerno/Nuera', 'VII2_1_5.0', 'CH03_Hijo/Hijastro', 'VII1_1_7.0', 'CH09_Ns./Nr.', 'VII1_2_5.0', 'VII2_4_1.0', 'V6_0.0', 'CH12_Polimodal', 'IV4_N/S. Depto. de propiedad horizontal', 'IV10_0.0', 'VII2_3_7.0', 'VII2_1_14.0', 'VII1_2_Otra persona que no vive en el hogar', 'VII2_2_13.0', 'VII2_2_Servicio doméstico', 'VII2_2_Otra persona que no vive en el hogar', 'H15_No', 'V13_Ns./Nr.', 'V18_0.0', 'II4_2_Sí', 'CH03_Hermano', 'VII1_2_Ninguna', 'CH08_Obra social y planes y seguros públicos', 'CH15_En esta localidad', 'IV6_Por cañería dentro de la vivienda', 'V12_Sí', 'II4_2_No', 'V7_0.0', 'II5_Ns./Nr.', 'II4_1_Sí', 'CH14_05', 'VII1_1_6.0', 'CH16_En otra localidad de esta provincia', 'VII2_2_7.0', 'V11_Sí', 'IV3_0.0', 'V3_0.0', 'II4_3_Sí', 'VII1_1_5.0', 'CH14_99', 'NIVEL_ED_Primaria Incompleta (incluye educación especial)', 'IV3_Ladrillo suelto/tierra', 'V1_No', 'CH08_Obra social, mutual/prepaga/servicio de emergencia y planes', 'CH12_Posgrado Universitario', 'II7_Ocupante por pago de impuestos/expensas', 'V10_Ns./Nr.', 'CH11_Ns./Nr.', 'II7_Inquilino/arrendatario de la vivienda', 'V13_Sí', 'CH04_Varón', 'V7_Sí', 'VII2_2_5.0', 'V14_0.0', 'V8_Ns./Nr.', 'VII1_2_9.0', 'IV4_Pizarra/teja', 'V6_Ns./Nr.', 'IV5_Sí', 'II9_0.0', 'NIVEL_ED_Primaria Completa', 'CH08_Obra social y mutual/prepaga/servicio de emergencia', 'VII1_2_6.0', 'V19_A_0.0', 'VII1_1_1.0', 'IV5_Ns./Nr.', 'IV9_Fuera del terreno', 'NIVEL_ED_Sin instrucción', 'V9_Ns./Nr.', 'CH03_Cónyuge/Pareja', 'IV6_0.0', 'V5_Ns./Nr.', 'IV4_Caña/tabla/paja con barro/paja sola', 'VII2_2_1.0', 'CH12_Educación especial (discapacitado)', 'II8_0.0', 'VII2_3_1.0', 'RDECINDR', 'V15_0.0', 'V13_No', 'IV10_Inodoro con botón/mochila/cadena y arrastre de agua', 'V4_No', 'II8_Gas de tubo/garrafa', 'CH15_En otra provincia (especificar)', 'II4_1_No', 'IV9_Fuera de la vivienda pero dentro del terreno', 'V4_Sí', 'VII1_1_71.0', 'II7_Propietario de la vivienda y el terreno', 'IV1_Otro', 'II8_Kerosene/leña/carbón', 'V16_0.0', 'IV12_1_No', 'VII2_2_2.0', 'VII2_4_7.0', 'IV9_Dentro de la vivienda', 'CH14_08', 'VII2_1_10.0', 'VII1_2_15.0', 'V21_Sí', 'VII2_4_5.0', 'V6_Sí', 'V11_0.0', 'VII1_2_3.0', 'VII2_3_Servicio doméstico', 'NIVEL_ED_Secundaria Completa', 'VII1_1_2.0', 'CH14_06', 'VII1_1_8.0', 'CH09_No', 'IV2', 'CH10_0.0', 'VII1_1_10.0', 'V19_B_Ns./Nr.', 'IV8_No', 'V15_No', 'IV11_Sólo a pozo ciego', 'VII2_1_Otra persona que no vive en el hogar', 'CH15_En un país limítrofe', 'V14_No', 'CH07_Soltero', 'CH03_Nieto', 'NIVEL_ED_Superior Universitaria Completa', 'V3_Sí', 'CH12_Primario', 'CH13_Ns./Nr.', 'II9_Compartido con otro/s hogar/es de la misma vivienda', 'IV3_Otro', 'VII2_1_9.0', 'CH14_01', 'VII1_2_1.0', 'VII2_2_6.0', 'II9_Uso exclusivo del hogar', 'IV1_Departamento', 'VII1_1_0.0', 'IV7_Ns./Nr.', 'V15_Ns./Nr.', 'P47T', 'CH15_Ns./Nr.', 'CH08_Ns./Nr.', 'II7_Ocupante de hecho (sin permiso)', 'IV7_0.0', 'V10_0.0', 'V18_Ns./Nr.', 'VII1_1_3.0', 'II7_Otra situación', 'IV4_Baldosa/losa sin cubierta', 'CH08_No paga ni le descuentan', 'V2_No', 'V7_Ns./Nr.', 'V2_Ns./Nr.', 'VII2_4_4.0', 'IV3_ESP_FKEXIPLAS                                    ', 'IV4_Chapa de cartón', 'II8_Gas de red', 'VII2_3_8.0', 'CH08_Mutual/prepaga/servicio de emergencia/planes y seguros públi', 'CH14_07', 'CH03_Otros familiares', 'CH16_Ns./Nr.', 'IV12_3_No', 'CH16_En otra provincia (especificar)', 'V22_Ns./Nr.', 'II7_Está en sucesión', 'V5_Sí', 'IV12_3_Sí', 'CH16_No había nacido', 'IV9_0.0', 'CH12_Terciario', 'V22_No', 'VII2_4_0.0', 'CH09_Sí', 'CH16_En esta localidad', 'NIVEL_ED_Superior Universitaria Incompleta', 'VII1_1_4.0', 'VII2_3_10.0', 'CH10_Nunca asistió', 'CH07_Viudo', 'IV5_0.0', 'V3_No', 'V8_0.0', 'CH12_0.0', 'V4_0.0', 'V17_Ns./Nr.', 'CH14_03', 'V19_B_0.0', 'CH12_Universitario', 'II8_Otro', 'IV11_A cámara séptica y pozo ciego', 'IV3_Mosaico/baldosa/madera/cerámica/alfombra', 'VII2_3_0.0', 'IV7_Perforación con bomba manual', 'II4_3_0.0', 'VII2_1_11.0', 'VII2_4_Servicio doméstico', 'VII1_2_8.0', 'V19_A_Ns./Nr.', 'CH03_Suegro', 'V4_Ns./Nr.', 'VII2_1_98.0', 'V7_No', 'IV12_2_No', 'II7_Propietario de la vivienda solamente', 'CH10_Sí, asiste', 'CH13_Sí', 'CH12_Ns./Nr.', 'VII2_1_6.0', 'IV12_1_0.0', 'IV11_A hoyo/excavación en la tierra', 'V18_Sí', 'IV6_Fuera de la vivienda pero dentro del terreno', 'CH07_Ns./Nr.', 'IV4_Chapa de metal sin cubierta', 'IV1_Pieza de inquilinato', 'IV8_Sí', 'IV10_Ns./Nr.', 'CH16_En un país limítrofe', 'VII2_2_10.0', 'V22_Sí', 'VII2_1_4.0', 'CH10_No asiste, pero asistió', 'CH11_Público', 'V14_Sí', 'V21_Ns./Nr.', 'V8_No', 'VII1_2_2.0', 'CH14_98', 'CH12_Secundario', 'V11_No', 'CH07_Unido', 'VII1_2_4.0', 'CH14_09', 'CH10_Ns./Nr.', 'VII2_3_3.0', 'V17_Sí', 'IV12_2_Sí', 'CH14_  ', 'V21_No', 'II4_2_0.0', 'IV8_0.0', 'V10_No', 'VII2_3_2.0', 'V17_0.0', 'V9_Sí', 'VII2_1_7.0', 'V16_Ns./Nr.', 'VII2_2_11.0', 'VII2_2_9.0', 'ADECINDR', 'V19_A_No', 'VII2_2_4.0', 'CH04_Mujer', 'V5_0.0', 'IV7_Otra fuente', 'V13_0.0', 'II9_Ns./Nr.', 'IV6_Fuera del terreno', 'VII2_3_6.0', 'V11_Ns./Nr.', 'VII2_1_2.0', 'VII2_2_0.0', 'VII2_2_8.0', 'II9_Compartido con otra/s vivienda/s', 'V18_No', 'CH03_Jefe', 'II4_3_Ns./Nr.', 'II4_2_Ns./Nr.', 'VII1_2_10.0', 'IV10_Inodoro sin botón/cadena y con arrastre de agua', 'CH09_Menor de 2 años', 'V19_B_No', 'CH16_En otro país', 'VII2_1_3.0', 'CH08_Mutual/Prepaga/Servicio de emergencia', 'V8_Sí', 'VII1_2_Servicio doméstico', 'V12_No', 'V3_Ns./Nr.', 'IV5_No', 'IV11_Ns/Nr', 'II9_No tiene baño', 'CH12_Jardín/Preescolar', 'IV1_Pieza en hotel/pensión', 'V16_Sí', 'GDECINDR', 'IV3_Cemento/ladrillo fijo', 'V17_No', 'CH14_02', 'CH03_Madre/Padre'}\n",
      "{'VII2_1_4', 'V22_2', 'V19_B_9', 'CH14_1.0', 'CH16_1', 'VII2_3_0', 'VII2_3_3', 'CH12_7', 'IV12_1_2', 'CH09_9', 'IV1_4', 'V3_2', 'V4_1', 'IV10_0', 'V7_1', 'V14_9', 'VII2_2_9', 'NIVEL_ED_4', 'IV11_0', 'VII2_2_98', 'V1_1', 'CH04_1', 'VII1_1_98', 'PONDIH', 'H15_2', 'CH10_2', 'II7_2', 'CH07_9', 'VII2_2_1', 'IV6_3', 'VII1_1_6', 'VII1_1_51', 'II4_1_0', 'CH15_5', 'CH11_1', 'V6_2', 'V9_1', 'V10_2', 'V4_9', 'VII2_1_97', 'VII1_2_6', 'IV9_2', 'IV11_3', 'CH13_9', 'V19_B_2', 'CH15_2', 'CH15_1', 'VII1_2_1', 'II4_2_1', 'VII1_1_4', 'VII2_2_96', 'V10_1', 'IV2_7', 'CH16_2', 'II8_4', 'VII1_1_3', 'IV12_1_1', 'IV5_1', 'V16_9', 'IV1_6', 'CAT_OCUP_1', 'V16_1', 'II7_4', 'V2_9', 'VII2_4_6', 'CH15_3', 'IV11_4', 'CH03_8', 'CH12_4', 'VII1_1_96', 'II9_1', 'CH14_3.0', 'II8_1', 'CAT_INAC_3', 'CH10_1', 'V21_1', 'IV12_3_1', 'CH12_9', 'VII2_3_6', 'CH14_98.0', 'CH08_13', 'V3_9', 'CH12_2', 'II8_0', 'IV9_1', 'CH07_3', 'CH07_5', 'VII1_1_99', 'IV2_2', 'V9_9', 'VII2_2_4', 'CH09_2', 'V12_2', 'V11_1', 'V18_2', 'V2_2', 'V4_2', 'CH09_3', 'IV4_5', 'VII2_2_0', 'NIVEL_ED_6', 'II4_3_2', 'IV2_99', 'II5_2', 'CH07_1', 'V15_1', 'VII1_2_0', 'CH14_6.0', 'CH13_2', 'V1_9', 'VII2_2_5', 'CH14_5.0', 'VII1_1_97', 'V6_1', 'CH12_0', 'V3_1', 'IV1_1', 'VII2_3_1', 'II4_2_2', 'IV11_1', 'CH03_6', 'CH15_4', 'II7_7', 'V5_2', 'CAT_INAC_1', 'CH15_9', 'V18_9', 'VII2_3_12', 'CH08_2', 'CH08_3', 'II4_2_0', 'VII2_4_0', 'II8_2', 'V6_9', 'IV12_2_2', 'V19_B_1', 'CH16_5', 'II8_3', 'VII1_2_4', 'V18_1', 'V15_2', 'V13_1', 'VII2_3_47', 'VII2_1_98', 'VII1_1_2', 'CAT_INAC_7', 'CH16_4', 'CH03_5', 'CH10_0', 'CH10_9', 'V7_2', 'CH03_3', 'H15_1', 'II9_3', 'CAT_INAC_6', 'IV3_4', 'NIVEL_ED_2', 'CH03_9', 'VII2_2_11', 'NIVEL_ED_5', 'V13_2', 'CH12_6', 'VII2_1_1', 'V8_2', 'IV7_4', 'V17_1', 'II5_0', 'V9_2', 'II7_9', 'NIVEL_ED_7', 'V15_9', 'IV4_7', 'CH16_3', 'CH13_0', 'IV4_3', 'IV12_2_1', 'II7_6', 'II4_3_0', 'H15_0', 'VII2_1_96', 'VII1_1_5', 'V14_1', 'CH07_4', 'IV2_6', 'IV3_2', 'VII1_1_9', 'IV2_5', 'IV5_2', 'VII2_1_8', 'V1_2', 'CH14_9.0', 'CH14_0.0', 'II7_0', 'V12_1', 'V5_9', 'II4_1_2', 'IV9_0', 'IV8_2', 'CH04_2', 'CH08_1', 'CH12_1', 'IV4_4', 'VII2_3_5', 'IV6_1', 'II7_8', 'II4_3_1', 'VII2_3_97', 'CH03_1', 'IV2_3', 'CH08_23', 'CH03_2', 'CH13_1', 'IV10_3', 'IV4_1', 'NIVEL_ED_1', 'VII1_2_3', 'VII2_1_5', 'V10_9', 'VII1_2_2', 'CAT_OCUP_3', 'CH07_2', 'CH03_7', 'VII2_2_7', 'IV10_1', 'CH14_7.0', 'VII1_1_23', 'II9_2', 'CAT_INAC_5', 'CH14_99.0', 'II4_1_1', 'IV4_2', 'IV1_3', 'II7_3', 'VII2_1_7', 'IV7_3', 'CAT_INAC_0', 'CH12_5', 'CH03_4', 'IV7_2', 'VII1_2_5', 'V11_2', 'IV3_3', 'V14_2', 'IV1_5', 'CH03_10', 'CH11_9', 'VII2_2_6', 'CAT_INAC_4', 'VII1_2_10', 'II7_1', 'VII1_2_97', 'CAT_INAC_2', 'CH09_1', 'IV2_4', 'V19_A_9', 'V17_9', 'IV12_3_2', 'IV6_2', 'CH14_8.0', 'VII2_2_2', 'CH08_4', 'V2_1', 'VII1_1_1', 'IV1_2', 'CAT_OCUP_0', 'IV10_2', 'II7_5', 'CH12_99', 'CH16_0', 'NIVEL_ED_3', 'CH11_2', 'CH08_12', 'VII2_1_6', 'V11_9', 'V19_A_2', 'V12_9', 'II9_0', 'VII2_1_2', 'VII2_1_3', 'IV8_1', 'IV3_1', 'V21_2', 'VII1_2_7', 'CH12_3', 'VII2_2_3', 'CH12_8', 'VII2_1_99', 'V7_9', 'V8_1', 'CH16_9', 'V22_1', 'II9_4', 'V17_2', 'CH11_0', 'V13_9', 'IV2_1', 'V8_9', 'VII2_3_4', 'IV2_8', 'VII2_4_5', 'IX_MEN10', 'CH14_4.0', 'CH08_9', 'IV4_9', 'V5_1', 'IV11_2', 'CH10_3', 'IV7_1', 'CH16_6', 'CAT_OCUP_4', 'CAT_OCUP_2', 'V16_2', 'CH14_2.0'}\n"
     ]
    }
   ],
   "source": [
    "lista_columns = X_2004.columns.tolist()\n",
    "lista_columns2 = X_2024.columns.tolist()\n",
    "\n",
    "solo_en_lista1 = set(lista_columns) - set(lista_columns2)\n",
    "solo_en_lista2 = set(lista_columns2) - set(lista_columns)\n",
    "print (solo_en_lista1)\n",
    "print (solo_en_lista2)"
   ]
  },
  {
   "cell_type": "markdown",
   "metadata": {},
   "source": [
    "#### Separación Train Test"
   ]
  },
  {
   "cell_type": "code",
   "execution_count": 57,
   "metadata": {},
   "outputs": [],
   "source": [
    "#Partir la base train test para cada ano. \n",
    "#Semilla 101\n",
    "#agregar columna de unos (1)\n",
    "x_train24, x_test24, y_train_24, y_test_24 = train_test_split(X_2024, y_2024, test_size=0.3, random_state=101)\n",
    "x_train04, x_test04, y_train_04, y_test_04 = train_test_split(X_2004, y_2004, test_size=0.3, random_state=101)\n",
    "\n",
    "# x_train_04 = sm.add_constant(x_train_04) #AGREGO COLUMNA DE UNOS\n",
    "# x_train_24 = sm.add_constant(x_train_24)"
   ]
  },
  {
   "cell_type": "code",
   "execution_count": 58,
   "metadata": {},
   "outputs": [
    {
     "name": "stdout",
     "output_type": "stream",
     "text": [
      "NRO_HOGAR       float64\n",
      "CH06              int32\n",
      "P47T            float64\n",
      "DECINDR           int64\n",
      "RDECINDR          int64\n",
      "                 ...   \n",
      "NSE_alto           bool\n",
      "NSE_bajo           bool\n",
      "NSE_medio          bool\n",
      "educacion         int64\n",
      "ayuda_social      int64\n",
      "Length: 410, dtype: object\n"
     ]
    }
   ],
   "source": [
    "tipos_de_datos = x_train04.dtypes \n",
    "print(tipos_de_datos)"
   ]
  },
  {
   "cell_type": "markdown",
   "metadata": {},
   "source": [
    "#### Estandarizar"
   ]
  },
  {
   "cell_type": "code",
   "execution_count": 59,
   "metadata": {},
   "outputs": [
    {
     "name": "stdout",
     "output_type": "stream",
     "text": [
      "               count          mean       std       min       25%       50%  \\\n",
      "NRO_HOGAR     4629.0  7.367909e-17  1.000108 -0.025939 -0.025939 -0.025939   \n",
      "CH06          4629.0 -1.534981e-16  1.000108 -1.627513 -0.865645 -0.058961   \n",
      "V2_M          4629.0  1.074487e-17  1.000108 -0.269809 -0.269809 -0.269809   \n",
      "V3_M          4629.0  3.069962e-18  1.000108 -0.028562 -0.028562 -0.028562   \n",
      "V4_M          4629.0 -3.069962e-18  1.000108 -0.019109 -0.019109 -0.019109   \n",
      "V5_M          4629.0  0.000000e+00  1.000108 -0.155859 -0.155859 -0.155859   \n",
      "V8_M          4629.0 -1.841977e-17  1.000108 -0.065565 -0.065565 -0.065565   \n",
      "V9_M          4629.0 -6.139924e-18  1.000108 -0.014700 -0.014700 -0.014700   \n",
      "V10_M         4629.0 -1.534981e-18  1.000108 -0.019348 -0.019348 -0.019348   \n",
      "V11_M         4629.0 -1.611730e-17  1.000108 -0.085677 -0.085677 -0.085677   \n",
      "V12_M         4629.0 -1.534981e-17  1.000108 -0.101820 -0.101820 -0.101820   \n",
      "V18_M         4629.0  6.139924e-18  1.000108 -0.017815 -0.017815 -0.017815   \n",
      "V19_AM        4629.0  0.000000e+00  0.000000  0.000000  0.000000  0.000000   \n",
      "V21_M         4629.0 -2.455970e-17  1.000108 -0.127410 -0.127410 -0.127410   \n",
      "T_VI          4629.0 -7.674905e-18  1.000108 -0.124780 -0.124780 -0.124780   \n",
      "PONDERA       4629.0  1.435207e-16  1.000108 -1.955432 -0.649557 -0.089644   \n",
      "II1           4629.0  8.826141e-17  1.000108 -2.744057 -0.991782 -0.115645   \n",
      "II2           4629.0  1.488932e-16  1.000108 -2.382817 -1.235645 -0.088473   \n",
      "II5_1         4629.0  2.302472e-17  1.000108 -0.091893 -0.091893 -0.091893   \n",
      "IX_TOT        4629.0  6.370171e-17  1.000108 -1.438942 -0.912641  0.139960   \n",
      "IX_MEN10      4629.0  7.444658e-17  1.000108 -0.620731 -0.620731 -0.620731   \n",
      "IX_MAYEQ10    4629.0 -1.688479e-17  1.000108 -1.486762 -0.801623 -0.116484   \n",
      "ITF           4629.0 -1.151236e-17  1.000108 -0.400394 -0.400394 -0.192254   \n",
      "DECIFR        4629.0 -1.181935e-16  1.000108 -2.095859 -0.806010  0.225870   \n",
      "RDECIFR       4629.0  1.688479e-17  1.000108 -2.043308 -0.767962  0.252314   \n",
      "GDECIFR       4629.0  1.627080e-16  1.000108 -2.078469 -0.793857  0.233833   \n",
      "ADECIFR       4629.0 -9.823879e-17  1.000108 -2.047083 -0.770517  0.250735   \n",
      "IPCF          4629.0  4.988688e-18  1.000108 -0.410218 -0.410218 -0.222641   \n",
      "DECCFR        4629.0  1.158911e-16  1.000108 -1.914252 -0.934966  0.289142   \n",
      "RDECCFR       4629.0  5.525932e-17  1.000108 -1.885269 -0.910495  0.064280   \n",
      "GDECCFR       4629.0 -9.516883e-17  1.000108 -1.899473 -0.923433  0.296618   \n",
      "ADECCFR       4629.0  1.458232e-17  1.000108 -1.884150 -0.909737  0.064677   \n",
      "PONDIH        4629.0 -6.907415e-17  1.000108 -0.902766 -0.902766 -0.170619   \n",
      "II5_1         4629.0  2.302472e-17  1.000108 -0.096832 -0.096832 -0.096832   \n",
      "educacion     4629.0  5.295685e-17  1.000108 -0.645339 -0.645339 -0.645339   \n",
      "ayuda_social  4629.0  2.916464e-17  1.000108 -0.129199 -0.129199 -0.129199   \n",
      "\n",
      "                   75%        max  \n",
      "NRO_HOGAR    -0.025939  67.429311  \n",
      "CH06          0.747724   2.629987  \n",
      "V2_M         -0.269809  33.217685  \n",
      "V3_M         -0.028562  44.638296  \n",
      "V4_M         -0.019109  63.162964  \n",
      "V5_M         -0.155859  20.789474  \n",
      "V8_M         -0.065565  42.945632  \n",
      "V9_M         -0.014700  68.029405  \n",
      "V10_M        -0.019348  67.442296  \n",
      "V11_M        -0.085677  33.126737  \n",
      "V12_M        -0.101820  30.273625  \n",
      "V18_M        -0.017815  66.645679  \n",
      "V19_AM        0.000000   0.000000  \n",
      "V21_M        -0.127410  42.897488  \n",
      "T_VI         -0.124780  62.388756  \n",
      "PONDERA       0.522292   5.665554  \n",
      "II1           0.760493   5.141180  \n",
      "II2           1.058699   4.500215  \n",
      "II5_1        -0.091893  12.996499  \n",
      "IX_TOT        0.666261   4.350367  \n",
      "IX_MEN10      0.479753   5.982171  \n",
      "IX_MAYEQ10    0.568655   3.994351  \n",
      "ITF           0.108402  27.409248  \n",
      "DECIFR        0.999780   0.999780  \n",
      "RDECIFR       1.017521   1.017521  \n",
      "GDECIFR       1.004601   1.004601  \n",
      "ADECIFR       1.016675   1.016675  \n",
      "IPCF          0.100276  26.449653  \n",
      "DECCFR        1.023607   1.023607  \n",
      "RDECCFR       1.039054   1.039054  \n",
      "GDECCFR       1.028648   1.028648  \n",
      "ADECCFR       1.039090   1.039090  \n",
      "PONDIH        0.630096   7.099046  \n",
      "II5_1        -0.096832  10.327205  \n",
      "educacion     1.549573   1.549573  \n",
      "ayuda_social -0.129199   7.740019  \n"
     ]
    }
   ],
   "source": [
    "# Identificar las columnas booleanas, float e int\n",
    "columnas_a_estandarizar_04 = x_train04.select_dtypes(include=['int64', 'float64']).columns\n",
    "columnas_a_estandarizar_24 = x_train24.select_dtypes(include=['int64', 'float64']).columns\n",
    "\n",
    "# Inicializar el estandarizador\n",
    "sc_04 = StandardScaler()\n",
    "sc_24 = StandardScaler()\n",
    "\n",
    "# Estandarizamos las observaciones de entrenamiento\n",
    "x_train_04_transformed = x_train04.copy()\n",
    "x_train_04_transformed[columnas_a_estandarizar_04] = sc_04.fit_transform(x_train04[columnas_a_estandarizar_04])\n",
    "\n",
    "x_train_24_transformed = x_train24.copy()\n",
    "x_train_24_transformed[columnas_a_estandarizar_24] = sc_24.fit_transform(x_train24[columnas_a_estandarizar_24])\n",
    "\n",
    "# Estandarizamos las observaciones de test usando el estandarizador ya ajustado\n",
    "x_test_04_transformed = x_test04.copy()\n",
    "x_test_04_transformed[columnas_a_estandarizar_04] = sc_04.transform(x_test04[columnas_a_estandarizar_04])\n",
    "\n",
    "x_test_24_transformed = x_test24.copy()\n",
    "x_test_24_transformed[columnas_a_estandarizar_24] = sc_24.transform(x_test24[columnas_a_estandarizar_24])\n",
    "\n",
    "# Estadisticas luego de estandarizar\n",
    "print(x_train_24_transformed.describe().T)\n",
    "\n",
    "x_train_04 = x_train_04_transformed\n",
    "x_test_04 = x_test_04_transformed\n",
    "x_train_24 = x_train_24_transformed\n",
    "x_test_24 = x_test_24_transformed\n"
   ]
  },
  {
   "cell_type": "markdown",
   "metadata": {},
   "source": [
    "#### Lasso"
   ]
  },
  {
   "cell_type": "code",
   "execution_count": 60,
   "metadata": {},
   "outputs": [],
   "source": [
    "#Regresion logistica con penalidad LASSO (todos estos pasos se hacen para cada ano)\n",
    "#### Regresion logistica para 2004\n",
    "alpha = 1\n",
    "log04_lasso = LogisticRegression(penalty='l1', C=(1/alpha), solver='liblinear').fit(x_train_04, y_train_04)\n",
    "y_test_pred_score_04_lasso = log04_lasso.predict_proba(x_train_04)[:,1]\n",
    "y_pred_log04_lasso = log04_lasso.predict(x_test_04)\n"
   ]
  },
  {
   "cell_type": "code",
   "execution_count": 61,
   "metadata": {},
   "outputs": [],
   "source": [
    "#### Regresion logistica para 2024\n",
    "log24_lasso = LogisticRegression(penalty='l1', C=(1/alpha), solver='liblinear').fit(x_train_24, y_train_24)\n",
    "y_test_pred_score_24_lasso = log24_lasso.predict_proba(x_train_24)[:,1]\n",
    "y_pred_log24_lasso = log24_lasso.predict(x_test_24)"
   ]
  },
  {
   "cell_type": "code",
   "execution_count": 62,
   "metadata": {},
   "outputs": [
    {
     "name": "stdout",
     "output_type": "stream",
     "text": [
      "Matriz de confusion (Reg Log LASSO 2004)\n",
      " [[1401   24]\n",
      " [  96   20]]\n",
      "\n",
      "AUC Reg Log (2004): 0.5778\n"
     ]
    },
    {
     "data": {
      "image/png": "[encoded data removed]",
      "text/plain": [
       "<Figure size 640x480 with 1 Axes>"
      ]
     },
     "metadata": {},
     "output_type": "display_data"
    },
    {
     "name": "stdout",
     "output_type": "stream",
     "text": [
      "La accuracy del modelo (Reg Log LASSO 2004) es: 0.9221\n"
     ]
    }
   ],
   "source": [
    "#### Medidas de precision Regresion logistica LASSO para 2004\n",
    "#Matriz de confusion\n",
    "conflog04_lasso = confusion_matrix(y_test_04, y_pred_log04_lasso) \n",
    "print(\"Matriz de confusion (Reg Log LASSO 2004)\\n\", conflog04_lasso)\n",
    "\n",
    "#AUC\n",
    "auc_log04_lasso = roc_auc_score(y_test_04, y_pred_log04_lasso)\n",
    "print('\\nAUC Reg Log (2004): %.4f' %auc_log04_lasso)\n",
    "\n",
    "#Curva ROC\n",
    "fpr, tpr, thresholds = roc_curve(y_test_04, y_pred_log04_lasso)\n",
    "display = RocCurveDisplay(fpr=fpr, tpr=tpr, roc_auc=auc_log04_lasso, estimator_name='Reg Log')\n",
    "display.plot()  \n",
    "plt.plot([0, 1], [0, 1], color='red', linestyle='--')\n",
    "plt.show() \n",
    "\n",
    "# #MSE\n",
    "# ecm_a1_l04 = mean_squared_error(y_test_04, y_pred_log04_lasso)\n",
    "# print(\"Error cuadrático medio:\", ecm_a1_l04) \n",
    "\n",
    "#Accuracy\n",
    "accuracy_log04_lasso = accuracy_score(y_test_04, y_pred_log04_lasso)\n",
    "print(\"La accuracy del modelo (Reg Log LASSO 2004) es: %.4f\" %accuracy_log04_lasso)"
   ]
  },
  {
   "cell_type": "code",
   "execution_count": 67,
   "metadata": {},
   "outputs": [
    {
     "name": "stdout",
     "output_type": "stream",
     "text": [
      "Matriz de confusion (Reg Log LASSO 2024)\n",
      " [[1878   10]\n",
      " [  62   35]]\n",
      "\n",
      "AUC Reg Log LASSO (2024): 0.6778\n"
     ]
    },
    {
     "data": {
      "image/png": "[encoded data removed]",
      "text/plain": [
       "<Figure size 640x480 with 1 Axes>"
      ]
     },
     "metadata": {},
     "output_type": "display_data"
    },
    {
     "name": "stdout",
     "output_type": "stream",
     "text": [
      "La accuracy del modelo (Reg Log LASSO 2024) es: 0.9637\n"
     ]
    }
   ],
   "source": [
    "#### Medidas de precision Regresion logistica LASSO para 2024\n",
    "#Matriz de confusion\n",
    "conflog24_lasso = confusion_matrix(y_test_24, y_pred_log24_lasso) \n",
    "print(\"Matriz de confusion (Reg Log LASSO 2024)\\n\", conflog24_lasso)\n",
    "\n",
    "#AUC\n",
    "auc_log24_lasso = roc_auc_score(y_test_24, y_pred_log24_lasso)\n",
    "print('\\nAUC Reg Log LASSO (2024): %.4f' %auc_log24_lasso)\n",
    "\n",
    "#Curva ROC\n",
    "fpr, tpr, thresholds = roc_curve(y_test_24, y_pred_log24_lasso)\n",
    "display = RocCurveDisplay(fpr=fpr, tpr=tpr, roc_auc=auc_log24_lasso, estimator_name='Reg Log')\n",
    "display.plot()  \n",
    "plt.plot([0, 1], [0, 1], color='red', linestyle='--')\n",
    "plt.show() \n",
    "\n",
    "# #MSE\n",
    "# ecm_a1_l24 = mean_squared_error(y_test_24, y_pred_log24_lasso)\n",
    "# print(\"Error cuadrático medio:\", ecm_a1_l24) \n",
    "\n",
    "#Accuracy\n",
    "accuracy_log24_lasso = accuracy_score(y_test_24, y_pred_log24_lasso)\n",
    "print(\"La accuracy del modelo (Reg Log LASSO 2024) es: %.4f\" %accuracy_log24_lasso)"
   ]
  },
  {
   "cell_type": "markdown",
   "metadata": {},
   "source": [
    "#### Ridge"
   ]
  },
  {
   "cell_type": "code",
   "execution_count": 68,
   "metadata": {},
   "outputs": [],
   "source": [
    "#Regresion logistica con penalidad ridge (todos estos pasos se hacen para cada ano)\n",
    "#### Regresion logistica para 2004\n",
    "alpha = 1\n",
    "log04_ridge = LogisticRegression(penalty='l2', C=(1/alpha), solver='liblinear').fit(x_train_04, y_train_04)\n",
    "y_test_pred_score_04_ridge = log04_ridge.predict_proba(x_train_04)[:,1]\n",
    "y_pred_log04_ridge = log04_ridge.predict(x_test_04)\n",
    "\n",
    "#### Regresion logistica para 2024\n",
    "log24_ridge = LogisticRegression(penalty='l2', C=(1/alpha), solver='liblinear').fit(x_train_24, y_train_24)\n",
    "y_test_pred_score_24_ridge = log24_ridge.predict_proba(x_train_24)[:,1]\n",
    "y_pred_log24_ridge = log24_ridge.predict(x_test_24)"
   ]
  },
  {
   "cell_type": "code",
   "execution_count": 69,
   "metadata": {},
   "outputs": [
    {
     "name": "stdout",
     "output_type": "stream",
     "text": [
      "Matriz de confusion (Reg Log ridge 2004)\n",
      " [[1400   25]\n",
      " [  93   23]]\n",
      "\n",
      "AUC Reg Log ridge (2004): 0.5904\n"
     ]
    },
    {
     "data": {
      "image/png": "[encoded data removed]",
      "text/plain": [
       "<Figure size 640x480 with 1 Axes>"
      ]
     },
     "metadata": {},
     "output_type": "display_data"
    },
    {
     "name": "stdout",
     "output_type": "stream",
     "text": [
      "La accuracy del modelo (Reg Log ridge 2004) es: 0.9234\n"
     ]
    }
   ],
   "source": [
    "#### Medidas de precision Regresion logistica ridge para 2004\n",
    "#Matriz de confusion\n",
    "conflog04_ridge = confusion_matrix(y_test_04, y_pred_log04_ridge) \n",
    "print(\"Matriz de confusion (Reg Log ridge 2004)\\n\", conflog04_ridge)\n",
    "\n",
    "#AUC\n",
    "auc_log04_ridge = roc_auc_score(y_test_04, y_pred_log04_ridge)\n",
    "print('\\nAUC Reg Log ridge (2004): %.4f' %auc_log04_ridge)\n",
    "\n",
    "#Curva ROC\n",
    "fpr, tpr, thresholds = roc_curve(y_test_04, y_pred_log04_ridge)\n",
    "display = RocCurveDisplay(fpr=fpr, tpr=tpr, roc_auc=auc_log04_ridge, estimator_name='Reg Log')\n",
    "display.plot()  \n",
    "plt.plot([0, 1], [0, 1], color='red', linestyle='--')\n",
    "plt.show() \n",
    "\n",
    "# #MSE\n",
    "# ecm_a1_r04 = mean_squared_error(y_test_04, y_pred_log04_ridge)\n",
    "# print(\"Error cuadrático medio:\", ecm_a1_r04)  \n",
    "\n",
    "#Accuracy\n",
    "accuracy_log04_ridge = accuracy_score(y_test_04, y_pred_log04_ridge)\n",
    "print(\"La accuracy del modelo (Reg Log ridge 2004) es: %.4f\" %accuracy_log04_ridge)"
   ]
  },
  {
   "cell_type": "code",
   "execution_count": 70,
   "metadata": {},
   "outputs": [
    {
     "name": "stdout",
     "output_type": "stream",
     "text": [
      "Matriz de confusion (Reg Log ridge 2024)\n",
      " [[1400   25]\n",
      " [  93   23]]\n",
      "\n",
      "AUC Reg Log ridge (2024): 0.6631\n"
     ]
    },
    {
     "data": {
      "image/png": "[encoded data removed]",
      "text/plain": [
       "<Figure size 640x480 with 1 Axes>"
      ]
     },
     "metadata": {},
     "output_type": "display_data"
    },
    {
     "name": "stdout",
     "output_type": "stream",
     "text": [
      "La accuracy del modelo (Reg Log ridge 2024) es: 0.9637\n"
     ]
    }
   ],
   "source": [
    "#### Medidas de precision Regresion logistica ridge para 2024\n",
    "#Matriz de confusion\n",
    "conflog24_ridge = confusion_matrix(y_test_24, y_pred_log24_ridge) \n",
    "print(\"Matriz de confusion (Reg Log ridge 2024)\\n\", conflog04_ridge)\n",
    "\n",
    "#AUC\n",
    "auc_log24_ridge = roc_auc_score(y_test_24, y_pred_log24_ridge)\n",
    "print('\\nAUC Reg Log ridge (2024): %.4f' %auc_log24_ridge)\n",
    "\n",
    "#Curva ROC\n",
    "fpr, tpr, thresholds = roc_curve(y_test_24, y_pred_log24_ridge)\n",
    "display = RocCurveDisplay(fpr=fpr, tpr=tpr, roc_auc=auc_log24_ridge, estimator_name='Reg Log')\n",
    "display.plot()  \n",
    "plt.plot([0, 1], [0, 1], color='red', linestyle='--')\n",
    "plt.show() \n",
    "\n",
    "# #MSE\n",
    "# ecm_a1_r24 = mean_squared_error(y_test_24, y_pred_log24_ridge)\n",
    "# print(\"Error cuadrático medio:\", ecm_a1_r24) \n",
    "\n",
    "#Accuracy\n",
    "accuracy_log24_ridge = accuracy_score(y_test_24, y_pred_log24_ridge)\n",
    "print(\"La accuracy del modelo (Reg Log ridge 2024) es: %.4f\" %accuracy_log24_ridge)"
   ]
  },
  {
   "cell_type": "markdown",
   "metadata": {},
   "source": [
    "#### Selección de alpha"
   ]
  },
  {
   "cell_type": "code",
   "execution_count": null,
   "metadata": {},
   "outputs": [],
   "source": [
    "# Cross validation para elegir el alpha para los metodos de regularizacion\n",
    "from sklearn.linear_model import LogisticRegressionCV\n",
    "\n",
    "#LASSO 2004\n",
    "# Definir los valores de C como el inverso de los valores de λ en el rango especificado \n",
    "alphas = 10 ** np.array([*range(-5, 6)], dtype=float) # Genera 10^n para n en [-5, -4, ..., 4, 5] \n",
    "Cs = 1 / alphas\n",
    "\n",
    "# Crear el modelo de regresión logística con validación cruzada y penalización L1\n",
    "log_lasso_cv_04 = LogisticRegressionCV(Cs=Cs, cv=10, penalty='l1', solver='saga', scoring='accuracy', refit=True, max_iter=10000, n_jobs=-1)\n",
    "\n",
    "# Entrenar el modelo\n",
    "log_lasso_cv_04.fit(x_train_04, y_train_04)\n",
    "\n",
    "# Imprimir el mejor valor de C (inverso de alpha)\n",
    "print(\"Mejor valor de C:\", log_lasso_cv_04.C_[0])\n",
    "\n",
    "print(\"El mejor valor de alpha:\", (1/log_lasso_cv_04.C_[0]))\n",
    "\n",
    "# # Hacer predicciones (opcional)\n",
    "# y_pred_ = log_lasso_cv_04.predict(x_test_04)\n",
    "\n"
   ]
  },
  {
   "cell_type": "code",
   "execution_count": 68,
   "metadata": {},
   "outputs": [],
   "source": [
    "# import seaborn as sns\n",
    "# import matplotlib.pyplot as plt\n",
    "\n",
    "# # Recoger los valores de accuracy para cada partición y lambda\n",
    "# results = []\n",
    "\n",
    "# for i, C in enumerate(log_lasso_cv_04.Cs_):\n",
    "#     # Crear un modelo de regresión logística con el valor de C actual\n",
    "#     log_lasso = LogisticRegression(penalty='l1', solver='saga', C=C, max_iter=1000)\n",
    "#     scores = cross_val_score(log_lasso, x_train_04, y_train_04, cv=10, scoring='accuracy')\n",
    "#     for score in scores:\n",
    "#         results.append((1/C, score))\n",
    "\n",
    "# # Convertir los resultados a un DataFrame\n",
    "# df_results = pd.DataFrame(results, columns=['lambda', 'accuracy'])\n",
    "\n",
    "# # Crear el box plot utilizando seaborn\n",
    "# plt.figure(figsize=(12, 6))\n",
    "# sns.boxplot(x='lambda', y='accuracy', data=df_results)\n",
    "# plt.yscale(\"log\")\n",
    "# plt.title('Distribución del accuracy para cada valor de lambda')\n",
    "# plt.xlabel('Valor de lambda')\n",
    "# plt.ylabel('Accuracy')\n",
    "# plt.xticks(rotation=45)\n",
    "# plt.show()\n"
   ]
  },
  {
   "cell_type": "code",
   "execution_count": null,
   "metadata": {},
   "outputs": [],
   "source": [
    "#LASSO 2024\n",
    "alphas = 10 ** np.array([*range(-5, 6)], dtype=float) # Genera 10^n para n en [-5, -4, ..., 4, 5] \n",
    "Cs = 1 / alphas\n",
    "\n",
    "# Crear el modelo de regresión logística con validación cruzada y penalización L1\n",
    "log_lasso_cv_24 = LogisticRegressionCV(Cs=Cs, cv=10, penalty='l1', solver='saga', scoring='accuracy', refit=True, max_iter=100000)\n",
    "\n",
    "# Entrenar el modelo\n",
    "log_lasso_cv_24.fit(x_train_24, y_train_24)\n",
    "\n",
    "# Imprimir el mejor valor de C (inverso de alpha)\n",
    "print(\"Mejor valor de C:\", log_lasso_cv_24.C_[0])\n",
    "\n",
    "print(\"El mejor valor de alpha:\", (1/log_lasso_cv_24.C_[0]))"
   ]
  },
  {
   "cell_type": "code",
   "execution_count": null,
   "metadata": {},
   "outputs": [],
   "source": [
    "#Ridge 2004\n",
    "# Crear el modelo de regresión logística con validación cruzada y penalización L1\n",
    "log_ridge_cv_04 = LogisticRegressionCV(Cs=10, cv=10, penalty='l2', solver='saga', scoring='accuracy', refit=True)\n",
    "\n",
    "# Entrenar el modelo\n",
    "log_ridge_cv_04.fit(x_train_04, y_train_04)\n",
    "\n",
    "# Imprimir el mejor valor de C (inverso de alpha)\n",
    "print(\"Mejor valor de C:\", log_ridge_cv_04.C_[0])\n",
    "\n",
    "print(\"El mejor valor de alpha:\", (1/log_ridge_cv_04.C_[0]))\n",
    "\n",
    "# # Hacer predicciones (opcional)\n",
    "# y_pred_ = log_lasso_cv_04.predict(x_test_04)\n",
    "\n"
   ]
  },
  {
   "cell_type": "code",
   "execution_count": null,
   "metadata": {},
   "outputs": [],
   "source": [
    "#Ridge 2024\n",
    "# Crear el modelo de regresión logística con validación cruzada y penalización L1\n",
    "log_ridge_cv_24 = LogisticRegressionCV(Cs=10, cv=10, penalty='l2', solver='saga', scoring='accuracy', refit=True)\n",
    "\n",
    "# Entrenar el modelo\n",
    "log_ridge_cv_24.fit(x_train_24, y_train_24)\n",
    "\n",
    "# Imprimir el mejor valor de C (inverso de alpha)\n",
    "print(\"Mejor valor de C:\", log_ridge_cv_24.C_[0])\n",
    "\n",
    "print(\"El mejor valor de alpha:\", (1/log_ridge_cv_24.C_[0]))"
   ]
  },
  {
   "cell_type": "code",
   "execution_count": null,
   "metadata": {},
   "outputs": [],
   "source": [
    "#boxplot usando seaborn: distribucion del error de prediccion para cada alpha\n",
    "\n",
    "#boxplot usando seaborn: distribucion del error de prediccion para cada alpha\n",
    "import matplotlib.pyplot as plt\n",
    "import seaborn as sns\n",
    "import pandas as pd\n",
    "\n",
    "# Supongamos que tienes los resultados de la cross-validation en un DataFrame\n",
    "# Donde 'lambda_values' es una lista de los valores de lambda probados\n",
    "# 'accuracies' es una lista de listas o un DataFrame con los accuracies para cada lambda\n",
    "\n",
    "# Ejemplo de datos simulados:\n",
    "lambda_values = [0.1, 1, 10, 100]  # Valores de lambda\n",
    "accuracies = [\n",
    "    [0.80, 0.82, 0.81, 0.83],  # Accuracy para lambda=0.1\n",
    "    [0.75, 0.76, 0.77, 0.75],  # Accuracy para lambda=1\n",
    "    [0.60, 0.62, 0.61, 0.63],  # Accuracy para lambda=10\n",
    "    [0.55, 0.57, 0.56, 0.54]   # Accuracy para lambda=100\n",
    "]\n",
    "\n",
    "# Crear un DataFrame con los resultados\n",
    "df = pd.DataFrame(accuracies, columns=[f'Fold {i+1}' for i in range(len(accuracies[0]))], index=lambda_values)\n",
    "\n",
    "# Ahora necesitamos convertir este DataFrame a formato largo para seaborn (usando melt)\n",
    "df_melted = df.reset_index().melt(id_vars='index', var_name='Fold', value_name='Accuracy')\n",
    "df_melted.rename(columns={'index': 'Lambda'}, inplace=True)\n",
    "\n",
    "# Crear el gráfico de boxplot\n",
    "plt.figure(figsize=(10, 6))\n",
    "sns.boxplot(x='Lambda', y='Accuracy', data=df_melted)\n",
    "\n",
    "# Títulos y etiquetas\n",
    "plt.title('Distribución del Accuracy para diferentes valores de Lambda (Regresión Logística con Lasso)', fontsize=14)\n",
    "plt.xlabel('Valor de Lambda', fontsize=12)\n",
    "plt.ylabel('Accuracy', fontsize=12)\n"
   ]
  },
  {
   "cell_type": "code",
   "execution_count": null,
   "metadata": {},
   "outputs": [],
   "source": [
    "# line plot \n",
    "import matplotlib.pyplot as plt\n",
    "import seaborn as sns\n",
    "import numpy as np\n",
    "import pandas as pd\n",
    "from sklearn.linear_model import Lasso\n",
    "from sklearn.model_selection import cross_val_score\n",
    "\n",
    "# Supongamos que tienes tus datos X (características) y y (objetivo)\n",
    "# X = tus datos de características (pandas DataFrame o numpy array)\n",
    "# y = tus datos de objetivo (vector de etiquetas)\n",
    "\n",
    "# Valores de lambda (o alpha en sklearn)\n",
    "lambda_values = [0.1, 1, 10, 100, 1000]  # Diferentes valores de lambda (alpha)\n",
    "proporcion_ignoradas = []  # Para almacenar la proporción de variables ignoradas\n",
    "\n",
    "# Supongamos que tienes un modelo Lasso\n",
    "# X, y = tus datos (asegúrate de tenerlos preparados previamente)\n",
    "\n",
    "for lambda_val in lambda_values:\n",
    "    # Ajustar el modelo Lasso con el valor de lambda (alpha)\n",
    "    lasso = Lasso(alpha=lambda_val)\n",
    "    lasso.fit(X, y)\n",
    " # Contar cuántos coeficientes son exactamente cero\n",
    "    coef_zeros = np.sum(lasso.coef_ == 0)\n",
    "    \n",
    "    # Calcular la proporción de variables ignoradas\n",
    "    proporcion_ignoradas = coef_zeros / len(lasso.coef_)\n",
    "    proporcion_ignoradas.append(proporcion_ignoradas)\n",
    "\n",
    "# Crear un DataFrame con los resultados\n",
    "df_ignoradas = pd.DataFrame({\n",
    "    'Lambda': lambda_values,\n",
    "    'Proporcion_Ignoradas': proporcion_ignoradas\n",
    "})\n",
    "\n",
    "# Crear el gráfico de lineplot\n",
    "plt.figure(figsize=(10, 6))\n",
    "sns.lineplot(x='Lambda', y='Proporcion_Ignoradas', data=df_ignoradas, marker='o')\n",
    "\n",
    "# Títulos y etiquetas\n",
    "plt.title('Proporción de Variables Ignoradas por el Modelo (Regresión Lasso) en función de Lambda', fontsize=14)\n",
    "plt.xlabel('Valor de Lambda', fontsize=12)\n",
    "plt.ylabel('Proporción de Variables Ignoradas', fontsize=12)\n",
    "plt.xscale('log')  # Usar escala logarítmica para los valores de lambda\n",
    "plt.show()"
   ]
  },
  {
   "cell_type": "code",
   "execution_count": null,
   "metadata": {},
   "outputs": [],
   "source": [
    "#MODELOS LASSO OPTIMOS\n",
    "\n",
    "#2004\n",
    "\n",
    "#2024"
   ]
  },
  {
   "cell_type": "code",
   "execution_count": null,
   "metadata": {},
   "outputs": [],
   "source": [
    "#MODELOS RIDGE OPTIMOS\n",
    "\n",
    "#2004\n",
    "\n",
    "#2024"
   ]
  },
  {
   "cell_type": "code",
   "execution_count": null,
   "metadata": {},
   "outputs": [],
   "source": [
    "#comparar resultados lasso y ridge 2004 vs 2024"
   ]
  }
 ],
 "metadata": {
  "kernelspec": {
   "display_name": "base",
   "language": "python",
   "name": "python3"
  },
  "language_info": {
   "codemirror_mode": {
    "name": "ipython",
    "version": 3
   },
   "file_extension": ".py",
   "mimetype": "text/x-python",
   "name": "python",
   "nbconvert_exporter": "python",
   "pygments_lexer": "ipython3",
   "version": "3.12.4"
  }
 },
 "nbformat": 4,
 "nbformat_minor": 2
}
