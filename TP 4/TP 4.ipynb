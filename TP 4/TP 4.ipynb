{
 "cells": [
  {
   "cell_type": "markdown",
   "metadata": {},
   "source": [
    "#### Ciencia de datos - Primavera 2024\n",
    "##### Integrantes: Magdalena Cobb, Pedro García Vassallo, Marcos Olavarría\n",
    "### Trabajo Práctico 4"
   ]
  },
  {
   "cell_type": "markdown",
   "metadata": {},
   "source": [
    "# 1. LECTURA"
   ]
  },
  {
   "cell_type": "code",
   "execution_count": 59,
   "metadata": {},
   "outputs": [],
   "source": [
    "#Paquetes y librerías a usar\n",
    "# CHEQUEO DE CAMBIOS\n",
    "#!pip install openpyxl\n",
    "#!pip install statsmodels\n",
    "\n",
    "import pandas as pd \n",
    "import numpy as np\n",
    "import matplotlib.pyplot as plt\n",
    "import seaborn as sns\n",
    "import statsmodels.api as sm \n",
    "\n",
    "from sklearn.experimental import enable_iterative_imputer\n",
    "from sklearn.impute import IterativeImputer\n",
    "from sklearn.preprocessing import StandardScaler\n",
    "from sklearn.decomposition import PCA\n",
    "from sklearn.model_selection import train_test_split\n",
    "from sklearn.linear_model import LinearRegression\n",
    "\n",
    "from sklearn import datasets\n",
    "from sklearn.linear_model import LogisticRegression\n",
    "from sklearn.metrics import confusion_matrix\n",
    "from sklearn.metrics import accuracy_score, recall_score \n",
    "from sklearn.metrics import roc_curve\n",
    "from sklearn.metrics import roc_auc_score\n",
    "from sklearn.metrics import RocCurveDisplay\n",
    "#from sklearn.metrics import plot_roc_curve\n",
    "from sklearn.discriminant_analysis import LinearDiscriminantAnalysis\n",
    "from sklearn.neighbors import KNeighborsClassifier"
   ]
  },
  {
   "cell_type": "code",
   "execution_count": 64,
   "metadata": {},
   "outputs": [],
   "source": [
    "#Lectura del documento\n",
    "ind_2024 = pd.read_excel('C:/Users/SAMSUNG/Documents/GitHub/CC408-T1-5/TP 4/usu_individual_T124.xlsx') \n",
    "indi_2004 = pd.read_stata('C:/Users/SAMSUNG/Documents/GitHub/CC408-T1-5/TP 4/Individual_t104.dta')\n",
    "hog_2024 = pd.read_excel('C:/Users/SAMSUNG/Documents/GitHub/CC408-T1-5/TP 4/usu_hogar_T124.xlsx')\n",
    "hoga_2004 = pd.read_stata('C:/Users/SAMSUNG/Documents/GitHub/CC408-T1-5/TP 4/Individual_t104.dta')\n",
    "\n",
    "# Maggie: C:/Users/magda/OneDrive/Documents/GitHub/CC408-T1-5/TP 4/\n",
    "# Peter: 'C:/Users/SAMSUNG/Documents/GitHub/CC408-T1-5/TP4/Individual_t104.dta\n",
    "# Marck: 'C:/Users/marcos.olavarria/Documents/GitHub/CC408/TP 4/usu_hogar_T124.xlsx'\n"
   ]
  },
  {
   "cell_type": "markdown",
   "metadata": {},
   "source": [
    "# 2. Selección de GBA y merge"
   ]
  },
  {
   "cell_type": "markdown",
   "metadata": {},
   "source": [
    "a. Eliminen todas las observaciones que no corresponden a los\n",
    "aglomerados de Ciudad Autónoma de Buenos Aires o Gran Buenos\n",
    "Aires, y unan ambos trimestres en una sola base."
   ]
  },
  {
   "cell_type": "code",
   "execution_count": 70,
   "metadata": {},
   "outputs": [],
   "source": [
    "#Filtramos las bases para tener solo Buenos Aires\n",
    "ind_2024 = ind_2024[(ind_2024['AGLOMERADO'] == 33) | (ind_2024['AGLOMERADO'] == 32)]\n",
    "hog_2024 = hog_2024[(hog_2024['AGLOMERADO'] == 33) | (hog_2024 ['AGLOMERADO'] == 32 )]\n",
    "\n",
    "# \n",
    "ind_2004 = indi_2004[(indi_2004['aglomerado'] == 'Ciudad de Buenos Aires') | (indi_2004 ['aglomerado'] == 'Partidos del GBA' )]\n",
    "hog_2004 = hoga_2004[(hoga_2004['aglomerado'] == 'Ciudad de Buenos Aires') | (hoga_2004 ['aglomerado'] == 'Partidos del GBA' )]\n",
    "\n",
    "ind_2004.columns = ind_2004.columns.str.upper()\n",
    "hog_2004.columns = ind_2004.columns.str.upper()\n"
   ]
  },
  {
   "cell_type": "code",
   "execution_count": 71,
   "metadata": {},
   "outputs": [],
   "source": [
    "combined_04 = pd.merge(ind_2004, hog_2004, on=['CODUSU', 'NRO_HOGAR'], how='outer')\n",
    "combined_24 = pd.merge(ind_2024,hog_2024,on=[\"CODUSU\",\"NRO_HOGAR\"],how=\"outer\")"
   ]
  },
  {
   "cell_type": "markdown",
   "metadata": {},
   "source": [
    "# 2. Limpieza\n",
    "Limpien la base de datos tomando criterios que hagan sentido. Explicar\n",
    "cualquier decisión como el tratamiento de valores faltantes (missing\n",
    "values), extremos (outliers), o variables categóricas. Justifique sus\n",
    "decisiones."
   ]
  },
  {
   "cell_type": "code",
   "execution_count": null,
   "metadata": {},
   "outputs": [],
   "source": [
    "# Limpieza de datos tomando criterios que hagan sentido"
   ]
  },
  {
   "cell_type": "code",
   "execution_count": null,
   "metadata": {},
   "outputs": [],
   "source": [
    "# Valores faltantes"
   ]
  },
  {
   "cell_type": "code",
   "execution_count": null,
   "metadata": {},
   "outputs": [],
   "source": [
    "# Outliers"
   ]
  },
  {
   "cell_type": "code",
   "execution_count": null,
   "metadata": {},
   "outputs": [],
   "source": [
    "# Variables categoricas"
   ]
  }
 ],
 "metadata": {
  "kernelspec": {
   "display_name": "Python 3",
   "language": "python",
   "name": "python3"
  },
  "language_info": {
   "codemirror_mode": {
    "name": "ipython",
    "version": 3
   },
   "file_extension": ".py",
   "mimetype": "text/x-python",
   "name": "python",
   "nbconvert_exporter": "python",
   "pygments_lexer": "ipython3",
   "version": "3.12.4"
  }
 },
 "nbformat": 4,
 "nbformat_minor": 2
}
