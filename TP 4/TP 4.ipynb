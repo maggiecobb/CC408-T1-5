{
 "cells": [
  {
   "cell_type": "markdown",
   "metadata": {},
   "source": [
    "#### Ciencia de datos - Primavera 2024\n",
    "##### Integrantes: Magdalena Cobb, Pedro García Vassallo, Marcos Olavarría\n",
    "### Trabajo Práctico 4"
   ]
  },
  {
   "cell_type": "markdown",
   "metadata": {},
   "source": [
    "# 1. LECTURA"
   ]
  },
  {
   "cell_type": "code",
   "execution_count": 59,
   "metadata": {},
   "outputs": [],
   "source": [
    "#Paquetes y librerías a usar\n",
    "# CHEQUEO DE CAMBIOS\n",
    "#!pip install openpyxl\n",
    "#!pip install statsmodels\n",
    "\n",
    "import pandas as pd \n",
    "import numpy as np\n",
    "import matplotlib.pyplot as plt\n",
    "import seaborn as sns\n",
    "import statsmodels.api as sm \n",
    "\n",
    "from sklearn.experimental import enable_iterative_imputer\n",
    "from sklearn.impute import IterativeImputer\n",
    "from sklearn.preprocessing import StandardScaler\n",
    "from sklearn.decomposition import PCA\n",
    "from sklearn.model_selection import train_test_split\n",
    "from sklearn.linear_model import LinearRegression\n",
    "\n",
    "from sklearn import datasets\n",
    "from sklearn.linear_model import LogisticRegression\n",
    "from sklearn.metrics import confusion_matrix\n",
    "from sklearn.metrics import accuracy_score, recall_score \n",
    "from sklearn.metrics import roc_curve\n",
    "from sklearn.metrics import roc_auc_score\n",
    "from sklearn.metrics import RocCurveDisplay\n",
    "#from sklearn.metrics import plot_roc_curve\n",
    "from sklearn.discriminant_analysis import LinearDiscriminantAnalysis\n",
    "from sklearn.neighbors import KNeighborsClassifier"
   ]
  },
  {
   "cell_type": "code",
   "execution_count": 111,
   "metadata": {},
   "outputs": [],
   "source": [
    "#Lectura del documento\n",
    "indi_2024 = pd.read_excel('C:/Users/SAMSUNG/Documents/GitHub/CC408-T1-5/TP 4/usu_individual_T124.xlsx') \n",
    "indi_2004 = pd.read_stata('C:/Users/SAMSUNG/Documents/GitHub/CC408-T1-5/TP 4/Individual_t104.dta')\n",
    "hoga_2024 = pd.read_excel('C:/Users/SAMSUNG/Documents/GitHub/CC408-T1-5/TP 4/usu_hogar_T124.xlsx')\n",
    "hoga_2004 = pd.read_stata('C:/Users/SAMSUNG/Documents/GitHub/CC408-T1-5/TP 4/Individual_t104.dta')\n",
    "\n",
    "# Maggie: C:/Users/magda/OneDrive/Documents/GitHub/CC408-T1-5/TP 4/\n",
    "# Peter: 'C:/Users/SAMSUNG/Documents/GitHub/CC408-T1-5/TP4/Individual_t104.dta\n",
    "# Marck: 'C:/Users/marcos.olavarria/Documents/GitHub/CC408/TP 4/usu_hogar_T124.xlsx'\n"
   ]
  },
  {
   "cell_type": "markdown",
   "metadata": {},
   "source": [
    "# 2. Selección de GBA y merge"
   ]
  },
  {
   "cell_type": "markdown",
   "metadata": {},
   "source": [
    "a. Eliminen todas las observaciones que no corresponden a los\n",
    "aglomerados de Ciudad Autónoma de Buenos Aires o Gran Buenos\n",
    "Aires, y unan ambos trimestres en una sola base."
   ]
  },
  {
   "cell_type": "code",
   "execution_count": 131,
   "metadata": {},
   "outputs": [],
   "source": [
    "#Filtramos las bases para tener solo Buenos Aires\n",
    "ind_2024 = indi_2024[(indi_2024['AGLOMERADO'] == 33) | (indi_2024['AGLOMERADO'] == 32)]\n",
    "hog_2024 = hoga_2024[(hoga_2024['AGLOMERADO'] == 33) | (hoga_2024 ['AGLOMERADO'] == 32 )]\n",
    "\n",
    "# \n",
    "ind_2004 = indi_2004[(indi_2004['aglomerado'] == 'Ciudad de Buenos Aires') | (indi_2004 ['aglomerado'] == 'Partidos del GBA' )]\n",
    "hog_2004 = hoga_2004[(hoga_2004['aglomerado'] == 'Ciudad de Buenos Aires') | (hoga_2004 ['aglomerado'] == 'Partidos del GBA' )]\n",
    "\n",
    "ind_2004.columns = ind_2004.columns.str.upper()\n",
    "hog_2004.columns = ind_2004.columns.str.upper()\n"
   ]
  },
  {
   "cell_type": "code",
   "execution_count": 132,
   "metadata": {},
   "outputs": [],
   "source": [
    "lista_con = ['ANO4', 'TRIMESTRE', 'MAS_500', 'REGION', 'AGLOMERADO', 'PONDERA',\n",
    "       'ITF', 'DECIFR', 'IDECIFR', 'RDECIFR', 'GDECIFR', 'PDECIFR', 'ADECIFR',\n",
    "       'IPCF', 'DECCFR', 'IDECCFR', 'RDECCFR', 'GDECCFR', 'PDECCFR', 'ADECCFR',\n",
    "       'PONDIH']\n",
    "\n",
    "lista_con2 = [\n",
    "    'COMPONENTE', 'H15', 'ANO4', 'TRIMESTRE', 'REGION', 'MAS_500', 'AGLOMERADO',\n",
    "    'PONDERA', 'CH03', 'CH04', 'CH06', 'CH07', 'CH08', 'CH09', 'CH10', 'CH11', 'CH12',\n",
    "    'CH13', 'CH14', 'CH15', 'CH15_COD', 'CH16', 'CH16_COD', 'NIVEL_ED', 'ESTADO',\n",
    "    'CAT_OCUP', 'CAT_INAC', 'PP02C1', 'PP02C2', 'PP02C3', 'PP02C4', 'PP02C5', 'PP02C6',\n",
    "    'PP02C7', 'PP02C8', 'PP02E', 'PP02H', 'PP02I', 'PP03C', 'PP03D', 'PP3E_TOT', 'PP3F_TOT',\n",
    "    'PP03G', 'PP03H', 'PP03I', 'PP03J', 'INTENSI', 'PP04A', 'PP04B_COD', 'PP04B1', 'PP04B2',\n",
    "    'PP04B3_MES', 'PP04B3_ANO', 'PP04B3_DIA', 'PP04C', 'PP04C99', 'PP04D_COD', 'PP04G',\n",
    "    'PP05B2_MES', 'PP05B2_ANO', 'PP05B2_DIA', 'PP05C_1', 'PP05C_2', 'PP05C_3', 'PP05E',\n",
    "    'PP05F', 'PP05H', 'PP06A', 'PP06C', 'PP06D', 'PP06E', 'PP06H', 'PP07A', 'PP07C', 'PP07D',\n",
    "    'PP07E', 'PP07F1', 'PP07F2', 'PP07F3', 'PP07F4', 'PP07F5', 'PP07G1', 'PP07G2', 'PP07G3',\n",
    "    'PP07G4', 'PP07G_59', 'PP07H', 'PP07I', 'PP07J', 'PP07K', 'PP08D1', 'PP08D4', 'PP08F1',\n",
    "    'PP08F2', 'PP08J1', 'PP08J2', 'PP08J3', 'PP09A', 'PP09A_ESP', 'PP09B', 'PP09C', 'PP09C_ESP',\n",
    "    'PP10A', 'PP10C', 'PP10D', 'PP10E', 'PP11A', 'PP11B_COD', 'PP11B1', 'PP11B2_MES',\n",
    "    'PP11B2_ANO', 'PP11B2_DIA', 'PP11C', 'PP11C99', 'PP11D_COD', 'PP11G_ANO', 'PP11G_MES',\n",
    "    'PP11G_DIA', 'PP11L', 'PP11L1', 'PP11M', 'PP11N', 'PP11O', 'PP11P', 'PP11Q', 'PP11R', 'PP11S',\n",
    "    'PP11T', 'P21', 'DECOCUR', 'IDECOCUR', 'RDECOCUR', 'GDECOCUR', 'PDECOCUR', 'ADECOCUR', 'TOT_P12',\n",
    "    'P47T', 'DECINDR', 'IDECINDR', 'RDECINDR', 'GDECINDR', 'PDECINDR', 'ADECINDR', 'V2_M', 'V3_M',\n",
    "    'V4_M', 'V5_M', 'V8_M', 'V9_M', 'V10_M', 'V11_M', 'V12_M', 'V18_M', 'V19_AM', 'V21_M', 'T_VI', \n",
    "    'ITF', 'DECIFR', 'IDECIFR', 'RDECIFR', 'GDECIFR', 'PDECIFR', 'ADECIFR', 'IPCF',\n",
    "    'DECCFR', 'IDECCFR', 'RDECCFR', 'GDECCFR', 'PDECCFR', 'ADECCFR', 'PJ1_1', 'PJ2_1',\n",
    "    'PJ3_1', 'IDIMPP'\n",
    "]\n",
    "\n",
    "ind_2024 = ind_2024.drop(columns = (lista_con))\n",
    "ind_2004 = ind_2004.drop (columns = (lista_con2))\n"
   ]
  },
  {
   "cell_type": "code",
   "execution_count": 133,
   "metadata": {},
   "outputs": [],
   "source": [
    "combined_04 = pd.merge(ind_2004, hog_2004, on=['CODUSU', 'NRO_HOGAR'], how='outer')\n",
    "combined_24 = pd.merge(ind_2024,hog_2024,on=[\"CODUSU\",\"NRO_HOGAR\"], how = 'outer')"
   ]
  },
  {
   "cell_type": "markdown",
   "metadata": {},
   "source": [
    "# 2. Limpieza\n",
    "Limpien la base de datos tomando criterios que hagan sentido. Explicar\n",
    "cualquier decisión como el tratamiento de valores faltantes (missing\n",
    "values), extremos (outliers), o variables categóricas. Justifique sus\n",
    "decisiones."
   ]
  },
  {
   "cell_type": "code",
   "execution_count": 73,
   "metadata": {},
   "outputs": [],
   "source": [
    "# Se usa base de datos:\n",
    "# 2024: \n",
    "# - combined_24\n",
    "\n",
    "# 2004:\n",
    "# - combined_04"
   ]
  },
  {
   "cell_type": "markdown",
   "metadata": {},
   "source": [
    "##### Limpieza de datos"
   ]
  },
  {
   "cell_type": "code",
   "execution_count": null,
   "metadata": {},
   "outputs": [],
   "source": [
    "# Limpieza de datos tomando criterios que hagan sentido"
   ]
  },
  {
   "cell_type": "markdown",
   "metadata": {},
   "source": [
    "#### Valores Faltantes"
   ]
  },
  {
   "cell_type": "markdown",
   "metadata": {},
   "source": [
    "##### 2004\n",
    "no tiene columnas con valores Nan"
   ]
  },
  {
   "cell_type": "code",
   "execution_count": null,
   "metadata": {},
   "outputs": [
    {
     "name": "stdout",
     "output_type": "stream",
     "text": [
      "Información general:\n",
      "<class 'pandas.core.frame.DataFrame'>\n",
      "RangeIndex: 32911 entries, 0 to 32910\n",
      "Columns: 350 entries, CODUSU to IDIMPP_y\n",
      "dtypes: category(188), float64(91), object(71)\n",
      "memory usage: 46.6+ MB\n",
      "None\n",
      "Columnas con valores faltantes: []\n"
     ]
    }
   ],
   "source": [
    "# Valores faltantes. Reviso si hay valores Nan\n",
    "print(\"Información general:\")\n",
    "print(combined_04.info())  # Muestra tipos de datos y conteos (puedes identificar NaN indirectamente)\n",
    "\n",
    "columnas_con_nan = combined_04.columns[(combined_04.isnull().sum() / len(combined_04)) > 0].tolist()\n",
    "\n",
    "# Mostrar las columnas\n",
    "print(\"Columnas con valores faltantes:\", columnas_con_nan)\n",
    "\n",
    "# No Hay valores Nan, no hay más analisis"
   ]
  },
  {
   "cell_type": "markdown",
   "metadata": {},
   "source": [
    "##### 2024\n",
    "- Tiene columnas con valores Nan\n",
    "- Se revisa la proporción de Nan que hay por columna"
   ]
  },
  {
   "cell_type": "code",
   "execution_count": 78,
   "metadata": {},
   "outputs": [
    {
     "name": "stdout",
     "output_type": "stream",
     "text": [
      "Información general:\n",
      "<class 'pandas.core.frame.DataFrame'>\n",
      "RangeIndex: 7051 entries, 0 to 7050\n",
      "Columns: 263 entries, CODUSU to VII2_4\n",
      "dtypes: float64(112), int32(1), int64(139), object(11)\n",
      "memory usage: 14.1+ MB\n",
      "None\n",
      "Columnas con valores faltantes: ['CH14', 'CH15_COD', 'CH16_COD', 'IMPUTA', 'PP03C', 'PP03D', 'PP3E_TOT', 'PP3F_TOT', 'PP03G', 'PP03H', 'PP03I', 'PP03J', 'INTENSI', 'PP04A', 'PP04B_COD', 'PP04B1', 'PP04B2', 'PP04B3_MES', 'PP04B3_ANO', 'PP04B3_DIA', 'PP04C', 'PP04C99', 'PP04D_COD', 'PP04G', 'PP05B2_MES', 'PP05B2_ANO', 'PP05B2_DIA', 'PP05C_1', 'PP05C_2', 'PP05C_3', 'PP05E', 'PP05F', 'PP05H', 'PP06A', 'PP06C', 'PP06D', 'PP06E', 'PP06H', 'PP07A', 'PP07C', 'PP07D', 'PP07E', 'PP07F1', 'PP07F2', 'PP07F3', 'PP07F4', 'PP07F5', 'PP07G1', 'PP07G2', 'PP07G3', 'PP07G4', 'PP07G_59', 'PP07H', 'PP07I', 'PP07J', 'PP07K', 'PP08D1', 'PP08D4', 'PP08F1', 'PP08F2', 'PP08J1', 'PP08J2', 'PP08J3', 'PP09A', 'PP09A_ESP', 'PP09B', 'PP09C', 'PP09C_ESP', 'PP10A', 'PP10C', 'PP10D', 'PP10E', 'PP11A', 'PP11B_COD', 'PP11B1', 'PP11B2_MES', 'PP11B2_ANO', 'PP11B2_DIA', 'PP11C', 'PP11C99', 'PP11D_COD', 'PP11G_ANO', 'PP11G_MES', 'PP11G_DIA', 'PP11L', 'PP11L1', 'PP11M', 'PP11N', 'PP11O', 'PP11P', 'PP11Q', 'PP11R', 'PP11S', 'PP11T', 'IDECOCUR', 'PDECOCUR', 'P47T', 'IDECINDR', 'PDECINDR', 'IDECIFR_x', 'PDECIFR_x', 'IDECCFR_x', 'PDECCFR_x', 'IV1_ESP', 'IV3_ESP', 'IV7_ESP', 'II7_ESP', 'II8_ESP', 'IDECIFR_y', 'PDECIFR_y', 'IDECCFR_y', 'PDECCFR_y']\n"
     ]
    }
   ],
   "source": [
    "# Valores faltantes. Reviso si hay valores Nan\n",
    "print(\"Información general:\")\n",
    "print(combined_24.info())  # Muestra tipos de datos y conteos (puedes identificar NaN indirectamente)\n",
    "\n",
    "columnas_con_nan = combined_24.columns[(combined_24.isnull().sum() / len(combined_24)) > 0].tolist()\n",
    "\n",
    "# Mostrar las columnas\n",
    "print(\"Columnas con valores faltantes:\", columnas_con_nan)"
   ]
  },
  {
   "cell_type": "code",
   "execution_count": null,
   "metadata": {},
   "outputs": [
    {
     "name": "stdout",
     "output_type": "stream",
     "text": [
      "\n",
      "Porcentaje de valores faltantes por columna:\n",
      "CH14 52.27627286909659\n",
      "CH15_COD 83.1796908239966\n",
      "CH16_COD 99.02141540207062\n",
      "IMPUTA 98.90795631825273\n",
      "PP03C 54.275989221387036\n",
      "PP03D 54.275989221387036\n",
      "PP3E_TOT 54.275989221387036\n",
      "PP3F_TOT 54.275989221387036\n",
      "PP03G 54.275989221387036\n",
      "PP03H 54.275989221387036\n",
      "PP03I 54.275989221387036\n",
      "PP03J 54.275989221387036\n",
      "INTENSI 54.275989221387036\n",
      "PP04A 54.275989221387036\n",
      "PP04B_COD 54.275989221387036\n",
      "PP04B1 54.275989221387036\n",
      "PP04B2 54.275989221387036\n",
      "PP04B3_MES 54.275989221387036\n",
      "PP04B3_ANO 54.275989221387036\n",
      "PP04B3_DIA 54.275989221387036\n",
      "PP04C 54.275989221387036\n",
      "PP04C99 54.275989221387036\n",
      "PP04D_COD 54.275989221387036\n",
      "PP04G 54.275989221387036\n",
      "PP05B2_MES 54.275989221387036\n",
      "PP05B2_ANO 54.275989221387036\n",
      "PP05B2_DIA 54.275989221387036\n",
      "PP05C_1 54.275989221387036\n",
      "PP05C_2 54.275989221387036\n",
      "PP05C_3 54.275989221387036\n",
      "PP05E 54.275989221387036\n",
      "PP05F 54.275989221387036\n",
      "PP05H 54.275989221387036\n",
      "PP06A 54.275989221387036\n",
      "PP06C 54.275989221387036\n",
      "PP06D 54.275989221387036\n",
      "PP06E 54.275989221387036\n",
      "PP06H 54.275989221387036\n",
      "PP07A 54.275989221387036\n",
      "PP07C 54.275989221387036\n",
      "PP07D 54.275989221387036\n",
      "PP07E 54.275989221387036\n",
      "PP07F1 54.275989221387036\n",
      "PP07F2 54.275989221387036\n",
      "PP07F3 54.275989221387036\n",
      "PP07F4 54.275989221387036\n",
      "PP07F5 54.275989221387036\n",
      "PP07G1 54.275989221387036\n",
      "PP07G2 54.275989221387036\n",
      "PP07G3 54.275989221387036\n",
      "PP07G4 54.275989221387036\n",
      "PP07G_59 54.275989221387036\n",
      "PP07H 54.275989221387036\n",
      "PP07I 54.275989221387036\n",
      "PP07J 54.275989221387036\n",
      "PP07K 54.275989221387036\n",
      "PP08D1 54.275989221387036\n",
      "PP08D4 54.275989221387036\n",
      "PP08F1 54.275989221387036\n",
      "PP08F2 54.275989221387036\n",
      "PP08J1 54.275989221387036\n",
      "PP08J2 54.275989221387036\n",
      "PP08J3 54.275989221387036\n",
      "PP09A 54.275989221387036\n",
      "PP09A_ESP 99.78726421784144\n",
      "PP09B 54.275989221387036\n",
      "PP09C 54.275989221387036\n",
      "PP09C_ESP 100.0\n",
      "PP10A 95.58927811657921\n",
      "PP10C 95.58927811657921\n",
      "PP10D 95.58927811657921\n",
      "PP10E 95.58927811657921\n",
      "PP11A 95.58927811657921\n",
      "PP11B_COD 95.57509573110197\n",
      "PP11B1 95.58927811657921\n",
      "PP11B2_MES 95.58927811657921\n",
      "PP11B2_ANO 95.58927811657921\n",
      "PP11B2_DIA 95.58927811657921\n",
      "PP11C 95.58927811657921\n",
      "PP11C99 95.58927811657921\n",
      "PP11D_COD 96.62459225641753\n",
      "PP11G_ANO 95.58927811657921\n",
      "PP11G_MES 95.58927811657921\n",
      "PP11G_DIA 95.58927811657921\n",
      "PP11L 95.58927811657921\n",
      "PP11L1 95.58927811657921\n",
      "PP11M 95.58927811657921\n",
      "PP11N 95.58927811657921\n",
      "PP11O 95.58927811657921\n",
      "PP11P 95.58927811657921\n",
      "PP11Q 95.58927811657921\n",
      "PP11R 95.58927811657921\n",
      "PP11S 95.58927811657921\n",
      "PP11T 95.58927811657921\n",
      "IDECOCUR 100.0\n",
      "PDECOCUR 100.0\n",
      "P47T 0.5814778045667282\n",
      "IDECINDR 100.0\n",
      "PDECINDR 100.0\n",
      "IDECIFR_x 100.0\n",
      "PDECIFR_x 100.0\n",
      "IDECCFR_x 100.0\n",
      "PDECCFR_x 100.0\n",
      "IV1_ESP 99.81562898879591\n",
      "IV3_ESP 99.97163522904553\n",
      "IV7_ESP 99.61707559211459\n",
      "II7_ESP 99.74471706140973\n",
      "II8_ESP 97.20607006098426\n",
      "IDECIFR_y 100.0\n",
      "PDECIFR_y 100.0\n",
      "IDECCFR_y 100.0\n",
      "PDECCFR_y 100.0\n"
     ]
    }
   ],
   "source": [
    "# Obtengo las columnas que contienen datos faltantes, reviso que proporción de los valores faltas\n",
    "\n",
    "# Porcentaje de valores faltantes por columna\n",
    "print(\"\\nPorcentaje de valores faltantes por columna:\")\n",
    "lista_nans_50 = []\n",
    "lista_nans_60 = []\n",
    "lista_nans_70 = []\n",
    "lista_nans_80 = []\n",
    "lista_nans_90 = []\n",
    "lista_nans_100 = []\n",
    "for i in columnas_con_nan:\n",
    "    proporcion_columna = combined_24[i].isnull().sum() / len(combined_24) * 100\n",
    "    if proporcion_columna > 49 and proporcion_columna < 59:\n",
    "        lista_nans_50.append(i)\n",
    "    if proporcion_columna > 49 and proporcion_columna < 59:\n",
    "        lista_nans_60.append(i)\n",
    "    if proporcion_columna > 49 and proporcion_columna < 59:\n",
    "        lista_nans_70.append(i)\n",
    "    if proporcion_columna > 49 and proporcion_columna < 59:\n",
    "        lista_nans_80.append(i)\n",
    "    \n",
    "    \n",
    "    print(i, (combined_24[i].isnull().sum() / len(combined_24)) * 100)"
   ]
  },
  {
   "cell_type": "code",
   "execution_count": 103,
   "metadata": {},
   "outputs": [
    {
     "data": {
      "text/plain": [
       "['CH15_COD',\n",
       " 'CH16_COD',\n",
       " 'IMPUTA',\n",
       " 'PP09A_ESP',\n",
       " 'PP09C_ESP',\n",
       " 'PP10A',\n",
       " 'PP10C',\n",
       " 'PP10D',\n",
       " 'PP10E',\n",
       " 'PP11A',\n",
       " 'PP11B_COD',\n",
       " 'PP11B1',\n",
       " 'PP11B2_MES',\n",
       " 'PP11B2_ANO',\n",
       " 'PP11B2_DIA',\n",
       " 'PP11C',\n",
       " 'PP11C99',\n",
       " 'PP11D_COD',\n",
       " 'PP11G_ANO',\n",
       " 'PP11G_MES',\n",
       " 'PP11G_DIA',\n",
       " 'PP11L',\n",
       " 'PP11L1',\n",
       " 'PP11M',\n",
       " 'PP11N',\n",
       " 'PP11O',\n",
       " 'PP11P',\n",
       " 'PP11Q',\n",
       " 'PP11R',\n",
       " 'PP11S',\n",
       " 'PP11T',\n",
       " 'IDECOCUR',\n",
       " 'PDECOCUR',\n",
       " 'IDECINDR',\n",
       " 'PDECINDR',\n",
       " 'IDECIFR_x',\n",
       " 'PDECIFR_x',\n",
       " 'IDECCFR_x',\n",
       " 'PDECCFR_x',\n",
       " 'IV1_ESP',\n",
       " 'IV3_ESP',\n",
       " 'IV7_ESP',\n",
       " 'II7_ESP',\n",
       " 'II8_ESP',\n",
       " 'IDECIFR_y',\n",
       " 'PDECIFR_y',\n",
       " 'IDECCFR_y',\n",
       " 'PDECCFR_y']"
      ]
     },
     "execution_count": 103,
     "metadata": {},
     "output_type": "execute_result"
    }
   ],
   "source": [
    "lista_nans"
   ]
  },
  {
   "cell_type": "markdown",
   "metadata": {},
   "source": [
    "##### Outliers "
   ]
  },
  {
   "cell_type": "code",
   "execution_count": null,
   "metadata": {},
   "outputs": [],
   "source": [
    "# Outliers\n",
    "# COMBINED 04\n",
    "import pandas as pd\n",
    "\n",
    "# Supongamos que tienes un DataFrame llamado combined_04\n",
    "# Primero seleccionamos solo las columnas numéricas para el análisis\n",
    "numerical_columns = combined_04.select_dtypes(include=['float64', 'int64']).columns\n",
    "\n",
    "# Calculamos los cuartiles y el IQR solo para las columnas numéricas\n",
    "Q1 = combined_04[numerical_columns].quantile(0.25)\n",
    "Q3 = combined_04[numerical_columns].quantile(0.75)\n",
    "IQR = Q3 - Q1\n",
    "\n",
    "# Definir los límites inferior y superior\n",
    "lower_limit = Q1 - 1.5 * IQR\n",
    "upper_limit = Q3 + 1.5 * IQR\n",
    "\n",
    "# Detectar outliers (donde los valores están fuera de los límites)\n",
    "outliers = (combined_04[numerical_columns] < lower_limit) | (combined_04[numerical_columns] > upper_limit)\n",
    "\n",
    "# Mostrar una vista de los outliers por fila\n",
    "outliers_data = combined_04[outliers.any(axis=1)]\n",
    "\n",
    "# Opcional: Mostrar el total de outliers por columna\n",
    "outliers_count = outliers.sum()\n",
    "print(f\"Total de outliers por columna: \\n{outliers_count}\")\n",
    "\n",
    "# Mostrar las filas que contienen outliers\n",
    "print(f\"Filas con outliers: \\n{outliers_data}\")\n",
    "\n",
    "# Eliminar filas con outliers\n",
    "#combined_04_no_outliers = combined_04[~outliers.any(axis=1)]\n",
    "#print(f\"Datos después de eliminar outliers: \\n{combined_04_no_outliers.head()}\")"
   ]
  },
  {
   "cell_type": "markdown",
   "metadata": {},
   "source": [
    "##### 2024"
   ]
  },
  {
   "cell_type": "code",
   "execution_count": null,
   "metadata": {},
   "outputs": [],
   "source": [
    "# COMBINED 24\n",
    "import pandas as pd\n",
    "\n",
    "# Supongamos que tienes un DataFrame llamado combined_04\n",
    "# Primero seleccionamos solo las columnas numéricas para el análisis\n",
    "numerical_columns = combined_24.select_dtypes(include=['float64', 'int64']).columns\n",
    "\n",
    "# Calculamos los cuartiles y el IQR solo para las columnas numéricas\n",
    "Q1 = combined_24[numerical_columns].quantile(0.25)\n",
    "Q3 = combined_24[numerical_columns].quantile(0.75)\n",
    "IQR = Q3 - Q1\n",
    "\n",
    "# Definir los límites inferior y superior\n",
    "lower_limit = Q1 - 1.5 * IQR\n",
    "upper_limit = Q3 + 1.5 * IQR\n",
    "\n",
    "# Detectar outliers (donde los valores están fuera de los límites)\n",
    "outliers = (combined_24[numerical_columns] < lower_limit) | (combined_24[numerical_columns] > upper_limit)\n",
    "\n",
    "# Mostrar una vista de los outliers por fila\n",
    "outliers_data = combined_24[outliers.any(axis=1)]\n",
    "\n",
    "# Opcional: Mostrar el total de outliers por columna\n",
    "outliers_count = outliers.sum()\n",
    "print(f\"Total de outliers por columna: \\n{outliers_count}\")\n",
    "\n",
    "# Mostrar las filas que contienen outliers\n",
    "print(f\"Filas con outliers: \\n{outliers_data}\")\n",
    "\n",
    "# Eliminar filas con outliers\n",
    "#combined_04_no_outliers = combined_04[~outliers.any(axis=1)]\n",
    "#print(f\"Datos después de eliminar outliers: \\n{combined_04_no_outliers.head()}\")"
   ]
  },
  {
   "cell_type": "markdown",
   "metadata": {},
   "source": [
    "##### Variables categoricas"
   ]
  },
  {
   "cell_type": "code",
   "execution_count": null,
   "metadata": {},
   "outputs": [],
   "source": [
    "# Variables categoricas\n",
    "\n",
    "lista = combined_04.columns.tolist()\n",
    "lista"
   ]
  },
  {
   "cell_type": "markdown",
   "metadata": {},
   "source": [
    "##### 2004"
   ]
  },
  {
   "cell_type": "code",
   "execution_count": null,
   "metadata": {},
   "outputs": [],
   "source": [
    "# Variables categoricas 04\n",
    "origin_dummies = pd.get_dummies(auto['origin'], prefix='origin')\n",
    "# Concatenamos con el df original\n",
    "auto_d = pd.concat([auto, origin_dummies], axis=1)\n",
    "\n",
    "\n",
    "\n",
    "\n",
    "# CH05 (fecha de nacimiento)\n",
    "# CH06 \n",
    "# PP03D\n",
    "# PP3E_TOT\n",
    "# PP3F_TOT\n",
    "# PP04B2\n",
    "# PP04B3_MES\n",
    "# PP04B3_ANO"
   ]
  },
  {
   "cell_type": "code",
   "execution_count": null,
   "metadata": {},
   "outputs": [],
   "source": [
    "# Paso 1: Identificar las columnas numéricas continuas\n",
    "numerical_columns = combined_04.select_dtypes(include=['float64', 'int64']).columns\n",
    "print(\"Columnas numéricas continuas:\")\n",
    "print(numerical_columns)\n",
    "\n",
    "# Paso 2: Identificar las columnas categóricas\n",
    "categorical_columns = combined_04.select_dtypes(include=['object', 'category']).columns\n",
    "print(\"Columnas categóricas:\")\n",
    "print(categorical_columns)\n",
    "\n",
    "# Paso 3: Convertir las columnas categóricas en variables dummies\n",
    "combined_04_dummies = pd.get_dummies(combined_04, columns=categorical_columns, drop_first=True)\n",
    "\n",
    "# Mostrar el DataFrame resultante\n",
    "print(\"DataFrame con variables dummy:\")\n",
    "print(combined_04_dummies.head())"
   ]
  },
  {
   "cell_type": "code",
   "execution_count": null,
   "metadata": {},
   "outputs": [],
   "source": [
    "# Convertir una columna numérica discreta en categórica (si tiene pocos valores únicos)\n",
    "combined_04['H15_x'] = combined_04['H15_x'].astype('category')\n",
    "\n",
    "# Identificar las columnas categóricas después de la conversión\n",
    "categorical_columns = combined_04.select_dtypes(include=['object', 'category']).columns\n",
    "print(\"Columnas categóricas después de la conversión:\")\n",
    "print(categorical_columns)"
   ]
  },
  {
   "cell_type": "markdown",
   "metadata": {},
   "source": [
    "##### 2024"
   ]
  },
  {
   "cell_type": "code",
   "execution_count": null,
   "metadata": {},
   "outputs": [],
   "source": []
  },
  {
   "cell_type": "code",
   "execution_count": null,
   "metadata": {},
   "outputs": [],
   "source": [
    "numericas = [\"CH05\",\"CH06\",\"PP03D\",\"PP3E_TOT\",\"PP3F_TOT\",\"PP04B2\",\"PP04B3_MES\",\"PP04B3_ANO\",\"PP04B3_DIA\",\"CODUSU\",\"NRO_HOGAR\",\"IV2\",\"IV1_ESP\",\"IV7_ESP\"]\n",
    "\n",
    "\n",
    "\n",
    "\n",
    "for item in numericas:\n",
    "    if item in lista:\n",
    "        lista.remove(item)\n",
    "\n",
    "\n",
    "\n",
    "# CH05 (fecha de nacimiento)\n",
    "# CH06 \n",
    "# PP03D\n",
    "# PP3E_TOT\n",
    "# PP3F_TOT\n",
    "# PP04B2\n",
    "# PP04B3_MES\n",
    "# PP04B3_ANO"
   ]
  }
 ],
 "metadata": {
  "kernelspec": {
   "display_name": "Python 3",
   "language": "python",
   "name": "python3"
  },
  "language_info": {
   "codemirror_mode": {
    "name": "ipython",
    "version": 3
   },
   "file_extension": ".py",
   "mimetype": "text/x-python",
   "name": "python",
   "nbconvert_exporter": "python",
   "pygments_lexer": "ipython3",
   "version": "3.12.4"
  }
 },
 "nbformat": 4,
 "nbformat_minor": 2
}
