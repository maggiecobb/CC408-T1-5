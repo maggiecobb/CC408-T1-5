{
 "cells": [
  {
   "cell_type": "markdown",
   "metadata": {
    "collapsed": true,
    "id": "Dh8MkXaG-c9Y"
   },
   "source": [
    "# Ciencia de datos (CC408) - Primavera 2024\n",
    "\n",
    "## Trabajo Práctico 1 - Parte 2"
   ]
  },
  {
   "cell_type": "markdown",
   "metadata": {
    "id": "RhBlm6mZ-c9e"
   },
   "source": [
    "### Reglas de formato y presentación\n",
    "- El trabajo debe estar debidamente documentado comentado (utilizando #) para que tanto los docentes como sus compañeros puedan comprender el código fácilmente.\n",
    "\n",
    "- El mismo debe ser completado en este Jupyter Notebook y entregado como tal, es decir en un archivo .ipynb\n"
   ]
  },
  {
   "cell_type": "markdown",
   "metadata": {
    "id": "ZEjGaa4U-c9g"
   },
   "source": [
    "### Fecha de entrega:\n",
    "Domingo Domingo 8 de septiembre a las 23:59hs"
   ]
  },
  {
   "cell_type": "markdown",
   "metadata": {
    "id": "N9TU2y7E-c9h"
   },
   "source": [
    "### Modalidad de entrega\n",
    "- Al finalizar el trabajo práctico deben hacer un último <i>commit</i> en su repositorio de GitHub llamado “Entrega final del tp”. \n",
    "- Asegurense de haber creado una carpeta llamada TP1. Este Jupyter Notebook y el correspondiente al TP1 - Parte 2 deben estar dentro de esa carpeta.\n",
    "- También deben enviar el link de su repositorio -para que pueda ser clonado y corregido- al siguiente email: ispiousas@udesa.edu.ar\n",
    "- La última versión en el repositorio es la que será evaluada. Por lo que es importante que: \n",
    "    - No envien el correo hasta no haber terminado y estar seguros de que han hecho el <i>commit y push</i> a la versión final que quieren entregar. Debido a que se pueden tomar hasta 3 días de extensión a lo largo del curso, no se corregirán sus tareas hasta no recibir el correo.\n",
    "    - No hagan nuevos <i>push</i> despues de haber entregado su versión final. Esto generaría confusión acerca de que versión es la que quieren que se les corrija. "
   ]
  },
  {
   "cell_type": "markdown",
   "metadata": {},
   "source": [
    "### Parte A"
   ]
  },
  {
   "cell_type": "markdown",
   "metadata": {
    "id": "ZXbrPraa-c9i"
   },
   "source": [
    "#### Ejercicio 1\n",
    "Usando la API de Mercado Libre, obtener los ítems de una consulta de búsqueda. Pueden buscar cualquier producto de su interés."
   ]
  },
  {
   "cell_type": "code",
   "execution_count": 9,
   "metadata": {},
   "outputs": [
    {
     "name": "stdout",
     "output_type": "stream",
     "text": [
      "<Response [200]>\n",
      "Longitud de lista de resultados: 49\n",
      "ID: MLA1436049213\n",
      "Título: Termo Stanley Mate System Classic De Acero Inoxidable 1.2l\n",
      "Precio: 137664\n",
      "Link: https://www.mercadolibre.com.ar/termo-stanley-mate-system-classic-de-acero-inoxidable-12l/p/MLA34703283#wid=MLA1436049213&sid=unknown\n",
      "Categoría: MLA47769\n",
      "ID: MLA1375139643\n",
      "Título: Termo Stanley Mate System 1.2 Lts Maple\n",
      "Precio: 146500\n",
      "Link: https://www.mercadolibre.com.ar/termo-stanley-mate-system-12-lts-maple/p/MLA23611290#wid=MLA1375139643&sid=unknown\n",
      "Categoría: MLA47769\n",
      "ID: MLA1747875686\n",
      "Título: Stanley Mate System 800ml Negro\n",
      "Precio: 116869\n",
      "Link: https://www.mercadolibre.com.ar/stanley-mate-system-800ml-negro/p/MLA21427939#wid=MLA1747875686&sid=unknown\n",
      "Categoría: MLA47769\n",
      "ID: MLA1340630676\n",
      "Título: Termo Stanley Mate System Maple 800ml\n",
      "Precio: 116320.85\n",
      "Link: https://www.mercadolibre.com.ar/termo-stanley-mate-system-maple-800ml/p/MLA22098660#wid=MLA1340630676&sid=unknown\n",
      "Categoría: MLA47769\n",
      "ID: MLA1420858685\n",
      "Título: Termo Stanley Clásico De Acero Inoxidable 950ml Lake\n",
      "Precio: 116500\n",
      "Link: https://www.mercadolibre.com.ar/termo-stanley-clasico-de-acero-inoxidable-950ml-lake/p/MLA35515678#wid=MLA1420858685&sid=unknown\n",
      "Categoría: MLA47769\n",
      "ID: MLA1547571548\n",
      "Título: Termo Stanley Clásico 1.4lts Lake\n",
      "Precio: 132000\n",
      "Link: https://www.mercadolibre.com.ar/termo-stanley-clasico-14lts-lake/p/MLA25158425#wid=MLA1547571548&sid=unknown\n",
      "Categoría: MLA47769\n",
      "ID: MLA1852464480\n",
      "Título: Termo Stanley Original Mate System Classic 1.2 Litros\n",
      "Precio: 219000\n",
      "Link: https://www.mercadolibre.com.ar/termo-stanley-original-mate-system-classic-12-litros/p/MLA19761025#wid=MLA1852464480&sid=unknown\n",
      "Categoría: MLA47769\n",
      "ID: MLA1735699314\n",
      "Título: Combo Stanley Termo Classic 950ml Y Mate Acero Inoxidable Rosa\n",
      "Precio: 166152\n",
      "Link: https://www.mercadolibre.com.ar/combo-stanley-termo-classic-950ml-y-mate-acero-inoxidable-rosa/p/MLA35537113#wid=MLA1735699314&sid=unknown\n",
      "Categoría: MLA47769\n",
      "ID: MLA1899438554\n",
      "Título: Termo Stanley Classic 1.4 Lts Rosa\n",
      "Precio: 124039\n",
      "Link: https://www.mercadolibre.com.ar/termo-stanley-classic-14-lts-rosa/p/MLA30995261#wid=MLA1899438554&sid=unknown\n",
      "Categoría: MLA47769\n",
      "ID: MLA1432201931\n",
      "Título: Stanley Termo Classic 1.4l Rosa\n",
      "Precio: 132000\n",
      "Link: https://www.mercadolibre.com.ar/stanley-termo-classic-14l-rosa/p/MLA35966404#wid=MLA1432201931&sid=unknown\n",
      "Categoría: MLA47769\n",
      "ID: MLA1443576829\n",
      "Título: Termo Stanley Classic Mate System De Acero Inoxidable 1.2l\n",
      "Precio: 146500\n",
      "Link: https://www.mercadolibre.com.ar/termo-stanley-classic-mate-system-de-acero-inoxidable-12l/p/MLA37853934#wid=MLA1443576829&sid=unknown\n",
      "Categoría: MLA47769\n",
      "ID: MLA1412014389\n",
      "Título: Termo Stanley Adventure To-go Blanco 1 Lt\n",
      "Precio: 116500\n",
      "Link: https://www.mercadolibre.com.ar/termo-stanley-adventure-to-go-blanco-1-lt/p/MLA25735491#wid=MLA1412014389&sid=unknown\n",
      "Categoría: MLA47769\n",
      "ID: MLA1436002593\n",
      "Título: Termo Stanley 591 Ml Con Tapón Cebador Rosa\n",
      "Precio: 91150\n",
      "Link: https://www.mercadolibre.com.ar/termo-stanley-591-ml-con-tapon-cebador-rosa/p/MLA25817897#wid=MLA1436002593&sid=unknown\n",
      "Categoría: MLA47769\n",
      "ID: MLA1423469449\n",
      "Título: Termo Stanley New Classic 950 Ml Manija Cebador Mate Cafe Color Verde\n",
      "Precio: 116500\n",
      "Link: https://www.mercadolibre.com.ar/termo-stanley-new-classic-950-ml-manija-cebador-mate-cafe-color-verde/p/MLA35230993#wid=MLA1423469449&sid=unknown\n",
      "Categoría: MLA47769\n",
      "ID: MLA1372014624\n",
      "Título: Termo Stanley Clásico 1 Litro\n",
      "Precio: 139506.45\n",
      "Link: https://www.mercadolibre.com.ar/termo-stanley-clasico-1-litro/p/MLA22716834#wid=MLA1372014624&sid=unknown\n",
      "Categoría: MLA47769\n",
      "ID: MLA1447940386\n",
      "Título: Stanley Termo Adventure 500 Ml Polar\n",
      "Precio: 87769\n",
      "Link: https://www.mercadolibre.com.ar/stanley-termo-adventure-500-ml-polar/p/MLA22778114#wid=MLA1447940386&sid=unknown\n",
      "Categoría: MLA47769\n",
      "ID: MLA1404261469\n",
      "Título: Termo Stanley Adventure 1 Lt.\n",
      "Precio: 111000\n",
      "Link: https://articulo.mercadolibre.com.ar/MLA-1404261469-termo-stanley-adventure-1-lt-_JM\n",
      "Categoría: MLA47769\n",
      "ID: MLA1444421407\n",
      "Título: Stanley Termo Classic| 950 Ml\n",
      "Precio: 116500\n",
      "Link: https://www.mercadolibre.com.ar/stanley-termo-classic-950-ml/p/MLA22988474#wid=MLA1444421407&sid=unknown\n",
      "Categoría: MLA47769\n",
      "ID: MLA1685243188\n",
      "Título: Termo Stanley Adventure To-go Negro| 1 Lt\n",
      "Precio: 116500\n",
      "Link: https://www.mercadolibre.com.ar/termo-stanley-adventure-to-go-negro-1-lt/p/MLA25397348#wid=MLA1685243188&sid=unknown\n",
      "Categoría: MLA47769\n",
      "ID: MLA1823102770\n",
      "Título: Termo Stanley Clásico 950ml Negro De Acero Inoxidable\n",
      "Precio: 116500\n",
      "Link: https://www.mercadolibre.com.ar/termo-stanley-clasico-950ml-negro-de-acero-inoxidable/p/MLA15558230#wid=MLA1823102770&sid=unknown\n",
      "Categoría: MLA47769\n",
      "ID: MLA1635402268\n",
      "Título: Stanley Termo Clásico 1.9 Lts De Acero Inoxidable Verde\n",
      "Precio: 143000\n",
      "Link: https://www.mercadolibre.com.ar/stanley-termo-clasico-19-lts-de-acero-inoxidable-verde/p/MLA15542569#wid=MLA1635402268&sid=unknown\n",
      "Categoría: MLA47769\n",
      "ID: MLA1895158870\n",
      "Título: Termo Stanley Adventure To-go 1.3 Lts Color Charcoal\n",
      "Precio: 123928.45\n",
      "Link: https://www.mercadolibre.com.ar/termo-stanley-adventure-to-go-13-lts-color-charcoal/p/MLA34220670#wid=MLA1895158870&sid=unknown\n",
      "Categoría: MLA47769\n",
      "ID: MLA1683531436\n",
      "Título: Termo Stanley Classic Legendary Bottle Classic Legendary Bottle 1.0 Qt De Acero Inoxidable Matte Black \n",
      "Precio: 116500\n",
      "Link: https://www.mercadolibre.com.ar/termo-stanley-classic-legendary-bottle-classic-legendary-bottle-10-qt-de-acero-inoxidable-matte-black/p/MLA15542562#wid=MLA1683531436&sid=unknown\n",
      "Categoría: MLA47769\n",
      "ID: MLA1421047093\n",
      "Título: Combo Stanley Termo Clasico 950ml Negro\n",
      "Precio: 176500\n",
      "Link: https://www.mercadolibre.com.ar/combo-stanley-termo-clasico-950ml-negro/p/MLA35509370#wid=MLA1421047093&sid=unknown\n",
      "Categoría: MLA47769\n",
      "ID: MLA1383073701\n",
      "Título: Termo Stanley Classic Legendary Bottle 2.5 Qt De Acero Inoxidable Hammertone Green\n",
      "Precio: 157500\n",
      "Link: https://www.mercadolibre.com.ar/termo-stanley-classic-legendary-bottle-25-qt-de-acero-inoxidable-hammertone-green/p/MLA15542550#wid=MLA1383073701&sid=unknown\n",
      "Categoría: MLA47769\n",
      "ID: MLA1466024780\n",
      "Título: Termo Stanley 950ml Manija Pico Cebador\n",
      "Precio: 116500\n",
      "Link: https://articulo.mercadolibre.com.ar/MLA-1466024780-termo-stanley-950ml-manija-pico-cebador-_JM\n",
      "Categoría: MLA47769\n",
      "ID: MLA1375174865\n",
      "Título: Termo Stanley Original Mate System Classic 800 Ml\n",
      "Precio: 124500\n",
      "Link: https://articulo.mercadolibre.com.ar/MLA-1375174865-termo-stanley-original-mate-system-classic-800-ml-_JM\n",
      "Categoría: MLA47769\n",
      "ID: MLA1894820962\n",
      "Título: Botella Termo Stanley Classic Flip Straw Tumbler 900ml Color Plum Stripe\n",
      "Precio: 92500\n",
      "Link: https://www.mercadolibre.com.ar/botella-termo-stanley-classic-flip-straw-tumbler-900ml-color-plum-stripe/p/MLA39937953#wid=MLA1894820962&sid=unknown\n",
      "Categoría: MLA47769\n",
      "ID: MLA1742956276\n",
      "Título: Combo Stanley Termo 950 Ml+ Mate 236 Ml Color Verde\n",
      "Precio: 176500\n",
      "Link: https://www.mercadolibre.com.ar/combo-stanley-termo-950-ml-mate-236-ml-color-verde/p/MLA35821426#wid=MLA1742956276&sid=unknown\n",
      "Categoría: MLA47769\n",
      "ID: MLA1432175865\n",
      "Título: Stanley Termo Stanley Classic De Acero Inoxidable 1.4l Lavaliso\n",
      "Precio: 132000\n",
      "Link: https://www.mercadolibre.com.ar/stanley-termo-stanley-classic-de-acero-inoxidable-14l-lavaliso/p/MLA35966405#wid=MLA1432175865&sid=unknown\n",
      "Categoría: MLA47769\n",
      "ID: MLA1780012406\n",
      "Título: Termo Stanley Classic 950ml Rosa \n",
      "Precio: 129999\n",
      "Link: https://www.mercadolibre.com.ar/termo-stanley-classic-950ml-rosa/p/MLA24254433#wid=MLA1780012406&sid=unknown\n",
      "Categoría: MLA47769\n",
      "ID: MLA1425616341\n",
      "Título: Termo Stanley Alimentos - Vianda Térmica All In One - 532ml Color Plateado\n",
      "Precio: 104500\n",
      "Link: https://www.mercadolibre.com.ar/termo-stanley-alimentos-vianda-termica-all-in-one-532ml-color-plateado/p/MLA23089685#wid=MLA1425616341&sid=unknown\n",
      "Categoría: MLA47769\n",
      "ID: MLA1895210660\n",
      "Título: Termo Stanley Adventure To-go 1.3 Lts Color Polar\n",
      "Precio: 123928.45\n",
      "Link: https://www.mercadolibre.com.ar/termo-stanley-adventure-to-go-13-lts-color-polar/p/MLA36294086#wid=MLA1895210660&sid=unknown\n",
      "Categoría: MLA47769\n",
      "ID: MLA1443174607\n",
      "Título: Termo Stanley 739 Ml Adventure Polar\n",
      "Precio: 94331\n",
      "Link: https://www.mercadolibre.com.ar/termo-stanley-739-ml-adventure-polar/p/MLA22900038#wid=MLA1443174607&sid=unknown\n",
      "Categoría: MLA47769\n",
      "ID: MLA1895249536\n",
      "Título: Termo Stanley The Adventure To Go Bottle\n",
      "Precio: 93000\n",
      "Link: https://www.mercadolibre.com.ar/termo-stanley-the-adventure-to-go-bottle/p/MLA23751742#wid=MLA1895249536&sid=unknown\n",
      "Categoría: MLA47769\n",
      "ID: MLA1663738342\n",
      "Título: Termo Stanley Adventure To-go 500 Ml\n",
      "Precio: 90000\n",
      "Link: https://articulo.mercadolibre.com.ar/MLA-1663738342-termo-stanley-adventure-to-go-500-ml-_JM\n",
      "Categoría: MLA47769\n",
      "ID: MLA1388943245\n",
      "Título: Termo Stanley Clásico 1.4lts Negro\n",
      "Precio: 173757\n",
      "Link: https://www.mercadolibre.com.ar/termo-stanley-clasico-14lts-negro/p/MLA15542579#wid=MLA1388943245&sid=unknown\n",
      "Categoría: MLA47769\n",
      "ID: MLA1868164574\n",
      "Título: Termo Stanley Adventure To-go 1 Litro Frio Calor Acero Inox Color Charcoal\n",
      "Precio: 150285\n",
      "Link: https://www.mercadolibre.com.ar/termo-stanley-adventure-to-go-1-litro-frio-calor-acero-inox-color-charcoal/p/MLA35613134#wid=MLA1868164574&sid=unknown\n",
      "Categoría: MLA47769\n",
      "ID: MLA1903938764\n",
      "Título: Termo Stanley Acero Inoxidable Adventure 1 Litro Vacuum Color Blanco\n",
      "Precio: 70000\n",
      "Link: https://www.mercadolibre.com.ar/termo-stanley-acero-inoxidable-adventure-1-litro-vacuum-color-blanco/p/MLA35594897#wid=MLA1903938764&sid=unknown\n",
      "Categoría: MLA47769\n",
      "ID: MLA1154195096\n",
      "Título: Termo Stanley Original Mate System Classic 800ml\n",
      "Precio: 124500\n",
      "Link: https://articulo.mercadolibre.com.ar/MLA-1154195096-termo-stanley-original-mate-system-classic-800ml-_JM\n",
      "Categoría: MLA47769\n",
      "ID: MLA1284006523\n",
      "Título: Termo Stanley 950ml Pico Cebador Termico + Caja Original\n",
      "Precio: 117799.05\n",
      "Link: https://articulo.mercadolibre.com.ar/MLA-1284006523-termo-stanley-950ml-pico-cebador-termico-caja-original-_JM\n",
      "Categoría: MLA47769\n",
      "ID: MLA1495350144\n",
      "Título: Termo 1.4lt Clásic Pico Cebador Stanley Camuflado Frio/calor Color Cammo\n",
      "Precio: 175655\n",
      "Link: https://www.mercadolibre.com.ar/termo-14lt-clasic-pico-cebador-stanley-camuflado-friocalor-color-cammo/p/MLA24137532#wid=MLA1495350144&sid=unknown\n",
      "Categoría: MLA47769\n",
      "ID: MLA1163985966\n",
      "Título: Termo Stanley Clasico 1.4 Lt Pico Cebador Stanley Rojo Lava\n",
      "Precio: 131999.99\n",
      "Link: https://www.mercadolibre.com.ar/termo-stanley-clasico-14-lt-pico-cebador-stanley-rojo-lava/p/MLA23138904#wid=MLA1163985966&sid=unknown\n",
      "Categoría: MLA47769\n",
      "ID: MLA1421819531\n",
      "Título: Termo Stanley Clásico 950ml Acero Inoxidable Libre De Bpa Color Azul Nightfall\n",
      "Precio: 116500\n",
      "Link: https://www.mercadolibre.com.ar/termo-stanley-clasico-950ml-acero-inoxidable-libre-de-bpa-color-azul-nightfall/p/MLA35554858#wid=MLA1421819531&sid=unknown\n",
      "Categoría: MLA47769\n",
      "ID: MLA1698188738\n",
      "Título: Termo Stanley Adventure To-go De Acero Inoxidable 1.3l Clayliso\n",
      "Precio: 126500\n",
      "Link: https://www.mercadolibre.com.ar/termo-stanley-adventure-to-go-de-acero-inoxidable-13l-clayliso/p/MLA34255781#wid=MLA1698188738&sid=unknown\n",
      "Categoría: MLA47769\n",
      "ID: MLA1441715835\n",
      "Título: Termo Stanley Mate System Classic De Acero Inoxidable 1.2lt + Mate\n",
      "Precio: 191559\n",
      "Link: https://www.mercadolibre.com.ar/termo-stanley-mate-system-classic-de-acero-inoxidable-12lt-mate/p/MLA34669880#wid=MLA1441715835&sid=unknown\n",
      "Categoría: MLA47769\n",
      "ID: MLA1436067219\n",
      "Título: Termo Stanley Classic Bottle 590 Ml\n",
      "Precio: 91150\n",
      "Link: https://www.mercadolibre.com.ar/termo-stanley-classic-bottle-590-ml/p/MLA20009732#wid=MLA1436067219&sid=unknown\n",
      "Categoría: MLA47769\n",
      "ID: MLA1436066059\n",
      "Título: Termo Stanley Classic Lake 591ml\n",
      "Precio: 97000\n",
      "Link: https://www.mercadolibre.com.ar/termo-stanley-classic-lake-591ml/p/MLA27971180#wid=MLA1436066059&sid=unknown\n",
      "Categoría: MLA47769\n"
     ]
    }
   ],
   "source": [
    "# Resolver acá\n",
    "#!pip install requests\n",
    "import requests\n",
    "\n",
    "#busco el producto que quiero\n",
    "buscar = \"termo stanley\"\n",
    "url = \"https://api.mercadolibre.com/sites/{}/search?q={}\".format(\"MLA\", buscar.replace(\" \", \"%20\"))\n",
    "response = requests.request(\"GET\", url)\n",
    "print(response)\n",
    "response.text\n",
    "\n",
    "# guardo resultados en un diccionario\n",
    "data = response.json()\n",
    "data\n",
    "\n",
    "# guardo resultados en una lista\n",
    "results = data.get('results', [])\n",
    "\n",
    "# longitud de la lista de resultados\n",
    "print('Longitud de lista de resultados:', len(data['results']))\n",
    "\n",
    "#defino cantidad de productos que quiero ver\n",
    "limit = min(48, len(results)) \n",
    "\n",
    "for i in range(limit):\n",
    "    product = results[i]\n",
    "    print(f\"ID: {product.get('id')}\")\n",
    "    print(f\"Título: {product.get('title')}\")\n",
    "    print(f\"Precio: {product.get('price')}\")\n",
    "    print(f\"Link: {product.get('permalink')}\")\n",
    "    print(f\"Categoría: {product.get('category_id')}\")\n",
    "\n"
   ]
  },
  {
   "cell_type": "markdown",
   "metadata": {},
   "source": [
    "#### Ejercicio 2\n",
    "Guarden los precios de los ítems obtenidos en un dataframe y calculen el precio promedio, el mínimo y el máximo. "
   ]
  },
  {
   "cell_type": "code",
   "execution_count": 5,
   "metadata": {},
   "outputs": [
    {
     "name": "stdout",
     "output_type": "stream",
     "text": [
      "Precio promedio: 127653.38\n",
      "Precio minimo: 70000.0\n",
      "Precio maximo: 219000.0\n"
     ]
    }
   ],
   "source": [
    "# Resolver acá\n",
    "import pandas as pd \n",
    "prices = [results[i].get(\"price\") for i in range(limit)]\n",
    "#precios \n",
    "df_items = pd.DataFrame(prices,columns=[\"Precio\"])\n",
    "precio_promedio = df_items[\"Precio\"].mean()\n",
    "precio_minimo = df_items[\"Precio\"].min()\n",
    "precio_maximo = df_items[\"Precio\"].max()\n",
    "\n",
    "print(f\"Precio promedio: {precio_promedio}\")\n",
    "print(f\"Precio minimo: {precio_minimo}\")\n",
    "print(f\"Precio maximo: {precio_maximo}\")\n"
   ]
  },
  {
   "cell_type": "markdown",
   "metadata": {},
   "source": [
    "#### Ejercicio 3\n",
    "Armen un histograma de los precios. ¿Ven algún <i>outlier<i>? \n",
    "Nota: pueden usar la librería de Matplotlib o la de Pandas."
   ]
  },
  {
   "cell_type": "code",
   "execution_count": 6,
   "metadata": {},
   "outputs": [
    {
     "data": {
      "image/png": "[encoded data removed]",
      "text/plain": [
       "<Figure size 1000x600 with 1 Axes>"
      ]
     },
     "metadata": {},
     "output_type": "display_data"
    }
   ],
   "source": [
    "# Resolver acá\n",
    "import matplotlib.pyplot as plt\n",
    "plt.figure(figsize=(10, 6))\n",
    "plt.hist(df['Precio'], bins=10, edgecolor='black')\n",
    "plt.title('Histograma de Precios')\n",
    "plt.xlabel('Precio')\n",
    "plt.ylabel('Frecuencia')\n",
    "plt.grid(True)\n",
    "plt.show()\n",
    "\n",
    "#La mayoría de los precios están alrededor de los $120.000. Varían entre $80.000 y $220.000. "
   ]
  },
  {
   "cell_type": "markdown",
   "metadata": {},
   "source": [
    "#### Ejercicio 4\n",
    "Realicen alguna consulta adicional utilizando la API de Mercado Libre (debe ser alguna consulta que no se haya visto en clase. Por ejemplo, obtener los ítems de un vendedor en particular, obtener los productos de una categoría u otros). Analicen los resultados y comenten uno o dos que les parezcan interesantes (por ejemplo, precios promedio de los productos de un vendedor, diferencia entre el precio original y actual, si acepta mercado pago para la compra de productos, etc.) "
   ]
  },
  {
   "cell_type": "code",
   "execution_count": 1,
   "metadata": {},
   "outputs": [
    {
     "name": "stdout",
     "output_type": "stream",
     "text": [
      "   Categoria  Precio Promedio\n",
      "0   MLA47769       61194.6094\n",
      "1    MLA4749       58787.4288\n",
      "2  MLA417845      234650.9574\n"
     ]
    }
   ],
   "source": [
    "# Resolver acá\n",
    "import requests\n",
    "import pandas as pd\n",
    "\n",
    "# ID de las categorías = termo stanley, mesa ratona y fogonero\n",
    "category_ids = [\"MLA47769\", \"MLA4749\", \"MLA417845\"]\n",
    "\n",
    "# Función para obtener precios de productos en una categoría\n",
    "def obtener_precios_categoria(category_id):\n",
    "    url = f'https://api.mercadolibre.com/sites/MLA/search?category={category_id}&limit=50'\n",
    "    response = requests.get(url)\n",
    "    if response.status_code == 200:\n",
    "        data = response.json()\n",
    "        prices = [item.get('price') for item in data.get('results', [])]\n",
    "        return prices\n",
    "    \n",
    "\n",
    "# diccionario para almacenar los precios por categoría\n",
    "precios_por_categoria = {}\n",
    "\n",
    "# precios para cada categoría\n",
    "for category_id in category_ids:\n",
    "    precios = obtener_precios_categoria(category_id)\n",
    "    precios_por_categoria[category_id] = precios\n",
    "\n",
    "# DataFrame para almacenar los resultados\n",
    "resultados = []\n",
    "for category_id, precios in precios_por_categoria.items():\n",
    "        df = pd.DataFrame(precios, columns=[\"Precio\"])\n",
    "        precio_promedio = df[\"Precio\"].mean()\n",
    "        resultados.append({\"Categoria\": category_id, \"Precio Promedio\": precio_promedio})\n",
    "\n",
    "\n",
    "# DataFrame con los resultados\n",
    "df_resultados = pd.DataFrame(resultados)\n",
    "\n",
    "print(df_resultados)\n",
    "\n"
   ]
  },
  {
   "cell_type": "markdown",
   "metadata": {},
   "source": [
    "### Parte B"
   ]
  },
  {
   "cell_type": "markdown",
   "metadata": {},
   "source": [
    "#### Ejercicio 5\n",
    "De la página de noticias del [diario La Nación](https://www.lanacion.com.ar/), utilicen herramientas de web scraping para obtener los links de las noticias de la portada. Guarden los links obtenidos en un dataframe y expórtenlo a un archivo de excel.\n",
    "\n",
    "Nota 1: es posible que logren obtener los links a las noticias sin el dominio: \"https://www.lanacion.com.ar/\". De ser así, concatenen el dominio a la ruta del link obtenido, tal que se obtenga un link al que se pueda acceder. Es decir, que las cadenas de caracteres finales tendrán la forma: https://www.lanacion.com.ar/*texto_obtenido*)\n",
    "\n",
    "Nota 2: junto con su entrega, adjunten una captura de la página de noticias al momento de correr su código. Eso servirá al momento de la corrección para verificar que los links obtenidos hacen referencia a las noticias de ese día y hora."
   ]
  },
  {
   "cell_type": "code",
   "execution_count": null,
   "metadata": {},
   "outputs": [],
   "source": [
    "#Instalo e importo las librerias y paquetes que necesito\n",
    "!pip install requests\n",
    "!pip install BeautifulSoup\n",
    "!pip install pandas\n",
    "\n",
    "import requests \n",
    "from bs4 import BeautifulSoup \n",
    "import pandas as pd \n",
    "import openpyxl"
   ]
  },
  {
   "cell_type": "code",
   "execution_count": 66,
   "metadata": {},
   "outputs": [],
   "source": [
    "# Resolver acá\n",
    "\n",
    "#variable del dominio de origen\n",
    "url_LN = \"https://www.lanacion.com.ar/\"\n",
    "\n",
    "r = requests.get(url_LN) #traigo el contenido del html de La Nacion\n",
    "contenido = r.content\n",
    "soup = BeautifulSoup(contenido, \"html.parser\")\n",
    "\n",
    "#Dentro de la sopa busco los elementos hyperlink <a href>. \n",
    "#Indico que son solo los links de las noticias de la portada (con class_). Aca excluyo hyperlinks que van a otras secciones de la pagina como el clima, por ejemplo.\n",
    "link_elements = soup.find_all('a', href = True, class_ = \"link ln-link flex flex-column --unstyled\")\n",
    "\n",
    "#Creo una lista para guardar los links encontrados\n",
    "hyperlinks = []\n",
    "\n",
    "#Para cada elemento encontrado extraigo unicamente el link (extraigo el elemento \"href\") y lo concateno con el dominio. \n",
    "#Tambien agrego el titulo de la noticia\n",
    "for link_element in link_elements:\n",
    "    hyperlink = str(\"https://www.lanacion.com.ar\" + link_element['href'])\n",
    "    titulo_noticia = str(link_element['title'])\n",
    "\n",
    "    hyperlinks.append({\n",
    "        'Titulo de noticia' : titulo_noticia, \n",
    "        'Link a noticia' : hyperlink         \n",
    "    })"
   ]
  },
  {
   "cell_type": "code",
   "execution_count": null,
   "metadata": {},
   "outputs": [],
   "source": [
    "#Creo un dataframe con los titulos y links de las noticias de la portada\n",
    "df_hyperlinks = pd.DataFrame(hyperlinks)\n",
    "df_hyperlinks\n",
    "\n",
    "#Exporto el dataframe a un archivo de excel\n",
    "df_hyperlinks.to_excel('hyperlinksLN.xlsx', index=False)"
   ]
  }
 ],
 "metadata": {
  "anaconda-cloud": {},
  "colab": {
   "name": "TP1 - Parte 1.ipynb",
   "provenance": []
  },
  "kernelspec": {
   "display_name": "Python 3 (ipykernel)",
   "language": "python",
   "name": "python3"
  },
  "language_info": {
   "codemirror_mode": {
    "name": "ipython",
    "version": 3
   },
   "file_extension": ".py",
   "mimetype": "text/x-python",
   "name": "python",
   "nbconvert_exporter": "python",
   "pygments_lexer": "ipython3",
   "version": "3.9.19"
  }
 },
 "nbformat": 4,
 "nbformat_minor": 1
}
